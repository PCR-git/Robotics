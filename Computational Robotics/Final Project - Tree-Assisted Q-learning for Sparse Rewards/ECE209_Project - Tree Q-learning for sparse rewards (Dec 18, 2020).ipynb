{
  "nbformat": 4,
  "nbformat_minor": 0,
  "metadata": {
    "colab": {
      "name": "209 Project.ipynb",
      "provenance": [],
      "collapsed_sections": [
        "tRpictxGFvCe",
        "s_tmSbmRRyFP",
        "ZEtjWL64usf8",
        "JflJ0p3F5vHs",
        "6neyHjL0cm_T",
        "BJqVb2nD4KK0",
        "zVNPxtXeS55t",
        "18nG2t5l4GQW"
      ],
      "toc_visible": true
    },
    "kernelspec": {
      "display_name": "Python 3",
      "name": "python3"
    }
  },
  "cells": [
    {
      "cell_type": "markdown",
      "metadata": {
        "id": "D_fYjJ1JRnm8"
      },
      "source": [
        "## Building the MDP:"
      ]
    },
    {
      "cell_type": "markdown",
      "metadata": {
        "id": "tRpictxGFvCe"
      },
      "source": [
        "### A Markov Decision Process in a Grid World\n",
        "Consider a gridworld system with noisy dynamics which gets positive rewards $R_D, R_S$ for being in the two blue ice cream store states, and negative reward $R_W$ for being in any red road state. Formulate and solve a complete MDP problem, finding the optimal policy for a variety of task definitions.  Some questions to answer:\n",
        "\n",
        "How would we formulate a problem that ends with a one-time (discounted) reward $R_D$ or $R_S$ whenever the system is in the respective ice cream store state as an infinite time horizon problem?  What if the reward was not discounted?\n",
        "How instead would we formulate an infinite horizon, never-ending problem such that the system only achieves a reward upon entering the store rather than simply being in the store?\n",
        "How many different optimal trajectories can we find by changing just the task definition ($R_D, R_S, R_W, \\gamma$), each starting at the same location?\n",
        "How do those trajectories / policies change as the system dynamics (error probabilities) change?\n",
        "Under what conditions would it be an optimal strategy to visit both ice cream stores in the same trajectory?"
      ]
    },
    {
      "cell_type": "code",
      "metadata": {
        "id": "dMocU99CVmJX"
      },
      "source": [
        "import numpy as np\n",
        "import matplotlib.pyplot as plt\n",
        "# from pylab import rcParams\n",
        "import time\n",
        "import sys"
      ],
      "execution_count": null,
      "outputs": []
    },
    {
      "cell_type": "code",
      "metadata": {
        "id": "YL9ww89DxQh6"
      },
      "source": [
        "# This function computes the transition probability matrix:\n",
        "def f_Transition_Probability_Matrix(n,o_v,i_v,r_v,t_v,p=0.9):\n",
        "  # Inputs:\n",
        "  # n = board size\n",
        "  # o_v = array of obstacles\n",
        "  # i_v = array of ice cream shops\n",
        "  # r_v = array of roads\n",
        "  # t_v = array of traps\n",
        "  # p = Bernoulli probability\n",
        "  # Outputs:\n",
        "  # T = transition probability matrix (N_states x N_actions x N_states)\n",
        "    # 1st coord = current state, 2nd coord = actions, 3rd coord = next state\n",
        "    # Note: state labels start in the top left corner of the grid and increase\n",
        "  # as we move right and down.\n",
        "  \n",
        "  N_states = n**2 # Number of states\n",
        "  N_actions = 5 # Number of actions\n",
        "\n",
        "  # Transition probability matrix:\n",
        "  T = np.zeros((N_states,N_actions,N_states))\n",
        "\n",
        "  p1 = p # Transition probability of desired actions\n",
        "  p2 = (1-p1)/(N_actions - 1) # Transition probability of other actions\n",
        "  pv = np.array([p1, p2, p2, p2, p2]) # Array of probabilities.\n",
        "  # We will cycle through pv from right to left\n",
        "  # Actions: stay, down, up, left, right\n",
        "\n",
        "  # Loop through actions and states\n",
        "  # (from state j, using action i, to state j')\n",
        "  for i in np.arange(N_actions):\n",
        "      for j in np.arange(N_states):\n",
        "          # If we're not at an obstacle:\n",
        "          if j not in o_v:\n",
        "              # Stay in the same state:\n",
        "              T[j,i,j] = pv[i]\n",
        "\n",
        "          # If we're not in a trap state:\n",
        "          if j not in t_v:\n",
        "            # If we're not in the right column / no obstacles:\n",
        "            if np.mod(j+1,n) != 0 and j not in o_v and j not in (o_v - 1):\n",
        "                # Go right:\n",
        "                T[j,i,j+1] = pv[np.mod(i+1,N_actions)]\n",
        "            # If we're not in the left column / no obstacles:\n",
        "            if np.mod(j,n) != 0 and j not in o_v and j not in (o_v + 1):\n",
        "                # Go left:\n",
        "                T[j,i,j-1] = pv[np.mod(i+2,N_actions)]\n",
        "            # If we're not in the top row / no obstacles:\n",
        "            if j > n-1 and j not in o_v and j not in (o_v + n):\n",
        "                # Go up:\n",
        "                T[j,i,j-n] = pv[np.mod(i+3,N_actions)]\n",
        "            # If we're not in the bottom row / no obstacles:\n",
        "            if j < (N_states - n) and j not in o_v and j not in (o_v - n):\n",
        "                # Go down:\n",
        "                T[j,i,j+n] = pv[np.mod(i+4,N_actions)]\n",
        "              \n",
        "            # Increase probability of staying in the same state:\n",
        "            # (We're not already at an obstacle)\n",
        "            # If we can't move right:\n",
        "            if (np.mod(j+1,n) == 0 or j in (o_v - 1)) and j not in o_v:\n",
        "                T[j,i,j] += pv[np.mod(i+1,N_actions)]\n",
        "            # If we can't move left:\n",
        "            if (np.mod(j,n) == 0 or j in (o_v + 1)) and j not in o_v:\n",
        "                T[j,i,j] += pv[np.mod(i+2,N_actions)]\n",
        "            # If we can't move up:\n",
        "            if (j <= (n - 1) or j in (o_v + n)) and j not in o_v:\n",
        "                T[j,i,j] += pv[np.mod(i+3,N_actions)]\n",
        "            # If we can't move down:\n",
        "            if (j >= (N_states - n) or j in (o_v - n)) and j not in o_v:\n",
        "                T[j,i,j] += pv[np.mod(i+4,N_actions)]\n",
        "\n",
        "          else:\n",
        "            # Probabilities of escape, in each direction:\n",
        "            if j+1 < n**2:\n",
        "              T[j,i,j+1] = 0\n",
        "            if j-1 >= 0:\n",
        "              T[j,i,j-1] = 0\n",
        "            if j-n > 0:\n",
        "              T[j,i,j-n] = 0\n",
        "            if j+n < n**2:\n",
        "              T[j,i,j+n] = 0\n",
        "            T[j,i,j] = 1 # Probability of remaining trapped\n",
        "          \n",
        "          # If we're in an obstacle or trap state, we remain in this state:\n",
        "          if j in o_v or j in t_v:\n",
        "            T[j,i,j] = 1\n",
        "        \n",
        "  return T"
      ],
      "execution_count": null,
      "outputs": []
    },
    {
      "cell_type": "code",
      "metadata": {
        "id": "taw4VbLX6o4q"
      },
      "source": [
        "# n = 5 # Board size\n",
        "# p = 0.9 # Transition probability\n",
        "# o_v = np.array([6,7,16,17]) # Array of obstacle states\n",
        "# i_v = np.array([12,22]) # Array of ice cream shop states\n",
        "# r_v = np.array([4,9,14,19,24]) # Array of road states\n",
        "# t_v = np.array([])\n",
        "# # t_v = r_v\n",
        "\n",
        "# T = f_Transition_Probability_Matrix(n,o_v,i_v,r_v,t_v,p=p) # Compute transition matrix"
      ],
      "execution_count": null,
      "outputs": []
    },
    {
      "cell_type": "code",
      "metadata": {
        "id": "qTRqJO16t34Y"
      },
      "source": [
        "# Compute and print column sums\n",
        "def f_Print_Col_Sums(T,N_actions=5):\n",
        "\n",
        "  for i in np.arange(N_actions):\n",
        "    col_sum = np.sum(T[:,i,:],axis=1)\n",
        "    print(col_sum)"
      ],
      "execution_count": null,
      "outputs": []
    },
    {
      "cell_type": "code",
      "metadata": {
        "id": "Td3MnJ844QjB"
      },
      "source": [
        "# Check that the transition probabilities sum to 1:\n",
        "def f_Check_Col_Sums(T,N_actions=5):\n",
        "\n",
        "  for i in np.arange(N_actions):\n",
        "    col_sum = np.round(np.sum(T[:,i,:],axis=1)-1,10)\n",
        "    nz = np.count_nonzero(col_sum)\n",
        "    if nz > 0:\n",
        "      print(\"Error: Probabilities do not sum to 1.\")"
      ],
      "execution_count": null,
      "outputs": []
    },
    {
      "cell_type": "code",
      "metadata": {
        "id": "1VNYX1qjmwgQ"
      },
      "source": [
        "# f_Print_Col_Sums(T)"
      ],
      "execution_count": null,
      "outputs": []
    },
    {
      "cell_type": "code",
      "metadata": {
        "id": "v72x-RHOwshK"
      },
      "source": [
        "# Plot the transition probability matrix:\n",
        "# N_actions = 5\n",
        "# for i in np.arange(N_actions):\n",
        "#     plt.matshow(T[:,i,:])\n",
        "# plt.show\n",
        "\n",
        "# Plot a transition probability matrix:\n",
        "# plt.matshow(T[:,0,:])\n",
        "# plt.show"
      ],
      "execution_count": null,
      "outputs": []
    },
    {
      "cell_type": "code",
      "metadata": {
        "id": "tcjRZ-O9pfd7"
      },
      "source": [
        "# This function computes the reward matrix:\n",
        "def f_Reward_Matrix(T,Rw,i_v,r_v,Rpts,n):\n",
        "\n",
        "  N_states = n**2 # Number of states\n",
        "  N_actions = 5\n",
        "  R1 = np.zeros((N_states,N_actions,N_states)) # Initialize to zero\n",
        "  for i in np.arange(N_actions):\n",
        "      for j in np.arange(N_states):\n",
        "          for c in np.arange(np.shape(i_v)[0]):\n",
        "            # If we transition to ice cream shop 1:\n",
        "            R1[j,i,i_v[c]] = Rpts[c] # Award Rd points\n",
        "          # If we transition to the street:\n",
        "          for rvi in r_v:\n",
        "              R1[j,i,rvi] = Rw # Award Rw points\n",
        "  # Multipy (element-wise) by a mask:\n",
        "  # (Note: T>0 is the adjacency matrix corresponding to T.\n",
        "  # This zeroes out the rewards for transitions that are impossible.)\n",
        "  R = R1*(T>0)\n",
        "  return R"
      ],
      "execution_count": null,
      "outputs": []
    },
    {
      "cell_type": "code",
      "metadata": {
        "id": "MkveHukg72AV"
      },
      "source": [
        "# Rd = 2 # Reward for ice cream shop 1\n",
        "# Rs = 5 # Reward for ice cream shop 2\n",
        "# Rw = -1 # Reward for street\n",
        "\n",
        "# r_v = n*np.arange(n)+(n-1)\n",
        "# Rpts = np.array((Rd,Rs))\n",
        "# R = f_Reward_Matrix(T,Rw,i_v,r_v,Rpts,n)"
      ],
      "execution_count": null,
      "outputs": []
    },
    {
      "cell_type": "code",
      "metadata": {
        "id": "S4jLKqE9wgwU"
      },
      "source": [
        "# Plot the reward matrix:\n",
        "# plt.matshow(R[:,0,:])\n",
        "# plt.show"
      ],
      "execution_count": null,
      "outputs": []
    },
    {
      "cell_type": "markdown",
      "metadata": {
        "id": "s_tmSbmRRyFP"
      },
      "source": [
        "## Value Iteration:"
      ]
    },
    {
      "cell_type": "code",
      "metadata": {
        "id": "PujO0qwO8HOt"
      },
      "source": [
        "# This function performs the value iteration algorithm:\n",
        "def f_Value_Iteration(n,H,T,R,gamma):\n",
        "  N_states = n**2 # Number of states\n",
        "  V = np.zeros(N_states) # Initialize value function\n",
        "\n",
        "  # Value Iteration:\n",
        "  for i in np.arange(H):\n",
        "    a = np.sum(T*(R + gamma*V),axis=2) # Argument of Bellman equation\n",
        "    A = np.argmax(a,axis=1) # Optimal action\n",
        "    V = np.max(a,axis=1) # Updated value\n",
        "\n",
        "  return A, V"
      ],
      "execution_count": null,
      "outputs": []
    },
    {
      "cell_type": "code",
      "metadata": {
        "id": "_GZsIAwXfIMB"
      },
      "source": [
        "# Given a current state, a set of actions, and a set of transition\n",
        "# probabilities, transition to a state not blocked by an obstacle.\n",
        "def f_Transition(s,a,o_v,t_v,p,n,N_states,N_actions=5,rand=1):\n",
        "# Inputs:\n",
        "# s = current state\n",
        "# a = action\n",
        "# o_v = array of obstacles\n",
        "# p = Bernoulli transition probability\n",
        "# n = board size\n",
        "# N_actions = number of actions\n",
        "# rand = indicator for deterministic or Bernoulli transition\n",
        "# Output:\n",
        "# s = new state\n",
        "\n",
        "  # Deterministic transition:\n",
        "  if rand == 0:\n",
        "    # To test the optimal policy, we can pretend the desired\n",
        "    # states are always the ones to which we transition.\n",
        "    rt = 0 # Always transition to desired state\n",
        "  # Bernoulli transition:\n",
        "  elif rand == 1:\n",
        "    # Transition probabilities:\n",
        "    p1 = p\n",
        "    p2 = (1-p)/(N_actions-1)\n",
        "    rt = np.random.choice([0,1,2,3,4],p=[p1,p2,p2,p2,p2])\n",
        "    # We make the desired action with probabilty p1 and make\n",
        "    # a different transition with probability p2 for each.\n",
        "  act = np.mod(a + rt,N_actions) # Adding an element from [0,1,2,3,4]\n",
        "  # takes us to the same state or the down, up, left, or\n",
        "  # right states, respectively.\n",
        "\n",
        "  if s not in t_v and s not in o_v:\n",
        "    # If we try to move to the right and we can move to the right:\n",
        "    if act == 4 and np.mod(s+1,n) != 0 and s not in (o_v - 1):\n",
        "      s += 1 # Move to the right\n",
        "    # If we try to move to the left and we can move to the left:\n",
        "    elif act == 3 and np.mod(s,n) != 0 and s not in (o_v + 1):\n",
        "      s -= 1 # Move to the left\n",
        "    # If we try to move up and we can move up:\n",
        "    elif act == 2 and s > (n-1) and s not in (o_v + n):\n",
        "      s -= n # Move up\n",
        "    # If we try to move down and we can move down:\n",
        "    elif act == 1 and s < (N_states-n) and s not in (o_v - n):\n",
        "      s += n # Move down\n",
        "    # Else, stay in the current state.\n",
        "\n",
        "  return s"
      ],
      "execution_count": null,
      "outputs": []
    },
    {
      "cell_type": "code",
      "metadata": {
        "id": "fW9PfYhLlol4"
      },
      "source": [
        "#  Given a current state, a set of actions, and a set of transition\n",
        "# probabilities, transition to a state not blocked by an obstacle.\n",
        "# (a second implementation)\n",
        "def f_Transition2(S,s,a,T):\n",
        "# Inputs:\n",
        "# S = set of all states\n",
        "# s = current state\n",
        "# a = current action\n",
        "# T = transition probability matrix\n",
        "# Output:\n",
        "# s_1 = new state\n",
        "\n",
        "  s_1 = np.random.choice(S,p=T[s,a,:]) # new state, chosen with prob from T\n",
        "\n",
        "  return s_1"
      ],
      "execution_count": null,
      "outputs": []
    },
    {
      "cell_type": "code",
      "metadata": {
        "id": "cp8ma0EvfR23"
      },
      "source": [
        "# This function simulates the system with optimal policy:\n",
        "def f_Simulate(o_v,t_v,n,H,s0,A,p,rand=0,N_actions=5):\n",
        "\n",
        "  N_states = n**2 # Number of states\n",
        "  s_v = np.zeros(H) # Array of states\n",
        "  s = s0 # Start at initial state\n",
        "\n",
        "  # Simulate:\n",
        "  for i in np.arange(H):\n",
        "    s_v[i] = s # Append the current state to an array.\n",
        "    a = A[s]\n",
        "    s = f_Transition(s,a,o_v,t_v,p,n,N_states,N_actions=5,rand=rand)\n",
        "\n",
        "  return s_v"
      ],
      "execution_count": null,
      "outputs": []
    },
    {
      "cell_type": "code",
      "metadata": {
        "id": "A9FvvkAJhmPM"
      },
      "source": [
        "# Convert from state to position on board:\n",
        "def f_State_to_Matrix(s,n):\n",
        "  x = np.floor(s/n).astype(int)\n",
        "  y = np.mod(s,n).astype(int)\n",
        "  return x,y\n",
        "\n",
        "# Convert from position on board to state:\n",
        "def f_Position_to_State(xy,n):\n",
        "  s = (xy[0]*n+xy[1]).astype(int)\n",
        "  return s\n",
        "\n",
        "def f_State_to_Position(s,n):\n",
        "  x = int(np.mod(s,n))+0.5\n",
        "  y = n - 1 - int(np.floor(s/n))+0.5\n",
        "  return x,y\n",
        "\n",
        "# Convert x-y coordinates to state index\n",
        "def f_Pos_to_State(x,y,n):\n",
        "  x = x - 0.5\n",
        "  y = -(y - 0.5 - (n-1))\n",
        "  s = int(n*np.round(y) + np.round(x))\n",
        "  return s"
      ],
      "execution_count": null,
      "outputs": []
    },
    {
      "cell_type": "code",
      "metadata": {
        "id": "vM7vRQw-RC6k"
      },
      "source": [
        "# This function converts the system from\n",
        "# vector form to matrix form:\n",
        "def f_Vector_to_Matrix(s_v,i_v,o_v,r_v,t_v,n):\n",
        "# Inputs:\n",
        "# s_v - an array of states\n",
        "# i_v - an array of ice cream shops\n",
        "# o_v - an array of obstacles\n",
        "# r_v - an array of roads\n",
        "\n",
        "# Ouputs:\n",
        "# M - a matrix with 1 for ice cream shops,\n",
        "# -1 for obstacles, and -2 for roads.\n",
        "# Ms - a matrix with 1s for states and 0s for nonstates\n",
        "# As - a matrix with 1 for right, -1 for left, n for down,\n",
        "# -n for up, n+1 for final state, and 0 otherwise\n",
        "\n",
        "  M = np.zeros((n,n)) # Matrix of goals, obstacles\n",
        "\n",
        "  # Label the ice cream shops:\n",
        "  for i in i_v:\n",
        "    x,y = f_State_to_Matrix(i,n)\n",
        "    M[x,y] = 1\n",
        "\n",
        "  # Label the obstacles:\n",
        "  for o in o_v:\n",
        "    x,y = f_State_to_Matrix(o,n)\n",
        "    M[x,y] = -1\n",
        "\n",
        "  # Label the roads:\n",
        "  for r in r_v:\n",
        "    x,y = f_State_to_Matrix(r,n)\n",
        "    M[x,y] = -2\n",
        "\n",
        "  # Label the traps:\n",
        "  for t in t_v:\n",
        "    x,y = f_State_to_Matrix(t,n)\n",
        "    M[x,y] = -3\n",
        "\n",
        "  Ms = np.zeros((n,n)) # Matrix of states\n",
        "  # Label the states:\n",
        "  for s in s_v:\n",
        "    x,y = f_State_to_Matrix(s,n)\n",
        "    Ms[x,y] = 1\n",
        "\n",
        "  # Compute As (matrix of actions):\n",
        "  s_v1 = s_v[1:] # States, excluding the first state\n",
        "  s_v1 = np.append(s_v1,0)\n",
        "  # a_v is an array of actions, given by the difference between\n",
        "  # states at time t+1 and at time t\n",
        "  a_v = s_v1 - s_v\n",
        "  a_v[np.shape(a_v)[0]-1] = n+1 # Denote last value in a_v as n+1\n",
        "\n",
        "  As = np.zeros(n**2) # Initialize array of states\n",
        "  # For each state, record the action taken at this state\n",
        "  for i in np.arange(np.shape(s_v)[0]):\n",
        "    As[int(s_v[i])] = a_v[i]\n",
        "  As = np.reshape(As,(n,n)) # Reshape to nxn matrix\n",
        "\n",
        "  return M, Ms, As"
      ],
      "execution_count": null,
      "outputs": []
    },
    {
      "cell_type": "code",
      "metadata": {
        "id": "yn96ZoeAunZO"
      },
      "source": [
        "# This function plots the sequence of states through the grid world:\n",
        "def f_Plot_board(s_v,i_v,o_v,r_v,t_v,n):\n",
        "    M, _, As = f_Vector_to_Matrix(s_v,i_v,o_v,r_v,t_v,n) # Convert to matrix form\n",
        "\n",
        "    fig = plt.figure()\n",
        "    ax = fig.add_subplot(1, 1, 1)\n",
        "    plt.gca().set_aspect('equal', adjustable='box')\n",
        "    \n",
        "    # Loop through the boxes in the grid and plot the pieces on the board:\n",
        "    for i in np.arange(n):\n",
        "        for j in np.arange(n):\n",
        "            # Plot the ice cream shops as blue circles:\n",
        "            if M.T[i,n-1-j] == 1:\n",
        "                plt.scatter(i+0.5,j+0.5,s=500*(5/n)**2,marker=\"o\",facecolors='none', edgecolors='b')\n",
        "            # Plot the obstacles as black squares:\n",
        "            elif M.T[i,n-1-j] == -1:\n",
        "                plt.scatter(i+0.5,j+0.5,s=1700*(5/n)**2,marker=\"s\",facecolors='k', edgecolors='k')\n",
        "            # Plot the roads as red squares:\n",
        "            elif M.T[i,n-1-j] == -2:\n",
        "                plt.scatter(i+0.5,j+0.5,s=1700*(5/n)**2,marker=\"s\",facecolors='r', edgecolors='r')\n",
        "            # Plot the traps as blue squares:\n",
        "            elif M.T[i,n-1-j] == -3:\n",
        "                plt.scatter(i+0.5,j+0.5,s=1700*(5/n)**2,marker=\"s\",facecolors='b', edgecolors='b')\n",
        "            # # Plot the states as black dots:\n",
        "            # if Ms.T[i,n-1-j] == 1:\n",
        "            #    plt.scatter(i+0.5,j+0.5,s=75*(5/n)**2,marker=\"o\",facecolors='k', edgecolors='k')\n",
        "            # Plot the states, with arrows pointing in the direction of motion:\n",
        "            if As.T[i,n-1-j] == 1: # Right\n",
        "              plt.scatter(i+0.5,j+0.5,s=75*(5/n)**2,marker=r'$\\rightarrow$',facecolors='k', edgecolors='k')\n",
        "            elif As.T[i,n-1-j] == -1: # Left\n",
        "              plt.scatter(i+0.5,j+0.5,s=75*(5/n)**2,marker=r'$\\leftarrow$',facecolors='k', edgecolors='k')\n",
        "            elif As.T[i,n-1-j] == n: # Down\n",
        "              plt.scatter(i+0.5,j+0.5,s=75*(5/n)**2,marker=r'$\\downarrow$',facecolors='k', edgecolors='k')\n",
        "            elif As.T[i,n-1-j] == -n: # Up\n",
        "                plt.scatter(i+0.5,j+0.5,s=75*(5/n)**2,marker=r'$\\uparrow$',facecolors='k', edgecolors='k')\n",
        "            elif As.T[i,n-1-j] == n+1: # Final state\n",
        "                plt.scatter(i+0.5,j+0.5,s=75*(5/n)**2,marker=\"o\",facecolors='k', edgecolors='k')\n",
        "    \n",
        "    plt.xlim(0, n)\n",
        "    plt.ylim(0, n)\n",
        "    major_ticks = np.arange(0, n+1, 1)\n",
        "    ax.set_xticks(major_ticks)\n",
        "    ax.set_yticks(major_ticks)\n",
        "    ax.grid(which='both')\n",
        "    plt.title(\"Simulated MDP\")\n",
        "    plt.show()"
      ],
      "execution_count": null,
      "outputs": []
    },
    {
      "cell_type": "code",
      "metadata": {
        "id": "mPWfRdzBzuBb"
      },
      "source": [
        "# This function plots the best action to take from any state\n",
        "def f_Plot_Actions(A,i_v,o_v,r_v,t_v,n):\n",
        "\n",
        "    M, _, _ = f_Vector_to_Matrix(A,i_v,o_v,r_v,t_v,n) # Convert to matrix form\n",
        "    As = np.reshape(A,(n,n))\n",
        "    \n",
        "    fig = plt.figure()\n",
        "    ax = fig.add_subplot(1, 1, 1)\n",
        "    plt.gca().set_aspect('equal', adjustable='box')\n",
        "\n",
        "    # Loop through the boxes in the grid and plot the pieces on the board:\n",
        "    for i in np.arange(n):\n",
        "      for j in np.arange(n):\n",
        "        # Plot the ice cream shops as blue circles:\n",
        "        if M.T[i,n-1-j] == 1:\n",
        "            plt.scatter(i+0.5,j+0.5,s=500*(5/n)**2,marker=\"o\",facecolors='none', edgecolors='b')\n",
        "            # plt.scatter(i+0.5,j+0.5,s=75*(5/n)**2,marker=\"o\",facecolors='k', edgecolors='k')\n",
        "        # Plot the obstacles as black squares:\n",
        "        elif M.T[i,n-1-j] == -1:\n",
        "            plt.scatter(i+0.5,j+0.5,s=1700*(5/n)**2,marker=\"s\",facecolors='k', edgecolors='k')\n",
        "        # Plot the roads as red squares:\n",
        "        elif M.T[i,n-1-j] == -2:\n",
        "            plt.scatter(i+0.5,j+0.5,s=1700*(5/n)**2,marker=\"s\",facecolors='r', edgecolors='r')\n",
        "        # Plot the traps as blue squares:\n",
        "        elif M.T[i,n-1-j] == -3:\n",
        "            plt.scatter(i+0.5,j+0.5,s=1700*(5/n)**2,marker=\"s\",facecolors='b', edgecolors='b')\n",
        "        # Actions: stay, down, up, left, right\n",
        "        if As.T[i,n-1-j] == 0: # Stay\n",
        "          plt.scatter(i+0.5,j+0.5,s=75*(5/n)**2,marker=\"o\",facecolors='k', edgecolors='k')\n",
        "        elif As.T[i,n-1-j] == 1: # Down\n",
        "          plt.scatter(i+0.5,j+0.5,s=75*(5/n)**2,marker=r'$\\downarrow$',facecolors='k', edgecolors='k')\n",
        "        elif As.T[i,n-1-j] == 2: # Up\n",
        "          plt.scatter(i+0.5,j+0.5,s=75*(5/n)**2,marker=r'$\\uparrow$',facecolors='k', edgecolors='k')\n",
        "        elif As.T[i,n-1-j] == 3: # Left\n",
        "          plt.scatter(i+0.5,j+0.5,s=75*(5/n)**2,marker=r'$\\leftarrow$',facecolors='k', edgecolors='k')\n",
        "        elif As.T[i,n-1-j] == 4: # Right\n",
        "          plt.scatter(i+0.5,j+0.5,s=75*(5/n)**2,marker=r'$\\rightarrow$',facecolors='k', edgecolors='k')\n",
        "    \n",
        "    plt.xlim(0, n)\n",
        "    plt.ylim(0, n)\n",
        "    major_ticks = np.arange(0, n+1, 1)\n",
        "    ax.set_xticks(major_ticks)\n",
        "    ax.set_yticks(major_ticks)\n",
        "    ax.grid(which='both')\n",
        "    plt.title(\"Optimal action at every state\")\n",
        "    plt.show()"
      ],
      "execution_count": null,
      "outputs": []
    },
    {
      "cell_type": "code",
      "metadata": {
        "id": "O0IKhTKzA2QT"
      },
      "source": [
        "# Plots a heat map of the value function for each state\n",
        "def f_Plot_Value(V,n):\n",
        "  Vm = np.reshape(V, (n,n))\n",
        "  plt.matshow(Vm)\n",
        "  plt.title(\"Value function heatmap\")\n",
        "  plt.show"
      ],
      "execution_count": null,
      "outputs": []
    },
    {
      "cell_type": "code",
      "metadata": {
        "id": "25Ud_KqRpCze"
      },
      "source": [
        "# Compute T and R, run value iteration, simulate, and plot\n",
        "def f_Grid_World(n,o_v,i_v,r_v,t_v,p,T,Rw,Rpts,H,gamma,s0,rand=1):\n",
        "\n",
        "  T = f_Transition_Probability_Matrix(n,o_v,i_v,r_v,t_v,p=p) # Compute transition matrix\n",
        "  f_Check_Col_Sums(T) # Check that probabilities sum to 1\n",
        "  R = f_Reward_Matrix(T,Rw,i_v,r_v,Rpts,n) # Compute reward matrix\n",
        "  A, V = f_Value_Iteration(n,H,T,R,gamma) # Run value iteration\n",
        "  s_v = f_Simulate(o_v,t_v,n,H,s0,A,p,rand=rand) # Simulate the system\n",
        "\n",
        "  f_Plot_board(s_v,i_v,o_v,r_v,t_v,n) # Plot the sequence of states\n",
        "  f_Plot_Value(V,n) # Plot heatmap of the value function\n",
        "  f_Plot_Actions(A,i_v,o_v,r_v,t_v,n) # Plot the best action from every state"
      ],
      "execution_count": null,
      "outputs": []
    },
    {
      "cell_type": "markdown",
      "metadata": {
        "id": "ZEtjWL64usf8"
      },
      "source": [
        "## Test Value Iteration:"
      ]
    },
    {
      "cell_type": "markdown",
      "metadata": {
        "id": "9L695Jzfdry9"
      },
      "source": [
        "Example: Ice Cream World"
      ]
    },
    {
      "cell_type": "markdown",
      "metadata": {
        "id": "mwLMWgXXBMYr"
      },
      "source": [
        "With a high transition probability, there is little chance of hitting a road, and the MDP chooses the shorter path:"
      ]
    },
    {
      "cell_type": "code",
      "metadata": {
        "id": "TWO49EcMZXu_"
      },
      "source": [
        "# n = 5 # Board size\n",
        "# p = 0.9 # Transition probability\n",
        "\n",
        "# s0 = 2 # Start at state 2\n",
        "# gamma = 0.3 # Discount factor\n",
        "# H = 10 # Time horizon\n",
        "\n",
        "# o_v = np.array([6,7,16,17]) # Array of obstacle states\n",
        "# i_v = np.array([12,22]) # Array of ice cream shop states\n",
        "# r_v = n*np.arange(n)+(n-1) # Array of road states\n",
        "# t_v = np.array([])\n",
        "# # t_v = r_v\n",
        "\n",
        "# Rd = 2 # Reward for ice cream shop 1\n",
        "# Rs = 5 # Reward for ice cream shop 2\n",
        "# Rw = -1 # Reward for street\n",
        "# Rpts = np.array((Rd,Rs)) # Array of ice cream points\n",
        "\n",
        "# f_Grid_World(n,o_v,i_v,r_v,t_v,p,T,Rw,Rpts,H,gamma,s0,rand=0)"
      ],
      "execution_count": null,
      "outputs": []
    },
    {
      "cell_type": "markdown",
      "metadata": {
        "id": "Xbnp2oDvBYhR"
      },
      "source": [
        "With a lower transition probability, the MDP takes a longer path in order to avoid the road:"
      ]
    },
    {
      "cell_type": "code",
      "metadata": {
        "id": "VLq8Dxt9THdR"
      },
      "source": [
        "# n = 5 # Board size\n",
        "# p = 0.7 # Transition probability\n",
        "\n",
        "# s0 = 2 # Start at state 2\n",
        "# gamma = 0.3 # Discount factor\n",
        "# H = 10 # Time horizon\n",
        "\n",
        "# o_v = np.array([6,7,16,17]) # Array of obstacle states\n",
        "# i_v = np.array([12,22]) # Array of ice cream shop states\n",
        "# r_v = n*np.arange(n)+(n-1) # Array of road states\n",
        "# t_v = np.array([])\n",
        "\n",
        "# Rd = 2 # Reward for ice cream shop 1\n",
        "# Rs = 5 # Reward for ice cream shop 2\n",
        "# Rw = -1 # Reward for street\n",
        "# Rpts = np.array((Rd,Rs)) # Array of ice cream points\n",
        "\n",
        "# f_Grid_World(n,o_v,i_v,r_v,t_v,p,T,Rw,Rpts,H,gamma,s0,rand=0)"
      ],
      "execution_count": null,
      "outputs": []
    },
    {
      "cell_type": "markdown",
      "metadata": {
        "id": "MVEjpv9iBgYU"
      },
      "source": [
        "As we increase the discount factor, the MDP chooses a more distant, but more valuable target:"
      ]
    },
    {
      "cell_type": "code",
      "metadata": {
        "id": "-WvR6ZJMA9ni"
      },
      "source": [
        "# n = 5 # Board size\n",
        "# p = 0.9 # Transition probability\n",
        "\n",
        "# s0 = 2 # Start at state 2\n",
        "# gamma = 0.7 # Discount factor\n",
        "# H = 10 # Time horizon\n",
        "\n",
        "# o_v = np.array([6,7,16,17]) # Array of obstacle states\n",
        "# i_v = np.array([12,22]) # Array of ice cream shop states\n",
        "# r_v = n*np.arange(n)+(n-1) # Array of road states\n",
        "\n",
        "# Rd = 2 # Reward for ice cream shop 1\n",
        "# Rs = 5 # Reward for ice cream shop 2\n",
        "# Rw = -1 # Reward for street\n",
        "# Rpts = np.array((Rd,Rs)) # Array of ice cream points\n",
        "\n",
        "# f_Grid_World(n,o_v,i_v,r_v,t_v,p,T,Rw,Rpts,H,gamma,s0,rand=0)"
      ],
      "execution_count": null,
      "outputs": []
    },
    {
      "cell_type": "code",
      "metadata": {
        "id": "1E68zKRk0IG4"
      },
      "source": [
        "# Create obstacles, ice cream shops, and roads\n",
        "def f_Random_Board(n,s0,n_i,n_o,n_r,n_t):\n",
        "  poss_states = np.setdiff1d(np.arange(n**2), s0) # Possible states\n",
        "  o_v = np.random.choice(poss_states, size=n_o, replace=False) # Array of obstacle states\n",
        "  poss_states = np.setdiff1d(poss_states,o_v) # Remaining possible states\n",
        "  i_v = np.random.choice(poss_states, size=n_i, replace=False) # Array of ice cream shop states\n",
        "  poss_states = np.setdiff1d(poss_states,i_v) # Remaining possible states\n",
        "  r_v = np.random.choice(poss_states, size=n_r, replace=False) # Array of road states\n",
        "  poss_states = np.setdiff1d(poss_states,r_v) # Remaining possible states\n",
        "  t_v = np.random.choice(poss_states, size=n_t, replace=False) # Array of trap states\n",
        "  return o_v,i_v,r_v,t_v"
      ],
      "execution_count": null,
      "outputs": []
    },
    {
      "cell_type": "markdown",
      "metadata": {
        "id": "Sr12M_Lqddqm"
      },
      "source": [
        "Example: Frozen Lake"
      ]
    },
    {
      "cell_type": "code",
      "metadata": {
        "id": "1voqfCjZc1Ty"
      },
      "source": [
        "# n = 8 # Board size\n",
        "# p = 0.9 # Transition probability\n",
        "\n",
        "# gamma = 0.7 # Discount factor\n",
        "# H = 20 # Time horizon\n",
        "\n",
        "# s0 = np.random.choice(np.arange(n**2)) # Start at random state\n",
        "# n_o = n # Number of obstacle states\n",
        "# n_r = 0 # Number of penalty states\n",
        "# n_i = int(np.sqrt(n)) # Number of goal states\n",
        "# n_t = n\n",
        "# o_v,i_v,r_v,t_v = f_Random_Board(n,s0,n_i,n_o,n_r,n_t)\n",
        "\n",
        "# Rd = 2 # Reward for ice cream shop 1\n",
        "# Rs = 5 # Reward for ice cream shop 2\n",
        "# Rw = -1 # Reward for street\n",
        "# Rpts = np.array((Rd,Rs)) # Array of ice cream points\n",
        "\n",
        "# f_Grid_World(n,o_v,i_v,r_v,t_v,p,T,Rw,Rpts,H,gamma,s0,rand=0)"
      ],
      "execution_count": null,
      "outputs": []
    },
    {
      "cell_type": "markdown",
      "metadata": {
        "id": "WuVHG2Zcd3RY"
      },
      "source": [
        "Example: Random World"
      ]
    },
    {
      "cell_type": "code",
      "metadata": {
        "id": "8LicbUT4Bn1q"
      },
      "source": [
        "# n = 12 # Board size\n",
        "# p = 0.9 # Transition probability\n",
        "\n",
        "# gamma = 0.7 # Discount factor\n",
        "# H = 20 # Time horizon\n",
        "\n",
        "# s0 = np.random.choice(np.arange(n**2)) # Start at random state\n",
        "# n_o = n # Number of obstacle states\n",
        "# n_r = n # Number of penalty states\n",
        "# n_i = int(np.sqrt(n)) # Number of goal states\n",
        "# n_t = 0 # Number of trap states\n",
        "# o_v,i_v,r_v,t_v = f_Random_Board(n,s0,n_i,n_o,n_r,n_t)\n",
        "\n",
        "# Rw = -1 # Reward for street\n",
        "# Rpts = np.random.randint(low=1, high=5, size=n_i) # Reward for goals\n",
        "\n",
        "# f_Grid_World(n,o_v,i_v,r_v,t_v,p,T,Rw,Rpts,H,gamma,s0,rand=0)"
      ],
      "execution_count": null,
      "outputs": []
    },
    {
      "cell_type": "markdown",
      "metadata": {
        "id": "vHsfAH_Zh_NV"
      },
      "source": [
        "Example: Maze World"
      ]
    },
    {
      "cell_type": "code",
      "metadata": {
        "id": "QqUBJbEBwSws"
      },
      "source": [
        "# # Make a random maze\n",
        "# def f_maze(N_states,o_v,t_v,p,n):\n",
        "#   maze = np.array([])\n",
        "#   poss_states = np.arange(N_states)\n",
        "\n",
        "#   # Create a maze:\n",
        "#   # https://en.wikipedia.org/wiki/Maze_generation_algorithm\n",
        "#   # (It doesn't work well.)\n",
        "#   for i in np.arange(N_states/2):\n",
        "#     s = np.random.choice(poss_states)\n",
        "#     poss_states = np.setdiff1d(poss_states, s) # Possible states\n",
        "#     maze = np.append(maze,s)\n",
        "#     a = np.random.choice(np.arange(4)+1)\n",
        "#     s = f_Transition(s,a,o_v,t_v,p,n,N_states,rand=0)\n",
        "#     maze = np.append(maze,s)\n",
        "\n",
        "#   maze = maze.astype(int)\n",
        "#   o_v = np.setdiff1d(np.arange(N_states), maze)\n",
        "#   i_v = np.array([np.random.choice(maze)]) # Random goal state\n",
        "#   maze = np.setdiff1d(maze, i_v)\n",
        "\n",
        "#   return maze, o_v, i_v"
      ],
      "execution_count": null,
      "outputs": []
    },
    {
      "cell_type": "code",
      "metadata": {
        "id": "CC5kTzWGC6dv"
      },
      "source": [
        "# # Make a random maze\n",
        "# def make_maze(n, spar, tunnelX, tunnelY):\n",
        "#   maze = np.array([])\n",
        "#   poss_states = np.arange(n**2)\n",
        "#   breakPt = (100-spar)/2\n",
        "#   for y in np.arange(0,n,2):\n",
        "#     for x in np.arange(0,n,2):\n",
        "#       s = n*y + x\n",
        "#       val = np.random.randint(100)\n",
        "#       # print(x,y,s, val<=breakPt, val > breakPt and val<=2*breakPt, val> 2*breakPt)\n",
        "\n",
        "#       if val <= breakPt:  #vetical Wall\n",
        "#         if (y != 0 and val < tunnelY*breakPt ) or y >n-3:\n",
        "#           # print('tunnel')\n",
        "#           pathArray = np.array([s-n, s, s+n])\n",
        "#         else:\n",
        "#           pathArray = np.array([ s, s+n]) \n",
        "#       elif (val > breakPt and val <= breakPt*2):  #horizontal Wall\n",
        "#         if (x != 0 and (val-breakPt) < tunnelX*breakPt )or x > n-3:\n",
        "#           # print('tunnel')\n",
        "#           pathArray = np.array([s-1, s, s+1])\n",
        "#         else:\n",
        "#           pathArray = np.array([s, s+1])\n",
        "#       else: #add nothing\n",
        "#         pathArray = np.array([s-n, s-1, s, s+1, s+n, s+n+1])\n",
        "#       maze = np.append(maze, pathArray)\n",
        "\n",
        "#   maze = maze.astype(int)\n",
        "#   o_v = np.setdiff1d(np.arange(N_states), maze)\n",
        "#   i_v = np.array([np.random.choice(maze)]) # Random goal state\n",
        "#   maze = np.setdiff1d(maze, i_v)\n",
        "\n",
        "#   return maze, o_v, i_v"
      ],
      "execution_count": null,
      "outputs": []
    },
    {
      "cell_type": "code",
      "metadata": {
        "id": "IQvtG7Anxkoc"
      },
      "source": [
        "# n = 12 # Board size\n",
        "# p = 0.9 # Transition probability\n",
        "\n",
        "# N_states = n**2\n",
        "# gamma = 0.7 # Discount factor\n",
        "# H = 20 # Time horizon\n",
        "\n",
        "# Rw = -1 # Reward for street\n",
        "# Rpts = np.random.randint(low=1, high=5, size=n_i) # Reward for goals\n",
        "\n",
        "# n_r =  0 # Number of penalty states\n",
        "# n_i = 1 # Number of goal states\n",
        "# n_t = 0 # Number of trap states\n",
        "\n",
        "# # maze, o_v, i_v = f_maze(N_states,o_v,t_v,p,n)\n",
        "# # s0 = int(np.random.choice(maze)) # Start at random state\n",
        "\n",
        "# # Making our maze\n",
        "# spar = 10 # sparseness Factor % (amount of white space)\n",
        "# tunnelX = 1.0\n",
        "# tunnelY = 1.0\n",
        "# maze, o_v, i_v = make_maze(n,spar,tunnelX,tunnelY)\n",
        "\n",
        "# r_v = np.random.choice(maze,size=n_r) # Start at random state\n",
        "# t_v = np.random.choice(maze,size=n_t) # Start at random state\n",
        "\n",
        "# # f_Grid_World(n,o_v,i_v,r_v,t_v,p,T,Rw,Rpts,H,gamma,s0,rand=0)"
      ],
      "execution_count": null,
      "outputs": []
    },
    {
      "cell_type": "markdown",
      "metadata": {
        "id": "JflJ0p3F5vHs"
      },
      "source": [
        "## Bayes Filter:"
      ]
    },
    {
      "cell_type": "markdown",
      "metadata": {
        "id": "dFt9RRcrpAnY"
      },
      "source": [
        "Now, let's say the only feedback we get from the system is the smell of ice cream---that is, we can sense our distance to the ice cream shops.  The measurement value (output/observation) $o$ is related to the harmonic mean $h$ of the (Euclidean) distances to each of the two ice cream shops $d_{D}, d_{S}$: \n",
        "\n",
        "$$ \n",
        "h = \\frac{2}{d_D^{-1} + d_S^{-1}}\n",
        "$$\n",
        "\n",
        "$$\n",
        "o = \\begin{cases}\n",
        "  \\lceil h \\rceil & \\mathrm{w.p.} \\quad 1 - (\\lceil h \\rceil - h ) \\\\ \n",
        "  \\lfloor h \\rfloor & \\mathrm{w.p.} \\quad \\lceil h \\rceil - h \n",
        "\\end{cases}\n",
        "$$\n",
        "\n",
        "Create a Bayes filter on this system and run several examples, displaying the belief state over time as the system executes a series of actions from both known and unknown initial states."
      ]
    },
    {
      "cell_type": "code",
      "metadata": {
        "id": "MraDSWoUiP2g"
      },
      "source": [
        "# Compute harmonic mean of distances to the ice cream shops:\n",
        "def f_Harmonic_Mean_Distance(s,i_v,n):\n",
        "  x,y = f_State_to_Matrix(s,n) # Get x, y position\n",
        "  denom = 0\n",
        "  # Loop through array of ice cream shops:\n",
        "  for i in i_v:\n",
        "    xi,yi = f_State_to_Matrix(i,n) # Ice cream position\n",
        "    dist = np.sqrt((x-xi)**2 + (y-yi)**2) # Distance\n",
        "    if dist > 0:\n",
        "      denom += 1/dist # Add 1/dist to denominator\n",
        "  # If the sum of 1/distances = 0, the harmonic mean = 0\n",
        "  if denom == 0:\n",
        "    hm = 0\n",
        "  # Else, compute harmonic mean\n",
        "  else:\n",
        "    hm = np.shape(i_v)[0]/denom\n",
        "  return hm"
      ],
      "execution_count": null,
      "outputs": []
    },
    {
      "cell_type": "code",
      "metadata": {
        "id": "JLD1ySi8mLHj"
      },
      "source": [
        "# Compute observation:\n",
        "def f_Observation(h):\n",
        "  # Map the harmonic mean h to ceil(h) or floor(h) with probabilities\n",
        "  # 1 - (ceil(h) - h) and ceil(h) - h, respectively.\n",
        "  p2 = np.ceil(h) - h\n",
        "  p1 = 1 - p2\n",
        "  return np.random.choice((np.ceil(h),np.floor(h)),p=(p1,p2))"
      ],
      "execution_count": null,
      "outputs": []
    },
    {
      "cell_type": "code",
      "metadata": {
        "id": "GUy7q2QZsW_y"
      },
      "source": [
        "# Returns the probability of an observation o given a state s:\n",
        "def f_Pr_o_given_s(o,s,i_v,n):\n",
        "  h = f_Harmonic_Mean_Distance(s,i_v,n) # Mean distance\n",
        "  # Probabilities of each observation:\n",
        "  p2 = np.ceil(h)-h\n",
        "  p1 = 1-p2\n",
        "  # Pr(ceil(h)|h) = p1\n",
        "  if o == np.ceil(h):\n",
        "    pr = p1\n",
        "  # Pr(floor(h)|h) = p2\n",
        "  elif o == np.floor(h):\n",
        "    pr = p2\n",
        "  # Otherwise, # Pr(o|h(s)) = 0\n",
        "  else:\n",
        "    pr = 0\n",
        "  return pr"
      ],
      "execution_count": null,
      "outputs": []
    },
    {
      "cell_type": "code",
      "metadata": {
        "id": "-Dtu0iAyKM-d"
      },
      "source": [
        "# Update the a priori belief state:\n",
        "def f_Belief_minus(a,S,T,n,Belief_plus):\n",
        "  Belief_minus = np.zeros(n**2)\n",
        "  # T[:,a,:] = transition probability matrix given an action a\n",
        "  # Matrix product gives the new belief state\n",
        "  Belief_minus += np.matmul(T[:,a,:],Belief_plus)\n",
        "  # Note: Belief_minus should already be normalized\n",
        "  return Belief_minus/sum(Belief_minus)"
      ],
      "execution_count": null,
      "outputs": []
    },
    {
      "cell_type": "code",
      "metadata": {
        "id": "_fJaQb5c6IUH"
      },
      "source": [
        "# Update the a posteriori belief state:\n",
        "def f_Belief_plus(o,s,i_v,S,n,Belief_minus):\n",
        "  pr = np.zeros(n**2)\n",
        "  for s in S:\n",
        "    pr[s] = f_Pr_o_given_s(o,s,i_v,n)\n",
        "  numerator = pr*Belief_minus\n",
        "  return numerator/sum(numerator)"
      ],
      "execution_count": null,
      "outputs": []
    },
    {
      "cell_type": "code",
      "metadata": {
        "id": "bk_UJ2oMaFJx"
      },
      "source": [
        "# This function simulates the system with Bayes filter and\n",
        "# the policy found by value iteration.\n",
        "def f_Simulate_Bayes_Filter(n,H,s0,A,T,p,Belief_0,o_v,t_v,N_actions=5,rand=0):\n",
        "\n",
        "  N_states = n**2 # Number of states\n",
        "  s_v = np.zeros(H) # Initialize array of states\n",
        "  s_est_v = np.zeros(H) # Initialize array of estimated states\n",
        "  s = s0 # Start at initial state\n",
        "  Belief_plus = Belief_0 # Initialize belief state\n",
        "  S = np.arange(n**2)\n",
        "\n",
        "  # Simulate:\n",
        "  for i in np.arange(H):\n",
        "    s_v[i] = s # Append the current state to an array.\n",
        "    s_est = np.argmax(Belief_plus) # Estimated state\n",
        "    s_est_v[i] = s_est # Append the estimated state to array\n",
        "    a = A[s_est] # Take action using estimated state\n",
        "    s = f_Transition(s,a,o_v,t_v,p,n,N_states,rand=rand) # Transition to new state\n",
        "    Belief_minus = f_Belief_minus(a,S,T,n,Belief_plus) # Belief minus\n",
        "    h = f_Harmonic_Mean_Distance(s,i_v,n) # Harmonic mean distance\n",
        "    o = f_Observation(h) # Observation\n",
        "    Belief_plus = f_Belief_plus(o,s,i_v,S,n,Belief_minus) # Belief plus\n",
        "\n",
        "  return s_v, s_est_v"
      ],
      "execution_count": null,
      "outputs": []
    },
    {
      "cell_type": "code",
      "metadata": {
        "id": "u1kG2jrWqCEB"
      },
      "source": [
        "# Plot state and estimated states vs time step\n",
        "def f_Plot_states(s_v,s_est_v):\n",
        "  plt.plot(s_v,label=\"Actual state\")\n",
        "  plt.plot(s_est_v,linestyle=\"--\",label=\"Estimated state\")\n",
        "  plt.xlabel('Time step')\n",
        "  plt.ylabel('State')\n",
        "  plt.grid()\n",
        "  plt.legend()\n",
        "  plt.show()"
      ],
      "execution_count": null,
      "outputs": []
    },
    {
      "cell_type": "markdown",
      "metadata": {
        "id": "b_XlfVM7uVU-"
      },
      "source": [
        "Test the Bayes Filter:"
      ]
    },
    {
      "cell_type": "markdown",
      "metadata": {
        "id": "1fw3m2-2umjy"
      },
      "source": [
        "Example: Two goal states and known initial state:"
      ]
    },
    {
      "cell_type": "code",
      "metadata": {
        "id": "pgiMER3OopzV"
      },
      "source": [
        "# n = 8 # Board size\n",
        "# p = 0.9 # Transition probability\n",
        "\n",
        "# gamma = 0.7 # Discount factor\n",
        "# H = 30 # Time horizon\n",
        "\n",
        "# s0 = np.random.choice(np.arange(n**2)) # Start at random state\n",
        "# n_o = n # Number of obstacle states\n",
        "# n_r = n # Number of penalty states\n",
        "# n_i = 2\n",
        "# n_t = 0 # Number of trap states\n",
        "# o_v,i_v,r_v,t_v = f_Random_Board(n,s0,n_i,n_o,n_r,n_t)\n",
        "\n",
        "# Rd = 2 # Reward for ice cream shop 1\n",
        "# Rs = 5 # Reward for ice cream shop 2\n",
        "# Rw = -1 # Reward for street\n",
        "# Rpts = np.array((Rs,Rs)) # Array of ice cream points\n",
        "\n",
        "# # Initialize the belief state:\n",
        "# Belief_0 = np.zeros(n**2) #\n",
        "# Belief_0[s0] += 1 # We know we're starting from s0\n",
        "\n",
        "# T = f_Transition_Probability_Matrix(n,o_v,i_v,r_v,t_v,p=p) # Compute transition matrix\n",
        "# R = f_Reward_Matrix(T,Rw,i_v,r_v,Rpts,n) # Compute reward matrix\n",
        "# A, V = f_Value_Iteration(n,H,T,R,gamma) # Run value iteration\n",
        "# s_v, s_est_v = f_Simulate_Bayes_Filter(n,H,s0,A,T,p,Belief_0,o_v,t_v) # Simulate the system\n",
        "\n",
        "# f_Plot_board(s_v,i_v,o_v,r_v,t_v,n) # Plot the sequence of states\n",
        "# f_Plot_Value(V,n) # Plot heatmap of the value function\n",
        "# f_Plot_Actions(A,i_v,o_v,r_v,t_v,n) # Plot the best action from every state\n",
        "# f_Plot_states(s_v,s_est_v) # Plot states vs time step"
      ],
      "execution_count": null,
      "outputs": []
    },
    {
      "cell_type": "markdown",
      "metadata": {
        "id": "o5uWc79oveUA"
      },
      "source": [
        "Example: Single goal state and a decent guess of the initial state:"
      ]
    },
    {
      "cell_type": "code",
      "metadata": {
        "id": "ZRMTYqnrvReN"
      },
      "source": [
        "# n = 8 # Board size\n",
        "# p = 0.9 # Transition probability\n",
        "\n",
        "# gamma = 0.9 # Discount factor\n",
        "# H = 500 # Time horizon\n",
        "\n",
        "# s0 = np.random.choice(np.arange(n**2)) # Start at random state\n",
        "\n",
        "# # Initialize the belief state:\n",
        "# Belief_0 = np.zeros(n**2)\n",
        "# for s in np.arange(n**2):\n",
        "#   Belief_0[s] = np.exp(-2*f_Harmonic_Mean_Distance(s,np.array([s0]),n))\n",
        "# Belief_0 = Belief_0/np.sum(Belief_0) # Normalize to 1\n",
        "\n",
        "# plt.plot(Belief_0)\n",
        "# plt.title('Initial Belief State')\n",
        "# plt.xlabel('State')\n",
        "# plt.ylabel('Probability')\n",
        "# plt.grid()\n",
        "# plt.show()\n",
        "\n",
        "# n_o = n # Number of obstacle states\n",
        "# n_r = n # Number of penalty states\n",
        "# n_i = 1\n",
        "# n_t = 0 # Number of trap states\n",
        "# o_v,i_v,r_v,t_v = f_Random_Board(n,s0,n_i,n_o,n_r,n_t)\n",
        "\n",
        "# Rw = -1 # Reward for street\n",
        "# Rpts = np.random.randint(low=1, high=5, size=n_i) # Reward for goals\n",
        "\n",
        "# T = f_Transition_Probability_Matrix(n,o_v,i_v,r_v,t_v,p=p) # Compute transition matrix\n",
        "# R = f_Reward_Matrix(T,Rw,i_v,r_v,Rpts,n) # Compute reward matrix\n",
        "# A, V = f_Value_Iteration(n,H,T,R,gamma) # Run value iteration\n",
        "# s_v, s_est_v = f_Simulate_Bayes_Filter(n,H,s0,A,T,p,Belief_0,o_v,t_v) # Simulate the system\n",
        "\n",
        "# f_Plot_board(s_v,i_v,o_v,r_v,t_v,n) # Plot the sequence of states\n",
        "# f_Plot_Value(V,n) # Plot heatmap of the value function\n",
        "# f_Plot_Actions(A,i_v,o_v,r_v,t_v,n) # Plot the best action from every state\n",
        "# f_Plot_states(s_v,s_est_v) # Plot states vs time step"
      ],
      "execution_count": null,
      "outputs": []
    },
    {
      "cell_type": "markdown",
      "metadata": {
        "id": "FdEYOj-GoKNP"
      },
      "source": [
        "Example: Larger Board"
      ]
    },
    {
      "cell_type": "code",
      "metadata": {
        "id": "32ayeTr7tsW4"
      },
      "source": [
        "# n = 20 # Board size\n",
        "# p = 0.9 # Transition probability\n",
        "\n",
        "# gamma = 0.9 # Discount factor\n",
        "# H = 500 # Time horizon\n",
        "\n",
        "# s0 = np.random.choice(np.arange(n**2)) # Start at random state\n",
        "\n",
        "# # Initialize the belief state:\n",
        "# Belief_0 = np.zeros(n**2)\n",
        "# for s in np.arange(n**2):\n",
        "#   Belief_0[s] = np.exp(-2*f_Harmonic_Mean_Distance(s,np.array([s0]),n))\n",
        "# Belief_0 = Belief_0/np.sum(Belief_0) # Normalize to 1\n",
        "\n",
        "# plt.plot(Belief_0)\n",
        "# plt.title('Initial Belief State')\n",
        "# plt.xlabel('State')\n",
        "# plt.ylabel('Probability')\n",
        "# plt.grid()\n",
        "# plt.show()\n",
        "\n",
        "# n_o = n # Number of obstacle states\n",
        "# n_r = n # Number of penalty states\n",
        "# n_i = int(np.sqrt(n)) # Number of goal states\n",
        "# n_t = int(np.sqrt(n)) # Number of trap states\n",
        "# o_v,i_v,r_v,t_v = f_Random_Board(n,s0,n_i,n_o,n_r,n_t)\n",
        "\n",
        "# Rw = -1 # Reward for street\n",
        "# Rpts = np.random.randint(low=1, high=5, size=n_i) # Reward for goals\n",
        "\n",
        "# T = f_Transition_Probability_Matrix(n,o_v,i_v,r_v,t_v,p=p) # Compute transition matrix\n",
        "# R = f_Reward_Matrix(T,Rw,i_v,r_v,Rpts,n) # Compute reward matrix\n",
        "# A, V = f_Value_Iteration(n,H,T,R,gamma) # Run value iteration\n",
        "# s_v, s_est_v = f_Simulate_Bayes_Filter(n,H,s0,A,T,p,Belief_0,o_v,t_v) # Simulate the system\n",
        "\n",
        "# f_Plot_board(s_v,i_v,o_v,r_v,t_v,n) # Plot the sequence of states\n",
        "# f_Plot_Value(V,n) # Plot heatmap of the value function\n",
        "# f_Plot_Actions(A,i_v,o_v,r_v,t_v,n) # Plot the best action from every state\n",
        "# f_Plot_states(s_v,s_est_v) # Plot states vs time step"
      ],
      "execution_count": null,
      "outputs": []
    },
    {
      "cell_type": "markdown",
      "metadata": {
        "id": "6neyHjL0cm_T"
      },
      "source": [
        "## Q-Learning"
      ]
    },
    {
      "cell_type": "code",
      "metadata": {
        "id": "ssiEHe9a9ON0"
      },
      "source": [
        "def f_Q_Learning(n, N_s, N_a, N_e, N_t, s0, alpha, eps, gamma, S, T, R, n_epoch, tol, rand_start=1, Q_v=None):\n",
        "    if Q_v is None:\n",
        "        Q_v = np.zeros((N_s, N_a))  # Initialize Q_v\n",
        "\n",
        "    T_cumsum = np.cumsum(T, axis=2)\n",
        "\n",
        "    num_it = 0  # Number of iterations\n",
        "    num_ep = 0  # Number of episodes\n",
        "    dQ_norm = 1\n",
        "    dQ_norm_v = np.array([])\n",
        "\n",
        "    # pregenerate random numbers\n",
        "    n_rands = np.min([N_e*N_t*3, 1000000])\n",
        "    rand_vec = np.random.rand(n_rands)\n",
        "    rand_ind = 0\n",
        "\n",
        "    # Loop over episodes:\n",
        "    for i in np.arange(N_e):\n",
        "        # while dQ_norm > 1e-4:\n",
        "        num_ep += 1  # Increment the episode counter\n",
        "        if rand_start == 0:\n",
        "            s = s0  # Always start from initial state\n",
        "        else:\n",
        "            s = np.random.choice(S)  # Start from random state\n",
        "\n",
        "        # Loop over steps in trajectory:\n",
        "        for j in np.arange(N_t):\n",
        "            num_it += 1  # Increment the iteration counter\n",
        "\n",
        "            # Epsilon-greedy strategy:\n",
        "            rand = rand_vec[rand_ind]; rand_ind += 1\n",
        "            # Explore:\n",
        "            if rand < eps:\n",
        "                # a = np.random.choice(5)  # Random action\n",
        "                a = np.floor(rand_vec[rand_ind]*5).astype(int); rand_ind += 1\n",
        "            # Exploit:\n",
        "            else:\n",
        "                a = np.argmax(Q_v[s, :])  # Best action using current Q\n",
        "\n",
        "            # Transition to new state:\n",
        "            s_1 = np.where(rand_vec[rand_ind] < T_cumsum[s, a, :])[0][0]; rand_ind += 1\n",
        "\n",
        "            # Value iteration update:\n",
        "            dQ1 = alpha * (R[s, a, s_1] + gamma * np.max(Q_v[s_1, :]) - Q_v[s, a])\n",
        "            Q_v[s, a] += dQ1\n",
        "\n",
        "            s = s_1  # Update state\n",
        "\n",
        "        # Check for convergence:\n",
        "        if np.mod(num_ep, n_epoch + 1) == 0:\n",
        "            Q_hat = Q_v.copy()\n",
        "        if num_ep > n_epoch and np.mod(num_ep, n_epoch) == 0:\n",
        "            dQ = Q_hat - Q_v\n",
        "            dQ_norm = np.absolute(dQ).max()\n",
        "            dQ_norm_v = np.append(dQ_norm_v, dQ_norm)\n",
        "            if dQ_norm < tol:\n",
        "                break\n",
        "        \n",
        "        # check that we have enough random numbers to continue\n",
        "        if n_rands - rand_ind <= 3*N_t:\n",
        "          rand_vec = np.random.rand(n_rands)\n",
        "          rand_ind = 0\n",
        "\n",
        "    Q = np.reshape(Q_v, (n, n, N_a))\n",
        "    V_Q = np.max(Q, axis=2)\n",
        "    A_Q = np.argmax(Q_v, axis=1)\n",
        "\n",
        "    print(\"Number of episodes: \", num_ep)\n",
        "    print(\"Number of iterations: \", num_it)\n",
        "\n",
        "    return Q, V_Q, A_Q, dQ_norm_v\n"
      ],
      "execution_count": null,
      "outputs": []
    },
    {
      "cell_type": "code",
      "metadata": {
        "id": "LvQU2p3mX8Ya"
      },
      "source": [
        "# max = True\n",
        "# for a in range(~max):\n",
        "#   print(a)\n",
        "# print(\"exited Loop\")"
      ],
      "execution_count": null,
      "outputs": []
    },
    {
      "cell_type": "code",
      "metadata": {
        "id": "gi5nl27Fh5Vo"
      },
      "source": [
        "# Plot loss function\n",
        "def f_Plot_Loss(dQ_norm_v):\n",
        "  plt.plot(dQ_norm_v)\n",
        "  plt.xlabel('Epoch')\n",
        "  plt.ylabel('Loss')\n",
        "  plt.grid()\n",
        "  plt.show()"
      ],
      "execution_count": null,
      "outputs": []
    },
    {
      "cell_type": "markdown",
      "metadata": {
        "id": "_XFOIWBzm5v5"
      },
      "source": [
        "Test Q-learning:"
      ]
    },
    {
      "cell_type": "code",
      "metadata": {
        "id": "QJQwt-08mzdE"
      },
      "source": [
        "# n = 10 # Dimension of board\n",
        "# N_s = n**2 # Number of states\n",
        "# N_a = 5 # Number of actions\n",
        "# S = np.arange(N_s) # Set of possible states\n",
        "# p1 = 0.9 # Transition probability\n",
        "# p2 = (1-p1)/(N_a-1)\n",
        "# alpha = 0.1 # Learning rate\n",
        "# eps = 0.3 # Epsilon-greedy parameter\n",
        "# gamma = 0.9 # Reward discount rate\n",
        "# N_e = 2500 # Number of episodes\n",
        "# N_t = N_s # Number of actions in trajectory\n",
        "# n_epoch = 50 # Number of episodes in an epoch\n",
        "# tol = 0.5 # Break when loss < tol\n",
        "# s0 = np.random.choice(S) # Starting state\n",
        "\n",
        "# n_o = n # Number of obstacle states\n",
        "# n_r = n # Number of penalty states\n",
        "# n_i = 1 # Number of goal states\n",
        "# n_t = 0 # Number of trap states\n",
        "# o_v,i_v,r_v,t_v = f_Random_Board(n,s0,n_i,n_o,n_r,n_t)\n",
        "\n",
        "# Rd = 2 # Reward for ice cream shop 1\n",
        "# Rs = 5 # Reward for ice cream shop 2\n",
        "# Rw = -1 # Reward for street\n",
        "# Rpts = np.array((Rd,Rs)) # Array of rewards\n",
        "\n",
        "# T = f_Transition_Probability_Matrix(n,o_v,i_v,r_v,t_v,p=p1) # Transition matrix\n",
        "# R = f_Reward_Matrix(T,Rw,i_v,r_v,Rpts,n) # Reward matrix\n",
        "\n",
        "# # Q-learning:\n",
        "# Q, V_Q, A_Q, dQ_norm_v = f_Q_Learning(n,N_s,N_a,N_e,N_t,s0,alpha,eps,gamma,S,T,R,n_epoch,tol,rand_start=0)\n",
        "\n",
        "# H = 100 # Horizon in value iteration\n",
        "# A, V = f_Value_Iteration(n,H,T,R,gamma) # Run value iteration\n",
        "# s_v = f_Simulate(o_v,t_v,n,H,s0,A_Q,p1,rand=0) # Simulate the system using Q-learning\n",
        "\n",
        "# f_Plot_Value(V,n) # Plot heatmap of the value function generated by value iteration\n",
        "# f_Plot_Value(V_Q,n) # Plot heatmap of the value function generated by Q-learning\n",
        "# f_Plot_Actions(A,i_v,o_v,r_v,t_v,n) # Plot the best action using value iteration\n",
        "# f_Plot_Actions(A_Q,i_v,o_v,r_v,t_v,n) # Plot the best action using Q-learning\n",
        "# f_Plot_board(s_v,i_v,o_v,r_v,t_v,n) # Plot the sequence of states using Q-learning\n",
        "# f_Plot_Loss(dQ_norm_v) # Plot loss function"
      ],
      "execution_count": null,
      "outputs": []
    },
    {
      "cell_type": "markdown",
      "metadata": {
        "id": "BJqVb2nD4KK0"
      },
      "source": [
        "## Deep Q-learning"
      ]
    },
    {
      "cell_type": "code",
      "metadata": {
        "id": "fbD0TPnB4Oa_"
      },
      "source": [
        "import numpy as np\n",
        "import math\n",
        "import torch\n",
        "import torch.optim as optim\n",
        "import torch.nn as nn\n",
        "from matplotlib import pyplot as plt\n",
        "import torch.nn.functional as F\n",
        "from torchvision import datasets, transforms\n",
        "from torch.utils.data import DataLoader, TensorDataset"
      ],
      "execution_count": null,
      "outputs": []
    },
    {
      "cell_type": "code",
      "metadata": {
        "colab": {
          "base_uri": "https://localhost:8080/"
        },
        "id": "ozok3c7tJROs",
        "outputId": "7399fa99-f3ce-4124-db52-0e52d3ab5ef1"
      },
      "source": [
        "# Create toy data\n",
        "\n",
        "# The neural network will take the state as input and output Q_hat[s,a]\n",
        "# Inputs: (s, a) or (x, y, a)\n",
        "# Output: Q_hat[s,a]\n",
        "\n",
        "n = 5 # Board dimension\n",
        "N_states = n**2\n",
        "N_actions = 5\n",
        "train_sz = 10*N_states # Number of samples in training dataset\n",
        "train_batch_sz = 10 # Size of training batch\n",
        "\n",
        "# Create sinusoidal training data:\n",
        "data_range = 15\n",
        "x1 = (np.random.uniform(0,data_range, size=(data_range*100, 1)))-data_range/2\n",
        "# x2 = 2*x1 + 3\n",
        "# x3 = np.log(x1) - x2\n",
        "# train1 = np.concatenate((x1,x2,x3))\n",
        "# train2 = np.reshape(train1,(train_sz,3))\n",
        "\n",
        "# Create training labels:\n",
        "frq = 2\n",
        "y = np.sin(frq*x1)\n",
        "\n",
        "device = 'cuda' if torch.cuda.is_available() else 'cpu'\n",
        "\n",
        "# Convert to torch tensors:\n",
        "train_data= torch.from_numpy(x1).float().to(device)\n",
        "train_labels = torch.from_numpy(y).float().to(device)\n",
        "# train_data = torch.Tensor(train2).to(device) # as torch.float32\n",
        "# labels = np.reshape(labels1,(train_sz,1))\n",
        "# train_labels = torch.Tensor(labels)\n",
        "\n",
        "# Create dataset from tensors with matching first dimension\n",
        "# Samples will be drawn from the first dimension\n",
        "train_dataset = TensorDataset(train_data, train_labels)\n",
        "\n",
        "# Create a data loader from the dataset\n",
        "# Type of sampling and batch size are specified at this step\n",
        "train_loader = DataLoader(train_dataset, batch_size=train_batch_sz, shuffle=False)\n",
        "\n",
        "# Create an iterator on the training loader\n",
        "# (this is just to test the size of x_train and y_train)\n",
        "cur_x, cur_y = next(iter(train_loader))\n",
        "print(cur_x.size()) # x_train for current iteration\n",
        "print(cur_y.size()) # y_train for current iteration\n",
        "\n",
        "# variables for plotting results\n",
        "res = 10\n",
        "x_axis = (np.arange(data_range*res)-data_range/2*res).reshape(data_range*res,1)/res\n",
        "x_axis_torch = torch.from_numpy(x_axis).float().to(device)"
      ],
      "execution_count": null,
      "outputs": [
        {
          "output_type": "stream",
          "text": [
            "torch.Size([10, 1])\n",
            "torch.Size([10, 1])\n"
          ],
          "name": "stdout"
        }
      ]
    },
    {
      "cell_type": "code",
      "metadata": {
        "id": "Dic_3iSogQFg"
      },
      "source": [
        "# Fully-connected network:\n",
        "class fc_net(torch.nn.Module):\n",
        "# Network Structure:\n",
        "# Fully Connected -> ReLu -> Fully Connected -> Linear\n",
        "\n",
        "  # Initialize the network and specify input/output dimensions:\n",
        "  def __init__(self, num_in, num_out, w1, w2):\n",
        "    super(fc_net, self).__init__()\n",
        "    self.h1 = torch.nn.Linear(in_features=num_in, out_features=w1)  # Fully-connected layer\n",
        "    self.h2 = torch.nn.Linear(in_features=w2, out_features=1) # Fully-connected layer\n",
        "  \n",
        "  # Build the network:\n",
        "  def forward(self, inputs):\n",
        "    a1 = F.relu(self.h1(inputs)) # ReLu activation\n",
        "    a2 = self.h2(a1) # Linear activation\n",
        "    # a2 = F.sigmoid(self.h2(a1),dim=-1) # Sigmoid activation\n",
        "    return a2"
      ],
      "execution_count": null,
      "outputs": []
    },
    {
      "cell_type": "code",
      "metadata": {
        "id": "BwiV8dQ94kfw"
      },
      "source": [
        "# Train the model:\n",
        "def train(model,loss,train_loader,optimizer,epoch):\n",
        "  model.train()\n",
        "  # print('Train Epoch: ', epoch)\n",
        "  for batch_idx, (cur_x, cur_y) in enumerate(train_loader):\n",
        "\n",
        "    optimizer.zero_grad() # Zero out gradients\n",
        "    output = model.forward(cur_x) # Propagate forward through network\n",
        "    cur_loss = loss(output, cur_y) # Compute loss at current iteration\n",
        "    cur_loss.backward() # Backprop\n",
        "    optimizer.step() # Step of optimizer\n",
        "    losses.append(cur_loss)\n",
        "    \n",
        "    # if np.mod(batch_idx+1,it) == 0:\n",
        "    #   print('Iteration: ', batch_idx+1, ' Loss: ', round(cur_loss.item(),5))"
      ],
      "execution_count": null,
      "outputs": []
    },
    {
      "cell_type": "code",
      "metadata": {
        "id": "G6WG79JRpqKv"
      },
      "source": [
        "# Plot the loss:\n",
        "def f_Plot_loss(losses):\n",
        "  plt.plot(losses, '-', color = \"black\")\n",
        "  plt.title('Training Loss')\n",
        "  plt.xlabel('Iteration')\n",
        "  plt.ylabel('Loss')\n",
        "  plt.grid()\n",
        "  plt.show()"
      ],
      "execution_count": null,
      "outputs": []
    },
    {
      "cell_type": "code",
      "metadata": {
        "colab": {
          "base_uri": "https://localhost:8080/"
        },
        "id": "ulBZE_6D4p-n",
        "outputId": "a38392d3-c00e-4640-fd18-00cdef0c22f7"
      },
      "source": [
        "lr = 2e-3 # Learning rate\n",
        "n_epochs = 150 # Number of training epochs\n",
        "plot_every = n_epochs/5 # Plot five times\n",
        "\n",
        "num_in = 1 # Dimension of input\n",
        "num_out = 1 # Dimension of output\n",
        "\n",
        "w1 = 200 # Width of hidden layer 1\n",
        "w2 = 200 # Width of hidden layer 2\n",
        "\n",
        "losses = [] # Array of training losses\n",
        "\n",
        "model = fc_net(num_in, num_out, w1, w2).to(device)\n",
        "loss = nn.MSELoss(reduction='mean') # Mean squared error loss\n",
        "# opt = torch.optim.SGD(model.parameters(), lr=lr) # SGD\n",
        "# opt = torch.optim.SGD(model.parameters(), lr=lr), momentum=0.4) # SGD with momentum\n",
        "opt = torch.optim.Adam(model.parameters(), lr=lr) # Adam\n",
        "\n",
        "for epoch in np.arange(n_epochs)+1:\n",
        "  train(model,loss,train_loader,opt,epoch)\n",
        "\n",
        "  if (epoch % plot_every) == 0:\n",
        "    labels = (np.sin(frq*x_axis_torch.cpu())).detach().numpy()\n",
        "    labels_hat = model(x_axis_torch).cpu().detach().numpy()\n",
        "\n",
        "    plt.plot(labels)\n",
        "    plt.plot(labels_hat)\n",
        "    plt.grid()\n",
        "    plt.show()\n",
        "\n",
        "f_Plot_loss(losses)"
      ],
      "execution_count": null,
      "outputs": [
        {
          "output_type": "display_data",
          "data": {
            "image/png": "[encoded data removed]",
            "text/plain": [
              "<Figure size 432x288 with 1 Axes>"
            ]
          },
          "metadata": {
            "tags": [],
            "needs_background": "light"
          }
        },
        {
          "output_type": "display_data",
          "data": {
            "image/png": "[encoded data removed]",
            "text/plain": [
              "<Figure size 432x288 with 1 Axes>"
            ]
          },
          "metadata": {
            "tags": [],
            "needs_background": "light"
          }
        },
        {
          "output_type": "display_data",
          "data": {
            "image/png": "[encoded data removed]",
            "text/plain": [
              "<Figure size 432x288 with 1 Axes>"
            ]
          },
          "metadata": {
            "tags": [],
            "needs_background": "light"
          }
        },
        {
          "output_type": "display_data",
          "data": {
            "image/png": "[encoded data removed]",
            "text/plain": [
              "<Figure size 432x288 with 1 Axes>"
            ]
          },
          "metadata": {
            "tags": [],
            "needs_background": "light"
          }
        },
        {
          "output_type": "display_data",
          "data": {
            "image/png": "[encoded data removed]",
            "text/plain": [
              "<Figure size 432x288 with 1 Axes>"
            ]
          },
          "metadata": {
            "tags": [],
            "needs_background": "light"
          }
        },
        {
          "output_type": "display_data",
          "data": {
            "image/png": "[encoded data removed]",
            "text/plain": [
              "<Figure size 432x288 with 1 Axes>"
            ]
          },
          "metadata": {
            "tags": [],
            "needs_background": "light"
          }
        }
      ]
    },
    {
      "cell_type": "markdown",
      "metadata": {
        "id": "zVNPxtXeS55t"
      },
      "source": [
        "## Q-learning NUMBA"
      ]
    },
    {
      "cell_type": "code",
      "metadata": {
        "id": "Ar3QdsBZZpqm"
      },
      "source": [
        "# # Q-learning NUMBA\n",
        "# import numpy as np\n",
        "# import math\n",
        "# from numba import jit, njit, vectorize, cuda\n",
        "# #make sure to use 32 bit floats when using GPU (either set dtype or ndarray.astype())\n",
        "\n",
        "# # import llvmlite.binding as llvm\n",
        "# # llvm.set_option('', '--debug-only=loop-vectorize')"
      ],
      "execution_count": null,
      "outputs": []
    },
    {
      "cell_type": "code",
      "metadata": {
        "id": "XpWDhjNKoTUF"
      },
      "source": [
        "# #Numba Take Action\n",
        "# @jit(nopython = True)\n",
        "# def f_take_action_NUMBA(s_f, a_f, sVect_f, T_f):\n",
        "#   bagMultiplier = 1000\n",
        "#   T_big = (T[s,a,:]*bagMultiplier).astype(np.int32)\n",
        "#   bag = np.ones(np.sum(T_big), np.int32)\n",
        "\n",
        "#   counter = 0\n",
        "#   for index in range(sVect_f[-1]):\n",
        "#     bag[counter:(counter + T_big[index])] = bag[counter:(counter + T_big[index])]*sVect_f[index]\n",
        "#     counter = counter + T_big[index]\n",
        "\n",
        "#   s_1 = np.random.choice(bag) # new state, chosen with prob from T\n",
        "#   return s_1\n"
      ],
      "execution_count": null,
      "outputs": []
    },
    {
      "cell_type": "code",
      "metadata": {
        "id": "wBPSc0Dn_HPk"
      },
      "source": [
        "# #@jit(nopython = True)\n",
        "# @jit\n",
        "# def f_Q_Learning_s0(n, N_s, N_a,N_e,N_t,s0,alpha,eps,gamma,S,T,R,n_epoch,tol,rand_start=1):\n",
        "\n",
        "#   Q_v = np.zeros((N_s,N_a)) # Initialize Q_v\n",
        "\n",
        "#   num_it = 0 # Number of iterations\n",
        "#   num_ep = 0 # Number of episodes\n",
        "#   dQ_norm = 1\n",
        "#   dQ_norm_v = np.array([])\n",
        "\n",
        "#   # Loop over episodes:\n",
        "#   for i in np.arange(N_e):\n",
        "#   # while dQ_norm > 1e-4:\n",
        "#     num_ep += 1 # Increment the episode counter\n",
        "#     s = int(s0)\n",
        "\n",
        "#     # Loop over steps in trajectory:\n",
        "#     for j in np.arange(N_t):\n",
        "#       num_it += 1 # Increment the iteration counter\n",
        "\n",
        "#       # Epsilon-greedy strategy:\n",
        "#       rand = np.random.rand(1)\n",
        "#       # Explore:\n",
        "#       for cnt in (rand<= eps):\n",
        "#         a = np.random.randint(0,5) # Random action\n",
        "#       # Exploit:\n",
        "#       for cnt in (rand > eps):\n",
        "#         a = np.argmax(Q_v[s,1:]) # Best action using current Q\n",
        "\n",
        "#       # Transition to new state:\n",
        "\n",
        "#       # Value iteration update:\n",
        "#       dQ1 = alpha*(R[s,a,s_1] + gamma*np.max(Q_v[s_1,:]) - Q_v[s,a])\n",
        "#       Q_v[s,a] += dQ1\n",
        "\n",
        "#       s = s_1 # Update state\n",
        "\n",
        "#     # Check for convergence:\n",
        "#     if np.mod(num_ep,n_epoch+1) == 0:\n",
        "#       Q_hat = np.copy(Q_v)\n",
        "#     if num_ep > n_epoch and np.mod(num_ep,n_epoch) == 0:\n",
        "#       dQ = Q_hat - Q_v\n",
        "#       dQ_norm = abs((dQ).max())\n",
        "#       dQ_norm_v = np.append(dQ_norm_v,dQ_norm)\n",
        "#       if dQ_norm < tol:\n",
        "#         break\n",
        "\n",
        "#   Q = Q_v.reshape((n,n,N_a))\n",
        "#   V_Q = np.max(Q,axis=2)\n",
        "#   A_Q = np.argmax(Q_v,axis=1)\n",
        "\n",
        "#   print(\"Number of episodes: \", num_ep)\n",
        "#   print(\"Number of iterations: \", num_it)\n",
        "\n",
        "#   return Q, V_Q, A_Q, dQ_norm_v"
      ],
      "execution_count": null,
      "outputs": []
    },
    {
      "cell_type": "code",
      "metadata": {
        "id": "BAtriThFJIwe"
      },
      "source": [
        "# #Build up NUMBA GPU CODE\n",
        "# @jit(nopython = True)\n",
        "# # @jit\n",
        "# def f_Q_Learning_GPU(n, N_s, N_a,N_e,N_t,s0,alpha,eps,gamma,S,T,R,n_epoch,tol,rand_start=1):\n",
        "\n",
        "#   Q_v = np.zeros((N_s,N_a)) # Initialize Q_v\n",
        "#   Q = np.zeros((N_s,N_a)) # Initialize Q\n",
        "\n",
        "\n",
        "  # num_it = 0 # Number of iterations\n",
        "  # num_ep = 0 # Number of episodes\n",
        "  # dQ_norm = 1\n",
        "  # dQ_norm_v = np.array([])\n",
        "\n",
        "  # # Loop over episodes:\n",
        "  # for i in np.arange(N_e):\n",
        "  # # while dQ_norm > 1e-4:\n",
        "  #   num_ep += 1 # Increment the episode counter\n",
        "  #   s = int(s0)\n",
        "\n",
        "  #   # Loop over steps in trajectory:\n",
        "  #   for j in np.arange(N_t):\n",
        "  #     num_it += 1 # Increment the iteration counter\n",
        "\n",
        "  #     # Epsilon-greedy strategy:\n",
        "  #     rand = np.random.rand(1)\n",
        "  #     # Explore:\n",
        "  #     for cnt in (rand<= eps):\n",
        "  #       a = np.random.randint(0,5) # Random action\n",
        "  #     # Exploit:\n",
        "  #     for cnt in (rand > eps):\n",
        "  #       a = np.argmax(Q_v[s,1:]) # Best action using current Q\n",
        "\n",
        "  #     # Transition to new state:\n",
        "\n",
        "  #     # Value iteration update:\n",
        "  #     dQ1 = alpha*(R[s,a,s_1] + gamma*np.max(Q_v[s_1,:]) - Q_v[s,a])\n",
        "  #     Q_v[s,a] += dQ1\n",
        "\n",
        "  #     s = s_1 # Update state\n",
        "\n",
        "  #   # Check for convergence:\n",
        "  #   if np.mod(num_ep,n_epoch+1) == 0:\n",
        "  #     Q_hat = np.copy(Q_v)\n",
        "  #   if num_ep > n_epoch and np.mod(num_ep,n_epoch) == 0:\n",
        "  #     dQ = Q_hat - Q_v\n",
        "  #     dQ_norm = abs((dQ).max())\n",
        "  #     dQ_norm_v = np.append(dQ_norm_v,dQ_norm)\n",
        "  #     if dQ_norm < tol:\n",
        "  #       break\n",
        "\n",
        "  # Q = Q_v.reshape((n,n,N_a))\n",
        "  # print(Q)\n",
        "  # V_Q = np.maximum(Q,[],axis=2)\n",
        "  # # A_Q = Q_v.argmax(axis=1)\n",
        "\n",
        "  # print(\"Number of episodes: \", num_ep)\n",
        "  # print(\"Number of iterations: \", num_it)\n",
        "\n",
        "  # return Q #, V_Q, A_Q, dQ_norm_v"
      ],
      "execution_count": null,
      "outputs": []
    },
    {
      "cell_type": "code",
      "metadata": {
        "id": "g18Wlh5v0CYo"
      },
      "source": [
        "# #Test Q-Learning NUMBA\n",
        "# n = 5 # Dimension of board\n",
        "# N_s = n**2 # Number of states\n",
        "# N_a = 5 # Number of actions\n",
        "# S = np.arange(N_s) # Set of possible states\n",
        "# S = S.astype(np.int32)\n",
        "# p1 = 0.9 # Transition probability\n",
        "# p2 = (1-p1)/(N_a-1)\n",
        "# alpha = 0.1 # Learning rate\n",
        "# eps = 0.3 # Epsilon-greedy parameter\n",
        "# gamma = 0.9 # Reward discount rate\n",
        "# N_e = 2500 # Number of episodes\n",
        "# N_t = N_s # Number of actions in trajectory\n",
        "# n_epoch = 50 # Number of episodes in an epoch\n",
        "# tol = 0.5 # Break when loss < tol\n",
        "# # s0 = np.random.choice(S) # Starting state\n",
        "\n",
        "# n_o = int(n/2) # Number of obstacle states\n",
        "# n_r = int(n/2) # Number of penalty states\n",
        "# n_i = 1 # Number of goal states\n",
        "# n_t = 0 # Number of trap states\n",
        "# o_v,i_v,r_v,t_v = f_Random_Board(n,s0,n_i,n_o,n_r,n_t)\n",
        "# o_v.astype(np.float32)\n",
        "\n",
        "# Rd = 2 # Reward for ice cream shop 1\n",
        "# Rs = 5 # Reward for ice cream shop 2\n",
        "# Rw = -1 # Reward for street\n",
        "# Rpts = np.array((Rd,Rs),np.float32) # Array of rewards\n",
        "\n",
        "# T = f_Transition_Probability_Matrix(n,o_v,i_v,r_v,t_v,p=p1) # Transition matrix\n",
        "# R = f_Reward_Matrix(T,Rw,i_v,r_v,Rpts,n) # Reward matrix\n",
        "# T = T.astype(np.float32)\n",
        "# R = R.astype(np.float32)\n",
        "\n",
        "# a = 1\n",
        "# s = 10\n",
        "# nRun = 1000\n",
        "# b = np.zeros(nRun, np.int32)\n",
        "# for i in np.arange(nRun):\n",
        "#   b[i] = f_take_action_NUMBA(s, a, S, T)\n",
        "# plt.hist(b)\n",
        "# # # Q-learning:\n",
        "# Q = f_Q_Learning_GPU(n,N_s,N_a,N_e,N_t,s0,alpha,eps,gamma,S,T,R,n_epoch,tol,rand_start=0)\n",
        "# # Q, V_Q, A_Q, dQ_norm_v = f_Q_Learning_GPU(n,N_s,N_a,N_e,N_t,s0,alpha,eps,gamma,S,T,R,n_epoch,tol,rand_start=0)\n",
        "\n",
        "# # H = 100 # Horizon in value iteration\n",
        "# # A, V = f_Value_Iteration(n,H,T,R,gamma) # Run value iteration\n",
        "# # s_v = f_Simulate(o_v,t_v,n,H,s0,A_Q,p,rand=0) # Simulate the system using Q-learning\n",
        "\n",
        "# # f_Plot_Value(V,n) # Plot heatmap of the value function generated by value iteration\n",
        "# # f_Plot_Value(V_Q,n) # Plot heatmap of the value function generated by Q-learning\n",
        "# # f_Plot_Actions(A,i_v,o_v,r_v,t_v,n) # Plot the best action using value iteration\n",
        "# # f_Plot_Actions(A_Q,i_v,o_v,r_v,t_v,n) # Plot the best action using Q-learning\n",
        "# # f_Plot_board(s_v,i_v,o_v,r_v,t_v,n) # Plot the sequence of states using Q-learning\n",
        "# # f_Plot_Loss(dQ_norm_v) # Plot loss function"
      ],
      "execution_count": null,
      "outputs": []
    },
    {
      "cell_type": "markdown",
      "metadata": {
        "id": "18nG2t5l4GQW"
      },
      "source": [
        "## RRT & RRT*"
      ]
    },
    {
      "cell_type": "markdown",
      "metadata": {
        "id": "FHFlxSlEHuht"
      },
      "source": [
        "RRT"
      ]
    },
    {
      "cell_type": "code",
      "metadata": {
        "id": "cau10VdKiuon"
      },
      "source": [
        "# This function plots the goal, obstacle, penalty, trap, and start states:\n",
        "def f_Plot_gopts(i_v,o_v,r_v,t_v,n):\n",
        "    M, Ms, As = f_Vector_to_Matrix(np.array([s0]),i_v,o_v,r_v,t_v,n) # Convert to matrix form\n",
        "\n",
        "    fig = plt.figure()\n",
        "    ax = fig.add_subplot(1, 1, 1)\n",
        "    plt.gca().set_aspect('equal', adjustable='box')\n",
        "    \n",
        "    # Loop through the boxes in the grid and plot the pieces on the board:\n",
        "    for i in np.arange(n):\n",
        "      for j in np.arange(n):\n",
        "        # Plot the ice cream shops as blue circles:\n",
        "        if M.T[i,n-1-j] == 1:\n",
        "            plt.scatter(i+0.5,j+0.5,s=500*(5/n)**2,marker=\"o\",facecolors='none', edgecolors='b')\n",
        "        # Plot the obstacles as black squares:\n",
        "        elif M.T[i,n-1-j] == -1:\n",
        "            plt.scatter(i+0.5,j+0.5,s=1700*(5/n)**2,marker=\"s\",facecolors='k', edgecolors='k')\n",
        "        # Plot the roads as red squares:\n",
        "        elif M.T[i,n-1-j] == -2:\n",
        "            plt.scatter(i+0.5,j+0.5,s=1700*(5/n)**2,marker=\"s\",facecolors='r', edgecolors='r')\n",
        "        # Plot the traps as blue squares:\n",
        "        elif M.T[i,n-1-j] == -3:\n",
        "            plt.scatter(i+0.5,j+0.5,s=1700*(5/n)**2,marker=\"s\",facecolors='b', edgecolors='b')\n",
        "        # Plot the starting state with an x:\n",
        "        if Ms.T[i,n-1-j] == 1:\n",
        "            plt.scatter(i+0.5,j+0.5,s=400*(5/n)**2,marker=\"x\",facecolors='k', edgecolors='k')\n",
        "    \n",
        "    plt.xlim(0, n)\n",
        "    plt.ylim(0, n)\n",
        "    major_ticks = np.arange(0, n+1, 1)\n",
        "    ax.set_xticks(major_ticks)\n",
        "    ax.set_yticks(major_ticks)\n",
        "    ax.grid(which='both')"
      ],
      "execution_count": null,
      "outputs": []
    },
    {
      "cell_type": "code",
      "metadata": {
        "id": "m-yDz7TMivwS"
      },
      "source": [
        "# Compute the distance between two states:\n",
        "def f_Dist(v_new,v,dmode):\n",
        "  x,y = f_State_to_Matrix(v_new,n)\n",
        "  xv,yv = f_State_to_Matrix(v,n)\n",
        "  # x,y = f_State_to_Position(v_new,n)\n",
        "  # xv,yv = f_State_to_Position(v,n)\n",
        "  # Euclidean norm\n",
        "  if dmode == 2:\n",
        "    d = np.sqrt((x-xv)**2 + (y-yv)**2)\n",
        "  # Manhattan norm\n",
        "  elif dmode == 1:\n",
        "    d = np.abs(x-xv) + np.abs(y-yv)\n",
        "  return d"
      ],
      "execution_count": null,
      "outputs": []
    },
    {
      "cell_type": "code",
      "metadata": {
        "id": "I1X-aBoUizLR"
      },
      "source": [
        "# Find the nearest vertex to v_new in Vertex_list\n",
        "def f_Nearest(Vertex_list,v_new,dmode):\n",
        "  d = np.zeros(len(Vertex_list)) # Array of distances\n",
        "  # For every vertex in Vertex_list\n",
        "  for i in np.arange(len(Vertex_list)):\n",
        "    v = Vertex_list[i] # Get a vertex\n",
        "    d[i] = f_Dist(v_new,v,dmode=dmode) # Compute distance\n",
        "  idx = np.argmin(d) # Index of smallest distance\n",
        "  v_nearest = Vertex_list[idx] # Nearest vertex\n",
        "  return v_nearest, idx, d[idx] # Return nearest vertex, its index, and distance"
      ],
      "execution_count": null,
      "outputs": []
    },
    {
      "cell_type": "code",
      "metadata": {
        "id": "1dPOMJg5i1Q_"
      },
      "source": [
        "# Get a vertex no more than a certain distance away\n",
        "def f_Get_feasible_vertex(Vertex_list,v_nearest,v_new,n,gr,d):\n",
        "  x_nearest, y_nearest = f_State_to_Position(v_nearest,n) # Get x-y coords of nearest vertex\n",
        "  x_new, y_new = f_State_to_Position(v_new,n) # Get x-y coords of proposed new vertex\n",
        "  dy = y_new - y_nearest # y-displacement\n",
        "  dx = x_new - x_nearest # x-displacement\n",
        "  # Compute the coordinates of a point gr units in the direction of the proposed vertex\n",
        "  xn = x_nearest + (gr/d)*dx\n",
        "  yn = y_nearest + (gr/d)*dy\n",
        "  # xn = x_nearest + (gr/np.sqrt(dx**2+dy**2))*dx # x position\n",
        "  # yn = y_nearest + (gr/np.sqrt(dx**2+dy**2))*dy # y position\n",
        "\n",
        "  # Round the coords to the nearest integer coordinates in\n",
        "  # the direction of x_nearest, y_nearest:\n",
        "  if xn > x_nearest:\n",
        "    xn = np.floor(xn)\n",
        "  elif xn < x_nearest:\n",
        "    xn = np.ceil(xn)\n",
        "  if yn > y_nearest:\n",
        "    yn = np.floor(yn)\n",
        "  elif yn < y_nearest:\n",
        "    yn = np.ceil(yn)\n",
        "\n",
        "  v_feasible = f_Pos_to_State(xn,yn,n) # Get nearest state index for xn, yn\n",
        "  return v_feasible"
      ],
      "execution_count": null,
      "outputs": []
    },
    {
      "cell_type": "code",
      "metadata": {
        "id": "1AnAvWhoi7Hg"
      },
      "source": [
        "# Builds a rapidly-exploring random tree rooted at s0\n",
        "def f_RRT(s0,o_v,r_v,n,n_it=50,gr=5,dmode=1):\n",
        "  counter = 0 # Counter\n",
        "  # Remove start state from list of new possible vertices:\n",
        "  Sv = np.setdiff1d(np.arange(N_s), s0)\n",
        "  Vertex_list = np.array([s0]) # List of vertices\n",
        "  Edge_list = np.array([]) # List of edges\n",
        "\n",
        "  while counter <= n_it:\n",
        "    v_new = np.random.choice(Sv) # Propose a new vertex at a random state from S\n",
        "    v_nearest,_, d = f_Nearest(Vertex_list,v_new,dmode=dmode) # Get nearest vertex\n",
        "    # If distance greater than growth rate gr:\n",
        "    if d > gr:\n",
        "      # Get a feasible vertex at a distance of gr in the direction of v_new\n",
        "      v_new = f_Get_feasible_vertex(Vertex_list,v_nearest,v_new,n,gr,d)\n",
        "    # If v_new is not in an obstacle state:\n",
        "    if v_new not in o_v:\n",
        "      Sv = np.setdiff1d(Sv, v_new) # Update possible states\n",
        "      # v_nearest,_,_ = f_Nearest(Vertex_list,v_new,dmode=dmode) # Get nearest vertex\n",
        "      # Add a new edge to the graph from v_nearest to v_new:\n",
        "      new_edge = np.array([v_nearest,v_new])\n",
        "      # Append the new vertex to Vertex_list:\n",
        "      Vertex_list = np.append(Vertex_list,v_new)\n",
        "      # Append the new edge to Edge_list:\n",
        "      Edge_list = np.append(Edge_list,new_edge)\n",
        "    counter += 1 # Increment the counter\n",
        "\n",
        "  # Reshape Edge_list to a matrix with 2 columns, for better readability:\n",
        "  Edge_list = np.reshape(Edge_list,(int(len(Edge_list)/2),2))\n",
        "\n",
        "  return Vertex_list, Edge_list"
      ],
      "execution_count": null,
      "outputs": []
    },
    {
      "cell_type": "markdown",
      "metadata": {
        "id": "SatVB3FyjCNE"
      },
      "source": [
        "Test RRT:"
      ]
    },
    {
      "cell_type": "code",
      "metadata": {
        "id": "17yiy-NPyhyz"
      },
      "source": [
        "# Plot RRT\n",
        "def f_Plot_RRT(Edge_list,n):\n",
        "  for edge in Edge_list:\n",
        "    # Get x-y coordinates:\n",
        "    x0,y0 = f_State_to_Position(edge[0],n)\n",
        "    x1,y1 = f_State_to_Position(edge[1],n)\n",
        "    # Plot vertices:\n",
        "    plt.scatter(x0,y0,s=75*(5/n)**2,marker=\"o\",facecolors='k', edgecolors='k')\n",
        "    plt.scatter(x1,y1,s=75*(5/n)**2,marker=\"o\",facecolors='k', edgecolors='k')\n",
        "    # Plot edge:\n",
        "    plt.plot(np.array([x0,x1]), np.array([y0,y1]),'k',linestyle='-')"
      ],
      "execution_count": null,
      "outputs": []
    },
    {
      "cell_type": "code",
      "metadata": {
        "id": "k6_KhtAki-rI",
        "colab": {
          "base_uri": "https://localhost:8080/"
        },
        "outputId": "6e7c700a-7071-4100-d475-ce87777cbc18"
      },
      "source": [
        "n = 50 # Dimension of board\n",
        "N_s = n**2 # Number of states\n",
        "N_a = 5 # Number of actions\n",
        "p1 = 0.9 # Transition probability\n",
        "p2 = (1-p1)/(N_a-1)\n",
        "alpha = 0.1 # Learning rate\n",
        "eps = 0.3 # Epsilon-greedy parameter\n",
        "gamma = 0.9 # Reward discount rate\n",
        "N_e = 2500 # Number of episodes\n",
        "N_t = N_s # Number of actions in trajectory\n",
        "n_epoch = 50 # Number of episodes in an epoch\n",
        "tol = 0.5 # Break when loss < tol\n",
        "n_it = 10*n # Number of RRT iterations\n",
        "\n",
        "n_o = n # Number of obstacle states\n",
        "n_r = n # Number of penalty states\n",
        "n_i = 1 # Number of goal states\n",
        "n_t = 0 # Number of trap states\n",
        "s0 = n**2 - n # Set start in the bottom left corner\n",
        "i_v = np.array([n-1]) # Set goal in the top right corner\n",
        "o_v,_,r_v,t_v = f_Random_Board(n,np.append(i_v,s0),n_i,n_o,n_r,n_t) # Random board\n",
        "\n",
        "Vertex_list, Edge_list = f_RRT(s0,o_v,r_v,n,n_it=n_it,gr=5) # Run RRT\n",
        "\n",
        "f_Plot_gopts(i_v,o_v,r_v,t_v,n) # Plot obstacles, etc\n",
        "f_Plot_RRT(Edge_list,n) # Plot RRT graph\n",
        "plt.show()"
      ],
      "execution_count": null,
      "outputs": [
        {
          "output_type": "display_data",
          "data": {
            "image/png": "[encoded data removed]",
            "text/plain": [
              "<Figure size 432x288 with 1 Axes>"
            ]
          },
          "metadata": {
            "tags": [],
            "needs_background": "light"
          }
        }
      ]
    },
    {
      "cell_type": "markdown",
      "metadata": {
        "id": "uQ1bjzmUHpBo"
      },
      "source": [
        "RRT*"
      ]
    },
    {
      "cell_type": "code",
      "metadata": {
        "id": "n6YNdKJzHnuz"
      },
      "source": [
        "# # Get states that neighbor v_new\n",
        "# def f_get_neighbors(v_new,Vertex_list,n,radius,dmode):\n",
        "#   Sn = np.array([],'i') # Array of neighbor states\n",
        "#   # For every vertex:\n",
        "#   for i in np.arange(len(Vertex_list)):\n",
        "#     v = Vertex_list[i] # Get a vertex\n",
        "#     if v != v_new and f_Dist(v_new,v,dmode=dmode) <= radius: # If distance <= radius\n",
        "#       Sn = np.append(Sn,i) # Add vertex indices to array of neigbors\n",
        "#   return Sn"
      ],
      "execution_count": null,
      "outputs": []
    },
    {
      "cell_type": "code",
      "metadata": {
        "id": "BBYKRYL6jlks"
      },
      "source": [
        "# # Get minimum-cost neighbor of v_new, and its index\n",
        "# def f_get_min_cost_neighbor(v_new,Vertex_list,Cost_list,n,radius,dmode):\n",
        "#   neighbor_idx = f_get_neighbors(v_new,Vertex_list,n,radius,dmode=dmode) # Neighborhood of v_new\n",
        "#   cost_idx = np.argmin(Cost_list[neighbor_idx]) # Index of minimum-cost neighbor\n",
        "#   min_neighbor_idx = neighbor_idx[cost_idx] # Minimum-cost neighbor index\n",
        "#   min_neighbor = Vertex_list[min_neighbor_idx] # Minimum-cost neighbor\n",
        "#   return min_neighbor, min_neighbor_idx"
      ],
      "execution_count": null,
      "outputs": []
    },
    {
      "cell_type": "code",
      "metadata": {
        "id": "AaJEpIFFAQ0z"
      },
      "source": [
        "# # Get subset of x given by mask (an array of 0s and 1s)\n",
        "# def f_subset(mask,x):\n",
        "#   c = mask*x # Multiply by mask\n",
        "#   return c[c!=0] # Get nonzero entries"
      ],
      "execution_count": null,
      "outputs": []
    },
    {
      "cell_type": "code",
      "metadata": {
        "id": "UY-GngmWAX5G"
      },
      "source": [
        "# # Rewire the RRT tree:\n",
        "# def f_Rewire(v_min,Vertex_list,Edge_list,Cost_list,new_cost,n,radius,dmode=2):\n",
        "#   neighbor_idx = f_get_neighbors(v_min,Vertex_list,n,radius,dmode=dmode) # Indices of neighbors of v_min\n",
        "#   neighbors = Vertex_list[neighbor_idx] # Neighbors of v_min\n",
        "#   costs = Cost_list[neighbor_idx] # Costs of neighbors of v_min\n",
        "#   potential_costs = np.zeros(len(neighbors)) # Costs of the neighbors if they were routed through v_min\n",
        "#   # For all neighbors:\n",
        "#   for i in np.arange(len(neighbors)):\n",
        "#     v = neighbors[i] # Get a vertex\n",
        "#     d_p = f_Dist(v_min,v,dmode=dmode) # Distance between v and v_min\n",
        "#     potential_costs[i] = new_cost + d_p # New cost of v\n",
        "#   update = potential_costs < costs # Are the new costs less than the old costs?\n",
        "#   rewire_neighbors = f_subset(update,neighbors) # Vertices to rewire\n",
        "#   rewire_idx = f_subset(update,neighbor_idx) # Indices of vertices to rewire\n",
        "#   rewire_costs = f_subset(update,potential_costs) # Costs of vertices to rewire\n",
        "\n",
        "#   # If rewire_neighbors is not empty:\n",
        "#   if rewire_neighbors.size > 0:\n",
        "#     # Remove old edges:\n",
        "#     for v_rewire in rewire_neighbors:\n",
        "#       w = np.where(Edge_list==v_rewire)[0] # Get entries of Edge_list that include v_rewire\n",
        "#       # Since we're dealing with a tree, each vertex has exactly one incoming edge\n",
        "#       # This means there is exactly one odd-valued index in w.\n",
        "#       remove_idx = w[np.where(np.mod(w,2)==1)][0] # Save this index to remove_idx\n",
        "#       Edge_list = np.delete(Edge_list, [remove_idx,remove_idx-1]) # Remove the edge entering v_rewire\n",
        "#     # Add new edges:\n",
        "#     for v_rewire in rewire_neighbors:\n",
        "#       rewire_edge = np.array([v_min,v_rewire]) # New edge between v_min and r_rewire\n",
        "#       Edge_list = np.append(Edge_list,rewire_edge) # Append to Edge_list\n",
        "#     # Update costs:\n",
        "#     for i in np.arange(len(rewire_neighbors)):\n",
        "#       Cost_list[rewire_idx[i]] = rewire_costs[i] # Update Cost_list with the rewired cost\n",
        "\n",
        "#   return Edge_list, Cost_list"
      ],
      "execution_count": null,
      "outputs": []
    },
    {
      "cell_type": "code",
      "metadata": {
        "id": "fuzFtZ2jjnKv"
      },
      "source": [
        "# # Builds a rapidly-exploring random tree rooted at s0\n",
        "# def f_RRT_star(s0,o_v,r_v,n,n_it=50,gr=5,dmode=2):\n",
        "#   counter = 0 # Counter\n",
        "#   # Remove start state from list of new possible vertices:\n",
        "#   Sv = np.setdiff1d(np.arange(N_s), s0)\n",
        "#   Vertex_list = np.array([s0]) # List of vertices\n",
        "#   Edge_list = np.array([]) # List of edges\n",
        "#   Cost_list = np.array([0]) # List of vertex costs\n",
        "\n",
        "#   while counter <= n_it:\n",
        "#     v_new = np.random.choice(Sv) # Propose a new vertex at a random state from S\n",
        "#     v_nearest, idx, d = f_Nearest(Vertex_list,v_new,dmode=dmode) # Get nearest vertex\n",
        "#     # If distance greater than growth rate gr:\n",
        "#     if d > gr:\n",
        "#       # Get a feasible vertex at a distance of gr from v_nearest in the direction of v_proposal\n",
        "#       v_new = f_Get_feasible_vertex(Vertex_list,v_nearest,v_new,n,gr,d)\n",
        "#       d = gr\n",
        "#     # If v_new is not in an obstacle state:\n",
        "#     if v_new not in o_v:\n",
        "#       # Get minimum-cost neighbor of v_new:\n",
        "#       v_min, _ = f_get_min_cost_neighbor(v_new,Vertex_list,Cost_list,n,radius=gr,dmode=dmode)\n",
        "\n",
        "#       # Update possible states:\n",
        "#       Sv = np.setdiff1d(Sv, v_new)\n",
        "#       # Add a new edge to the graph from v_min to v_new:\n",
        "#       new_edge = np.array([v_min,v_new])\n",
        "#       # Append the new vertex to Vertex_list:\n",
        "#       Vertex_list = np.append(Vertex_list,v_new)\n",
        "#       # Append the new edge to Edge_list:\n",
        "#       Edge_list = np.append(Edge_list,new_edge)\n",
        "#       # The cost of a vertex is the cost of its parents\n",
        "#       # plus the cost of the edge between them:\n",
        "#       new_cost = Cost_list[idx] + d\n",
        "#       # Append the new cost to Cost_list:\n",
        "#       Cost_list = np.append(Cost_list,new_cost)\n",
        "\n",
        "#       # Edge_list, Cost_list = f_Rewire(v_min,Vertex_list,Edge_list,Cost_list,new_cost,n,radius=gr,dmode=dmode)\n",
        "\n",
        "#     counter += 1 # Increment the counter\n",
        "\n",
        "#   # Reshape Edge_list to a matrix with 2 columns, for better readability:\n",
        "#   Edge_list = np.reshape(Edge_list,(int(len(Edge_list)/2),2))\n",
        "\n",
        "#   return Vertex_list, Edge_list, Cost_list"
      ],
      "execution_count": null,
      "outputs": []
    },
    {
      "cell_type": "markdown",
      "metadata": {
        "id": "KVqgjyMZjr0W"
      },
      "source": [
        "Test RRT*:"
      ]
    },
    {
      "cell_type": "code",
      "metadata": {
        "id": "IVEcLsrLjqwG"
      },
      "source": [
        "# n = 30 # Dimension of board\n",
        "# N_s = n**2 # Number of states\n",
        "# N_a = 5 # Number of actions\n",
        "# p1 = 0.9 # Transition probability\n",
        "# p2 = (1-p1)/(N_a-1)\n",
        "# alpha = 0.1 # Learning rate\n",
        "# eps = 0.3 # Epsilon-greedy parameter\n",
        "# gamma = 0.9 # Reward discount rate\n",
        "# N_e = 2500 # Number of episodes\n",
        "# N_t = N_s # Number of actions in trajectory\n",
        "# n_epoch = 50 # Number of episodes in an epoch\n",
        "# tol = 0.5 # Break when loss < tol\n",
        "# n_it = 10*n # Number of RRT iterations\n",
        "\n",
        "# n_o = n # Number of obstacle states\n",
        "# n_r = n # Number of penalty states\n",
        "# n_i = 1 # Number of goal states\n",
        "# n_t = 0 # Number of trap states\n",
        "# s0 = n**2 - n # Set start in the bottom left corner\n",
        "# i_v = np.array([n-1]) # Set goal in the top right corner\n",
        "# o_v,_,r_v,t_v = f_Random_Board(n,np.append(i_v,s0),n_i,n_o,n_r,n_t) # Random board\n",
        "\n",
        "# Vertex_list, Edge_list, Cost_list = f_RRT_star(s0,o_v,r_v,n,n_it=n_it,gr=5) # Run RRT\n",
        "\n",
        "# # Edge_list_r = np.reshape(Edge_list,(int(len(Edge_list)/2),2))\n",
        "# f_Plot_gopts(i_v,o_v,r_v,t_v,n) # Plot obstacles, etc\n",
        "# f_Plot_RRT(Edge_list_r,n) # Plot RRT graph\n",
        "# plt.show()"
      ],
      "execution_count": null,
      "outputs": []
    },
    {
      "cell_type": "markdown",
      "metadata": {
        "id": "kVW7YUMa4CbG"
      },
      "source": [
        "Algorithm: \\\n",
        "(1) Grow an RRT tree from your starting state to create new goal states. \\\n",
        "(2) Run RL from your starting state to each of the goal states to get a set of “frontier states.” (the leaves of the tree) \\\n",
        "(3) Run RL from the RRT frontier states to the final goal state. Note: the number of leaf states grows exponentially, so we would want to instead randomly sample from the leaf states. \\\n",
        "(4) If no RRT frontier states can find the final state: \\\n",
        "\tBranch again, making new goals and using RL to make new frontier states.\n",
        "(5) If any RRT frontier states can find the final state, we know we can find a path from the start to the end state.\n",
        "Break the RRT loop. Suppose we have a collection of frontier states, all of which can reach the goal state. Each frontier state is connected back to the initial state via a single path in the tree. If it takes T1 steps under an intermediate goal and then T2 steps from this state to the final state, this path gets a reward of gamma^(T1+T2) * R, where R is the final reward and gamma is the discount factor. Thus, we can compute the reward for all the paths. \\\n",
        "(6) We want to reduce the number of intermediate goal nodes in the paths. To do this, see if RL can skip any nodes and remove these nodes. Repeat until we have a minimal number of nodes on each path. \\\n",
        "(7) We now select the best path using a genetic algorithm. Each path is a candidate sequence of intermediate goals. Add “mutated” versions of each path in which we perturb (and sometimes remove) the intermediate goal states. Select a subset of the population with the highest rewards and repeat. Break after some number of loops or when the paths converge. Select the best path. We now have a sequence of goals which lead us to the final goal."
      ]
    },
    {
      "cell_type": "markdown",
      "metadata": {
        "id": "PNS1xc0O2IHO"
      },
      "source": [
        "## David's RRT"
      ]
    },
    {
      "cell_type": "code",
      "metadata": {
        "id": "ceJ-6CV027kp"
      },
      "source": [
        "# Convert the element number of a nxn matrix to the ith and jth value of row and columns respectfully\n",
        "def f_element_2_Mcoordinate(ele,n):\n",
        "# Input\n",
        "# ele: Element number to convert\n",
        "# n: dimension of the matrix in question with the dimension of nxn\n",
        "# Ouput\n",
        "# out(np.atleast_2d(out).T): Numpy column vector of 2 in the for [i j].T for  ith and jth value of row and columns respectfully\n",
        "  x = (ele)//n\n",
        "  y = np.mod(ele,n)\n",
        "  out = [[x],[y]]\n",
        "  return(np.atleast_2d(out).T)\n",
        "\n",
        "# Convert the ith and jth value of row and columns respectfully for an nxn matrix to an element number discription\n",
        "def f_Mcoordinate_2_element(i_mat,j_mat,n):\n",
        "# Input\n",
        "# i_mat: ith element or row element of the nxn matrix\n",
        "# j_mat: ith element or row element of the nxn matrix\n",
        "  board = np.arange(n**2)\n",
        "  board = board.reshape((n,n))\n",
        "  return(board[int(i_mat),int(j_mat)])\n"
      ],
      "execution_count": null,
      "outputs": []
    },
    {
      "cell_type": "code",
      "metadata": {
        "id": "2olAFg5C267h"
      },
      "source": [
        "# Given a set of 2D cartisian vectors find the distance and baring for every combination\n",
        "def f_distance_and_angle(n_vectors):\n",
        "  # Input\n",
        "  # n_vectors is a (nxk) grid space node, where each node is a cartisian coordinate\n",
        "  # k is the number of pair to calculate\n",
        "  # n is the number of dimensionality\n",
        "  # Ouput\n",
        "  # out_dist: From the ith node to the jth node what is the distance (Symmetric)\n",
        "  # out_baring: From the ith node to the jth node what is the baring in radians (Only available for 2D)\n",
        "\n",
        "  dx_m=(n_vectors[0]-np.atleast_2d(n_vectors[0]).T)**2 # (kxk) Difference matrix for every combination of x cordinate squared\n",
        "  dy_m=(n_vectors[1]-np.atleast_2d(n_vectors[1]).T)**2 # (kxk) Difference matrix for every combination of y cordinate squared\n",
        "  out_dist = np.sqrt(dx_m+dy_m) # Ecledian distance for every node pair\n",
        "\n",
        "  # v_dot_m = np.dot(np.atleast_2d(n_vectors).T,np.atleast_2d(n_vectors)) # Dot product of every combination\n",
        "  # v_l2_n = np.sqrt(np.diagonal(v_dot_m)) # L2 norm of every vector\n",
        "  # v_dot_norm_n = np.dot(np.atleast_2d(v_l2_n).T,np.atleast_2d(v_l2_n)) # Norm combinations \n",
        "  # out_baring = np.arccos(np.multiply(v_dot_m,v_dot_norm_n**-1)) ## Baring\n",
        "  \n",
        "  node_length = np.shape(n_vectors)[1] # Number of vector sets\n",
        "  out_baring =np.zeros((node_length,node_length)) # Initilizing output\n",
        "  for i_bar in np.arange(node_length**2): # Iteration through every element\n",
        "    i_pair = f_element_2_Mcoordinate(i_bar,node_length)[0] # Convert element to ith,jth pairs\n",
        "    # print(i_pair)\n",
        "    x_temp = n_vectors[0, i_pair[1]]-n_vectors[0, i_pair[0]] # Taking difference of x starting point to x destination\n",
        "    y_temp = n_vectors[1, i_pair[1]]-n_vectors[1, i_pair[0]] # Taking difference of y starting point to y destination\n",
        "    out_baring[i_pair[0],i_pair[1]] = np.arctan2(x_temp,y_temp) # Finding baring form origin with arctan2\n",
        "  \n",
        "  return(out_dist, out_baring)"
      ],
      "execution_count": null,
      "outputs": []
    },
    {
      "cell_type": "code",
      "metadata": {
        "id": "Sgwk8ggRSy_B"
      },
      "source": [
        "def f_n_random2(n, nodes, o_v, tol):\r\n",
        "  \"\"\"\r\n",
        "  randomly samples a new point from the available state space to add to the vertex set\r\n",
        "\r\n",
        "  Parameters\r\n",
        "  ----------\r\n",
        "  n : int\r\n",
        "    size of gridworld\r\n",
        "  nodes : np.array\r\n",
        "    vertex set in xy coords, each column is a vertex\r\n",
        "  o_v : np.array\r\n",
        "    vector of obstacle indices\r\n",
        "  tol : int\r\n",
        "    maximum L2 distance to the new vertex from an existing vertex\r\n",
        "\r\n",
        "  Returns\r\n",
        "  -------\r\n",
        "\r\n",
        "  \"\"\"\r\n",
        "\r\n",
        "  while True:\r\n",
        "\r\n",
        "    # randomly sample a new point, make sure it's not already in the set\r\n",
        "    while True:\r\n",
        "      s_rand = np.random.randint(n**2)\r\n",
        "      xy_rand = np.array(f_State_to_Matrix(s_rand, n))\r\n",
        "\r\n",
        "      # find nearest existing neighbor\r\n",
        "      all_dist = np.linalg.norm(nodes.T - xy_rand, axis=1)\r\n",
        "      dist_closest = np.min(all_dist)\r\n",
        "      ind_closest = np.argmin(all_dist)\r\n",
        "      xy_closest = nodes[:, ind_closest].T\r\n",
        "\r\n",
        "      if dist_closest != 0:\r\n",
        "        break\r\n",
        "\r\n",
        "    # randomly sample a new point\r\n",
        "    s_rand = np.random.randint(n**2)\r\n",
        "\r\n",
        "    # convert to xy\r\n",
        "    xy_rand = np.array(f_State_to_Matrix(s_rand, n))\r\n",
        "\r\n",
        "    # find nearest existing neighbor\r\n",
        "    all_dist = np.linalg.norm(nodes.T - xy_rand, axis=1)\r\n",
        "    dist_closest = np.min(all_dist)\r\n",
        "    ind_closest = np.argmin(all_dist)\r\n",
        "    xy_closest = nodes[:, ind_closest].T\r\n",
        "\r\n",
        "    # scale if necessary\r\n",
        "    xy_new = xy_closest + (xy_rand - xy_closest)*np.min([dist_closest, tol])/dist_closest\r\n",
        "    xy_new = np.round(xy_new)\r\n",
        "\r\n",
        "    # ensure that new point is not an obstacle, otherwise start over\r\n",
        "    if (f_Position_to_State(xy_new, n) not in o_v) and (not np.any(np.isnan(xy_new))):\r\n",
        "      break\r\n",
        "\r\n",
        "  nodes = np.append(nodes, np.c_[xy_new], axis=1)\r\n",
        "  return nodes, ind_closest\r\n"
      ],
      "execution_count": null,
      "outputs": []
    },
    {
      "cell_type": "code",
      "metadata": {
        "id": "Kts2FNVW22s0"
      },
      "source": [
        "# This function proposes is to propose a new node to find a valid trajectory for\n",
        "# The new proposed node will be appended to the end of the given set of current nodes\n",
        "def f_n_random(n, Location_Matrix, tol):\n",
        "  # Input\n",
        "  # Location_Matrix: List of previous nodes in cartisian form [x y]^T dimensions (2xNoNodes)\n",
        "  # n: Dimension number of one side of the square gridworld \n",
        "  # tol: Maximum distance allowed between new node and the nearest establish nodes\n",
        "  # Output\n",
        "  # Location_Matrix_new: An appended version of the input with the new proposed node (2x(NoNodes+1))\n",
        "  # closest_node: This defines the dimension number of the 2nd axis of L.._M.. of the closest node of the new proposed node\n",
        "  \n",
        "  # Initialize a random point in the available state space set\n",
        "  n_rand = np.zeros((2,1))\n",
        "  n_rand[0,0] = np.random.choice(np.arange(n))\n",
        "  n_rand[1,0] = np.random.choice(np.arange(n))\n",
        "\n",
        "  \n",
        "  Location_Matrix_new = np.append(Location_Matrix,n_rand,axis=1) # Append it to the pervious node list for output\n",
        "  # print(Location_Matrix_new)\n",
        "\n",
        "  new_dist, new_baring = f_distance_and_angle(Location_Matrix_new) # Find all distances and barings of all combinations of node input set including proposed node\n",
        "  theta = new_dist[:-1,-1] # Isolate distances only related to the proposed node\n",
        "  closest_node = np.where(theta==np.min(theta))[0][0] # Find the closest node to the proposed node\n",
        "\n",
        "  # print(new_dist)\n",
        "  # print(new_baring)\n",
        "  # if closest_node > 1:\n",
        "  #   closest_node = closest_node[0]\n",
        "  \n",
        "  if new_dist[closest_node,-1]>tol: # Check to see the proposed node is wihtin the distance tolerance\n",
        "    # Adjust the proposed node to meet the distance tolerance using complext addition\n",
        "    node_addition = Location_Matrix_new[0,closest_node]+1j*Location_Matrix_new[1,closest_node]+tol*np.exp(1j*new_baring[closest_node,-1])\n",
        "    # Find cartisan points of new suggest node\n",
        "    x = np.real(node_addition)\n",
        "    y = np.imag(node_addition)\n",
        "    # Round to a valid state element and overwrite for output\n",
        "    Location_Matrix_new[0,-1] = np.round(x)\n",
        "    Location_Matrix_new[1,-1] = np.round(y)\n",
        "\n",
        "    # Check to account for rounding putting node out of enviroment bounds\n",
        "    Location_Matrix_new = f_checking_bounds(Location_Matrix_new) \n",
        "\n",
        "    # Revaluate for repositioned proposed node\n",
        "    new_dist, new_baring = f_distance_and_angle(Location_Matrix_new) # Find all distances and barings of all combinations of node input set including proposed node\n",
        "    theta = new_dist[:-1,-1] # Isolate distances only related to the proposed node\n",
        "    closest_node = np.where(theta==np.min(theta))[0][0] # Find the closest node to the proposed node\n",
        "\n",
        "  # Check to see if node is already defined by checking distance\n",
        "  if np.round(new_dist[closest_node,-1],decimals=2) == 0.00:\n",
        "    print('Same node found, regenerating')\n",
        "    Location_Matrix_new, closest_node = f_n_random(n, Location_Matrix, tol)\n",
        "\n",
        "  return(Location_Matrix_new, closest_node)\n"
      ],
      "execution_count": null,
      "outputs": []
    },
    {
      "cell_type": "code",
      "metadata": {
        "id": "WUmFuo2h20eK"
      },
      "source": [
        "def f_checking_bounds(Location_Matrix_new):\n",
        "  # Check to account for rounding putting node out of enviroment bounds\n",
        "  if Location_Matrix_new[0,-1]>n-1:\n",
        "    Location_Matrix_new[0,-1]=n-1\n",
        "  if Location_Matrix_new[1,-1]>n-1:\n",
        "    Location_Matrix_new[1,-1]=n-1\n",
        "  if Location_Matrix_new[0,-1]<0:\n",
        "    Location_Matrix_new[0,-1]=0\n",
        "  if Location_Matrix_new[1,-1]<0:\n",
        "    Location_Matrix_new[1,-1]=0\n",
        "  return(Location_Matrix_new)"
      ],
      "execution_count": null,
      "outputs": []
    },
    {
      "cell_type": "code",
      "metadata": {
        "id": "RdOt-y6W2LO0"
      },
      "source": [
        "def f_SimPlot_All_Random_Walk_Q(H, o_v, t_v, r_v, true_goal, n, N_a, p1, Q_Matrix, Connection_M, s0, Location_Matrix, Q_A_Matrix):\n",
        "\n",
        "  conn_elems = np.arange(np.max(Connection_M))+1\n",
        "  # print(Connection_M)\n",
        "  # print(conn_elems)\n",
        "  # print(conn_elems)\n",
        "  edge_no = len(conn_elems)\n",
        "  # print(edge_no)\n",
        "  S_V_all = np.zeros((edge_no,H))\n",
        "  # print(np.shape(S_V_all))\n",
        "  # print(conn_elems)\n",
        "  # for conn_elem in conn_elems: \n",
        "  #   temp = f_element_2_Mcoordinate(conn_elem,node_length)[0]\n",
        "  #   node_from = temp[0]\n",
        "  #   node_to = temp[1]\n",
        "  # print(node_length)\n",
        "  for conn_elm in np.arange(edge_no):\n",
        "    edge_curr = conn_elems[conn_elm]\n",
        "    node_from = np.where(Connection_M==edge_curr)[0]\n",
        "    node_to = np.where(Connection_M==edge_curr)[1]\n",
        "    # print('n1 '+str(node_from))\n",
        "    # print('n2 '+str(node_to))\n",
        "    starting_element = f_Mcoordinate_2_element(int(Location_Matrix[0,node_from]),int(Location_Matrix[1,node_from]),n)\n",
        "    # print(temp)\n",
        "    # print(np.shape(Q_Matrix))\n",
        "    # Q_v = np.reshape(Q_Matrix[node_from,:,node_to],(n*n,N_a))\n",
        "    # current_Q = np.reshape(Q_Matrix[node_from,:,node_to],(n,n,N_a))\n",
        "    # V_Q = np.max(current_Q,axis=2)\n",
        "    A_Q1 = Q_A_Matrix[node_from,:,node_to].T #np.argmax(Q_v,axis=1)\n",
        "    s_v = f_Simulate(o_v,t_v,n,H,starting_element,A_Q1,p1,rand=0) # Simulate the system using Q-learning\n",
        "    # k = np.where((conn_elems-conn_elem)==0)[0]\n",
        "    S_V_all[conn_elm,:] = s_v.copy().T\n",
        "    # f_Plot_board(s_v,i_v,o_v,r_v,t_v,n) # Plot the sequence of states using Q-learning\n",
        "\n",
        "\n",
        "      \n",
        "  # print(S_V_all)\n",
        "  f_Plot_Random_Walk_Q (S_V_all, np.atleast_2d(true_goal), o_v, r_v, t_v, n, Location_Matrix, s0, Q_A_Matrix) # Plot the sequence of states using Q-learning\n"
      ],
      "execution_count": null,
      "outputs": []
    },
    {
      "cell_type": "code",
      "metadata": {
        "id": "clIk7PQF2OoV"
      },
      "source": [
        "def f_Plot_Random_Walk_Q (S_V_all2, true_goal, o_v, r_v, t_v, n, Location_Matrix ,s0, Q_A_Matrix):\n",
        "\n",
        "\n",
        "  fig = plt.figure(figsize=(10, 10))\n",
        "  ax = fig.add_subplot(1, 1, 1)\n",
        "  plt.gca().set_aspect('equal', adjustable='box')\n",
        "  no_edges = np.shape(S_V_all2)[0]\n",
        "\n",
        "  \n",
        "  for n_node in np.arange(no_edges):\n",
        "    # print(n_node)\n",
        "    # if n_node == 1:\n",
        "    #   break\n",
        "    s_v1 = S_V_all2[n_node,:]\n",
        "    # i_2 = f_Mcoordinate_2_element(Location_Matrix[0,n_node+1],Location_Matrix[1,n_node+1],n)\n",
        "    # i_v1 = np.array([true_goal[0][0],i_2])\n",
        "    \n",
        "    # print(i_v1)\n",
        "    # M, _, As = f_Vector_to_Matrix(s_v1,i_v1,o_v,r_v,t_v,n) # Convert to matrix form\n",
        "    M, _, As = f_Vector_to_Matrix(s_v1,true_goal[0],o_v,r_v,t_v,n) # Convert to matrix form\n",
        "    # Loop through the boxes in the grid and plot the pieces on the board:\n",
        "    for i in np.arange(n):\n",
        "      for j in np.arange(n):\n",
        "        # Plot the ice cream shops as blue circles:\n",
        "        if M.T[i,n-1-j] == 1 and n_node==0:\n",
        "          plt.scatter(i+0.5,j+0.5,s=500*(5/n)**2,marker=\"o\",facecolors='none', edgecolors='b')\n",
        "        # Plot the obstacles as black squares:\n",
        "        elif M.T[i,n-1-j] == -1 and n_node==0:\n",
        "          plt.scatter(i+0.5,j+0.5,s=1700*(5/n)**2,marker=\"s\",facecolors='k', edgecolors='k')\n",
        "        # Plot the roads as red squares:\n",
        "        elif M.T[i,n-1-j] == -2 and n_node==0:\n",
        "          plt.scatter(i+0.5,j+0.5,s=1700*(5/n)**2,marker=\"s\",facecolors='r', edgecolors='r')\n",
        "        # Plot the traps as blue squares:\n",
        "        elif M.T[i,n-1-j] == -3 and n_node==0:\n",
        "          plt.scatter(i+0.5,j+0.5,s=1700*(5/n)**2,marker=\"s\",facecolors='b', edgecolors='b')\n",
        "        # # Plot the states as black dots:\n",
        "        # if Ms.T[i,n-1-j] == 1:\n",
        "        #    plt.scatter(i+0.5,j+0.5,s=75*(5/n)**2,marker=\"o\",facecolors='k', edgecolors='k')\n",
        "        # Plot the states, with arrows pointing in the direction of motion:\n",
        "        if As.T[i,n-1-j] == 1: # Right\n",
        "          plt.scatter(i+0.5,j+0.5,s=75*(5/n)**2,marker=r'$\\rightarrow$',facecolors='k', edgecolors='k')\n",
        "        elif As.T[i,n-1-j] == -1: # Left\n",
        "          plt.scatter(i+0.5,j+0.5,s=75*(5/n)**2,marker=r'$\\leftarrow$',facecolors='k', edgecolors='k')\n",
        "        elif As.T[i,n-1-j] == n: # Down\n",
        "          plt.scatter(i+0.5,j+0.5,s=75*(5/n)**2,marker=r'$\\downarrow$',facecolors='k', edgecolors='k')\n",
        "        elif As.T[i,n-1-j] == -n: # Up\n",
        "          plt.scatter(i+0.5,j+0.5,s=75*(5/n)**2,marker=r'$\\uparrow$',facecolors='k', edgecolors='k')\n",
        "\n",
        "      if i == n-1:\n",
        "        for n_node2 in np.arange(np.size(Location_Matrix,1)-1)+1:\n",
        "          plt.scatter(Location_Matrix[1,n_node2]+0.5,n-1-Location_Matrix[0,n_node2]+0.5,s=1700*(5/n)**2,marker=\"s\", facecolors=\"c\", edgecolors='c')\n",
        "          # print([Location_Matrix[0,n_node]+0.5,n-1-Location_Matrix[1,n_node]+0.5])\n",
        "          # print([Location_Matrix[0,n_node],Location_Matrix[1,n_node]])\n",
        "        plt.scatter(Location_Matrix[1,0]+0.5,n-1-Location_Matrix[0,0]+0.5,s=1700*(5/n)**2,marker=\"s\", facecolors=\"y\", edgecolors='y')\n",
        "  \n",
        "        for i_2 in np.arange(n):\n",
        "            for j_2 in np.arange(n):\n",
        "              if M.T[i_2,n-1-j_2] == 1:\n",
        "                plt.scatter(i_2+0.5,j_2+0.5,s=500*(5/n)**2,marker=\"o\",facecolors='none', edgecolors='b')\n",
        "    \n",
        "  plt.xlim(0, n)\n",
        "  plt.ylim(0, n)\n",
        "  major_ticks = np.arange(0, n+1, 1)\n",
        "  ax.set_xticks(major_ticks)\n",
        "  ax.set_yticks(major_ticks)\n",
        "  ax.grid(which='both')\n",
        "  plt.title(\"RRT Q Learning Paths Found\")\n",
        "  plt.show()"
      ],
      "execution_count": null,
      "outputs": []
    },
    {
      "cell_type": "code",
      "metadata": {
        "id": "lbBebgjk2AQQ"
      },
      "source": [
        "# # Sample Values\n",
        "# n = 25 # Dimension of board\n",
        "# N_s = n**2 # Number of states\n",
        "# N_a = 5 # Number of actions\n",
        "# p1 = 0.9 # Transition probability\n",
        "# alpha = 0.1 # Learning rate\n",
        "# S = np.arange(N_s) # Set of possible states\n",
        "# eps = 0.3 # Epsilon-greedy parameter\n",
        "# gamma = 0.9 # Reward discount rate\n",
        "# N_e = 20000 # Number of episodes\n",
        "# N_t = N_s # Number of actions in trajectory\n",
        "# n_epoch = 50 # Number of episodes in an epoch\n",
        "# tol = 5 # Break when loss < tol\n",
        "# s0 = np.random.choice(S) # Starting state\n",
        "# Rw = -1 # Reward for street\n",
        "# n_o = 10 # Number of obstacle states\n",
        "# n_r = 0 # Number of penalty states\n",
        "# n_i = 1 # Number of goal states\n",
        "# n_t = 0 # Number of trap states\n",
        "# o_v,i_v,r_v,t_v = f_Random_Board(n,s0,n_i,n_o,n_r,n_t) # Generate random board with only the \"True Goal\"\n",
        "# R_tg = 10\n",
        "# R_node = 2\n",
        "# Max_Nodes = 10\n",
        "# Static_node_dist = 7 # Tolerance or max distance allowed for a proposed node\n",
        "# H = 200\n",
        "# Connection_M,Location_Matrix,Q_Matrix,Q_A_Matrix,Goal_node_no = RRT_Q_2_Goal(n,N_a,p1,alpha,eps,gamma,N_e,N_t,n_epoch,tol,s0,o_v,i_v,r_v,t_v,R_tg,R_node,Max_Nodes,Static_node_dist,H,1,1)\n",
        "\n",
        "\n",
        "def RRT_Q_2_Goal(n,N_a,p1,alpha,eps,gamma,N_e,N_t,n_epoch,tol,s0,o_v,i_v,r_v,t_v,R_tg,R_node,Max_Nodes,Static_node_dist,H,stop_at_goal_vis=0,path_im=0,debugging=0):\n",
        "  Goal_node_no = None\n",
        "  N_s = n**2 # Number of states\n",
        "  S = np.arange(N_s) # Set of possible states\n",
        "  p2 = (1-p1)/(N_a-1)\n",
        "  # s0 = np.random.choice(S)\n",
        "  i_v = np.append(i_v, 0) # Add place holder for the proposed new node reward\n",
        "\n",
        "  T = f_Transition_Probability_Matrix(n,o_v,i_v,r_v,t_v,p=p1) # Transition matrix\n",
        "  Rpts = np.array((R_tg,R_node)) # Array of rewards for True Goal and suggest node\n",
        "  R = f_Reward_Matrix(T,Rw,i_v,r_v,Rpts,n) # Reward matrix\n",
        "  Reward_cor = f_element_2_Mcoordinate(i_v[0],n)[0] # Finding goal in pair form\n",
        "  start_cor = f_element_2_Mcoordinate(s0,n)[0] # Finding goal in pair form\n",
        "  if debugging==1 or debugging==0:\n",
        "    print('Starting at state '+str(start_cor)+' or '+str(s0)) # Debugging set to display goal position in ith,jth pair form\n",
        "    print('True goal is at '+str(Reward_cor)+' or '+str(i_v[0])) # Printing goal pairs\n",
        "  \n",
        "  Connection_M = np.zeros((Max_Nodes,Max_Nodes)) # Initialization of binary connection matrix for nodes found\n",
        "  Q_Matrix = np.zeros((Max_Nodes,N_s*N_a,Max_Nodes)) # 3 dimension matrix to store all Q matrices found \n",
        "  Q_A_Matrix = np.zeros((Max_Nodes,N_s,Max_Nodes)) # 3 dimension matrix to store all Q matrices found \n",
        "  # ith element is starting node\n",
        "  # jth element is to access flattened data in row array form\n",
        "  # kth element is ending node in question\n",
        "\n",
        "  Location_Matrix = np.zeros((2,1)) # Array of column vectors of every 2D node defined and proposed\n",
        "  edge_count = 1\n",
        "\n",
        "\n",
        "  for node in np.arange(Max_Nodes-1)+1: # Iterating accross all nodes not including initial state\n",
        "    if node == 1:\n",
        "      Location_Matrix[:,0] = f_element_2_Mcoordinate(s0,n) # Defining initialization state as a node\n",
        "    # Location_Matrix, closest_node = f_n_random(n, Location_Matrix, Static_node_dist) # Generating proposed node to drive_to\n",
        "    Location_Matrix, closest_node = f_n_random2(n, Location_Matrix, o_v, Static_node_dist)\n",
        "    i_v[1] = f_Mcoordinate_2_element(int(Location_Matrix[0,-1]),int(Location_Matrix[1,-1]),n) # Adding location for the porposed node for smaller reward\n",
        "    \n",
        "    # Rerun based off new reward\n",
        "    # T = f_Transition_Probability_Matrix(n,o_v,i_v,r_v,t_v,p=p1) # Transition matrix is the same every time\n",
        "    R = f_Reward_Matrix(T,Rw,i_v,r_v,Rpts,n) # Reward matrix\n",
        "    \n",
        "    # Defining starting node state for simulations\n",
        "    starting_element = f_Mcoordinate_2_element(int(Location_Matrix[0,closest_node]),int(Location_Matrix[1,closest_node]),n)\n",
        "\n",
        "    Q, V_Q, A_Q, dQ_norm_v = f_Q_Learning(n,N_s,N_a,N_e,N_t,starting_element,alpha,eps,gamma,S,T,R,n_epoch,tol,0)\n",
        "    \n",
        "    # Error Handling\n",
        "    if np.sum(np.sum(A_Q))==0: # If there is no action taken or suggested\n",
        "      print('No action found and did not converge')\n",
        "      Location_Matrix = np.delete(Location_Matrix, -1, 1) # Delete the previous proposed node and rerun\n",
        "      for fail_node in np.arange(10): # Maximum of 10 failures allowed\n",
        "        print('fail '+str(fail_node))\n",
        "\n",
        "        # Rerun algo\n",
        "        # Location_Matrix, closest_node = f_n_random(n, Location_Matrix, Static_node_dist)\n",
        "        Location_Matrix, closest_node = f_n_random2(n, Location_Matrix, o_v, Static_node_dist)\n",
        "        i_v[1] = f_Mcoordinate_2_element(int(Location_Matrix[0,-1]),int(Location_Matrix[1,-1]),n)\n",
        "        T = f_Transition_Probability_Matrix(n,o_v,i_v,r_v,t_v,p=p1) # Transition matrix\n",
        "        R = f_Reward_Matrix(T,Rw,i_v,r_v,Rpts,n)\n",
        "        Q, V_Q, A_Q, dQ_norm_v = f_Q_Learning(n,N_s,N_a,N_e,N_t,starting_element,alpha,eps,gamma,S,T,R,n_epoch,tol,0)\n",
        "        \n",
        "        if np.sum(np.sum(A_Q))!=0: # Checking if new proposed node converges to action\n",
        "          break\n",
        "        if fail_node==9: # Stopping script running on 10 failed attempts\n",
        "          print('Cannot converge stopping...')\n",
        "          sys.exit()\n",
        "\n",
        "\n",
        "    Q_Matrix[closest_node,:,node]=Q.copy().flatten().T # Storing Q found for edge\n",
        "    Q_A_Matrix[closest_node,:,node]=A_Q.copy().flatten().T # Storing Q found for edge\n",
        "    Connection_M[closest_node,node] = edge_count # Setting connection graph for validate connection found\n",
        "\n",
        "    s_v = f_Simulate(o_v,t_v,n,H,starting_element,A_Q,p1,rand=0) # Simulate the system using Q-learning\n",
        "    end_pair = f_Vector_to_Matrix_End_Only(s_v,n)\n",
        "    if debugging==1:\n",
        "      # Debugging images, simulations of random walk found\n",
        "      print(Location_Matrix)\n",
        "      print('From node '+str(closest_node)+' to node '+ str(node))\n",
        "      # f_Plot_Loss(dQ_norm_v) # Plot loss function\n",
        "      print(' ')\n",
        "      # s_v = f_Simulate(o_v,t_v,n,H,starting_element,A_Q,p1,rand=0) # Simulate the system using Q-learning\n",
        "      f_Plot_board(s_v,i_v,o_v,r_v,t_v,n) # Plot the sequence of states using Q-learning\n",
        "      print(' ')\n",
        "      # f_Plot_Value(V_Q,n) # Heat map of value function form Q\n",
        "      # print()\n",
        "\n",
        "    if abs(end_pair[0]-Reward_cor.T[0])+abs(end_pair[1]-Reward_cor.T[1])==0:\n",
        "      Goal_node_no = len(Location_Matrix[0,:])-1\n",
        "      Location_Matrix[:,-1] = Reward_cor\n",
        "      break\n",
        "    elif np.argmax(V_Q)==i_v[0] and stop_at_goal_vis==1:\n",
        "      Goal_node_no = i_v[0]\n",
        "      print('True goal visable from last node')\n",
        "      break\n",
        "\n",
        "    edge_count = np.max(Connection_M)+1\n",
        "\n",
        "  if path_im==1:\n",
        "    f_SimPlot_All_Random_Walk_Q(H, o_v, t_v, r_v, i_v[0], n, N_a, p1, Q_Matrix, Connection_M, s0, Location_Matrix, Q_A_Matrix)\n",
        "  return(Connection_M,Location_Matrix,Q_Matrix,Q_A_Matrix,Goal_node_no)\n",
        "\n"
      ],
      "execution_count": null,
      "outputs": []
    },
    {
      "cell_type": "code",
      "metadata": {
        "id": "W1ylu8m6Owq3"
      },
      "source": [
        "def RRT_Q_Grow(n,N_a,p1,alpha,eps,gamma,N_e,N_t,n_epoch,tol,s0,o_v,i_v,r_v,t_v,R_tg,R_node,Max_Nodes,Static_node_dist,H,Connection_M,Location_Matrix,Q_Matrix,Q_A_Matrix,Goal_node_no,path_im=0,debugging=0):\r\n",
        "  N_s = n**2 # Number of states\r\n",
        "  S = np.arange(N_s) # Set of possible states\r\n",
        "  p2 = (1-p1)/(N_a-1)\r\n",
        "  Rpts = np.array(R_node) # Array of rewards for True Goal and suggest node\r\n",
        "  edge_count = np.max(Connection_M)+1\r\n",
        "  num_n_prev = len(Location_Matrix[0,:])\r\n",
        "  fail_node = -1\r\n",
        "  i_v = np.append(i_v, 0) # Add place holder for the proposed new node reward\r\n",
        "  T = f_Transition_Probability_Matrix(n,o_v,i_v,r_v,t_v,p=p1) # Transition matrix\r\n",
        "  Rpts = np.array((0,R_node)) # Array of rewards for True Goal and suggest node\r\n",
        "  R = f_Reward_Matrix(T,Rw,i_v,r_v,Rpts,n) # Reward matrix\r\n",
        "\r\n",
        "\r\n",
        "  for node in np.arange(Max_Nodes-num_n_prev)+num_n_prev: # Iterating accross all nodes not including initial state\r\n",
        "\r\n",
        "    Location_Matrix, closest_node = f_n_random(n, Location_Matrix, Static_node_dist) # Generating proposed node to drive_to\r\n",
        "    i_v[1] = f_Mcoordinate_2_element(int(Location_Matrix[0,-1]),int(Location_Matrix[1,-1]),n) # Adding location for the porposed node for smaller reward\r\n",
        "    \r\n",
        "    # Rerun based off new reward\r\n",
        "    T = f_Transition_Probability_Matrix(n,o_v,i_v,r_v,t_v,p=p1) # Transition matrix\r\n",
        "    R = f_Reward_Matrix(T,Rw,i_v,r_v,Rpts,n) # Reward matrix\r\n",
        "    \r\n",
        "    # Defining starting node state for simulations\r\n",
        "    starting_element = f_Mcoordinate_2_element(int(Location_Matrix[0,closest_node]),int(Location_Matrix[1,closest_node]),n)\r\n",
        "\r\n",
        "    Q, V_Q, A_Q, dQ_norm_v = f_Q_Learning(n,N_s,N_a,N_e,N_t,starting_element,alpha,eps,gamma,S,T,R,n_epoch,tol,0)\r\n",
        "    \r\n",
        "    # Error Handling\r\n",
        "    if np.sum(np.sum(A_Q))==0: # If there is no action taken or suggested\r\n",
        "      print('No action found and did not converge')\r\n",
        "      Location_Matrix = np.delete(Location_Matrix, -1, 1) # Delete the previous proposed node and rerun\r\n",
        "      for fail_node in np.arange(10): # Maximum of 10 failures allowed\r\n",
        "        print('fail '+str(fail_node))\r\n",
        "\r\n",
        "        # Rerun algo\r\n",
        "        Location_Matrix, closest_node = f_n_random(n, Location_Matrix, Static_node_dist)\r\n",
        "        i_v[1] = f_Mcoordinate_2_element(int(Location_Matrix[0,-1]),int(Location_Matrix[1,-1]),n)\r\n",
        "        T = f_Transition_Probability_Matrix(n,o_v,i_v,r_v,t_v,p=p1) # Transition matrix\r\n",
        "        R = f_Reward_Matrix(T,Rw,i_v,r_v,Rpts,n)\r\n",
        "        Q, V_Q, A_Q, dQ_norm_v = f_Q_Learning(n,N_s,N_a,N_e,N_t,starting_element,alpha,eps,gamma,S,T,R,n_epoch,tol,0)\r\n",
        "        \r\n",
        "        if np.sum(np.sum(A_Q))!=0: # Checking if new proposed node converges to action\r\n",
        "          break\r\n",
        "        if fail_node==9: # Stopping script running on 10 failed attempts\r\n",
        "          print('Cannot converge stopping...')\r\n",
        "          Location_Matrix = np.delete(Location_Matrix, -1, 1) # Delete the previous proposed node and rerun\r\n",
        "          break\r\n",
        "          # exit()\r\n",
        "    if fail_node==9:\r\n",
        "      break\r\n",
        "\r\n",
        "    Q_Matrix[closest_node,:,node]=Q.copy().flatten().T # Storing Q found for edge\r\n",
        "    Q_A_Matrix[closest_node,:,node]=A_Q.copy().flatten().T # Storing Q found for edge\r\n",
        "    Connection_M[closest_node,node] = edge_count # Setting connection graph for validate connection found\r\n",
        "\r\n",
        "    s_v = f_Simulate(o_v,t_v,n,H,starting_element,A_Q,p1,rand=0) # Simulate the system using Q-learning\r\n",
        "    end_pair = f_Vector_to_Matrix_End_Only(s_v,n)\r\n",
        "    if debugging==1:\r\n",
        "      # Debugging images, simulations of random walk found\r\n",
        "      print(Location_Matrix)\r\n",
        "      print('From node '+str(closest_node)+' to node '+ str(node))\r\n",
        "      f_Plot_Loss(dQ_norm_v) # Plot loss function\r\n",
        "      print(' ')\r\n",
        "      # s_v = f_Simulate(o_v,t_v,n,H,starting_element,A_Q,p1,rand=0) # Simulate the system using Q-learning\r\n",
        "      f_Plot_board(s_v,i_v,o_v,r_v,t_v,n) # Plot the sequence of states using Q-learning\r\n",
        "      print(' ')\r\n",
        "      f_Plot_Value(V_Q,n) # Heat map of value function form Q\r\n",
        "      print()\r\n",
        "\r\n",
        "    # if abs(end_pair[0]-Reward_cor.T[0])+abs(end_pair[1]-Reward_cor.T[1])==0:\r\n",
        "    #   Goal_node_no = len(Location_Matrix[0,:])\r\n",
        "    #   Location_Matrix[:,-1] = Reward_cor\r\n",
        "    #   break\r\n",
        "    # elif np.argmax(V_Q)==i_v[0] and stop_at_goal_vis==1:\r\n",
        "    #   Goal_node_no = Reward_cor\r\n",
        "    #   print('True goal visable from last node')\r\n",
        "    #   break\r\n",
        "\r\n",
        "    edge_count = np.max(Connection_M)+1\r\n",
        "    fail_node = -1\r\n",
        "\r\n",
        "  if path_im==1:\r\n",
        "    f_SimPlot_All_Random_Walk_Q(H, o_v, t_v, r_v, i_v[0], n, N_a, p1, Q_Matrix, Connection_M, s0, Location_Matrix, Q_A_Matrix)\r\n",
        "  return(Connection_M,Location_Matrix,Q_Matrix,Q_A_Matrix)"
      ],
      "execution_count": null,
      "outputs": []
    },
    {
      "cell_type": "code",
      "metadata": {
        "id": "qoiu6dw2O2wr"
      },
      "source": [
        "# This function converts the system from\r\n",
        "# vector form to matrix form:\r\n",
        "def f_Vector_to_Matrix_End_Only(s_v,n):\r\n",
        "# Inputs:\r\n",
        "# s_v - an array of states\r\n",
        "# Ouputs:\r\n",
        "# As - a matrix with 1 for right, -1 for left, n for down,\r\n",
        "# -n for up, n+1 for final state, and 0 otherwise\r\n",
        "\r\n",
        "\r\n",
        "  # Compute As (matrix of actions):\r\n",
        "  s_v1 = s_v[1:] # States, excluding the first state\r\n",
        "  s_v1 = np.append(s_v1,0)\r\n",
        "  # a_v is an array of actions, given by the difference between\r\n",
        "  # states at time t+1 and at time t\r\n",
        "  a_v = s_v1 - s_v\r\n",
        "  a_v[np.shape(a_v)[0]-1] = n+1 # Denote last value in a_v as n+1\r\n",
        "\r\n",
        "  As = np.zeros(n**2) # Initialize array of states\r\n",
        "  # For each state, record the action taken at this state\r\n",
        "  for i in np.arange(np.shape(s_v)[0]):\r\n",
        "    As[int(s_v[i])] = a_v[i]\r\n",
        "  As = np.reshape(As,(n,n)) # Reshape to nxn matrix\r\n",
        "\r\n",
        "  end_pair = np.where(As==(n+1))\r\n",
        "  # print(end_pair)\r\n",
        "\r\n",
        "  return(end_pair)"
      ],
      "execution_count": null,
      "outputs": []
    },
    {
      "cell_type": "code",
      "metadata": {
        "id": "knNcgsLFO58m"
      },
      "source": [
        "def RRT_K_Nearest(k,n,N_a,p1,alpha,eps,gamma,N_e,N_t,n_epoch,tol,s0,o_v,i_v,r_v,t_v,R_tg,R_node,Max_Nodes,Static_node_dist,H,Connection_M,Location_Matrix,Q_Matrix,Q_A_Matrix,Goal_node_no,path_im=0,debugging=0):\r\n",
        "  N_s = n**2 # Number of states\r\n",
        "  S = np.arange(N_s) # Set of possible states\r\n",
        "  p2 = (1-p1)/(N_a-1)\r\n",
        "  Rpts = [R_tg] # Array of rewards for True Goal and suggest node\r\n",
        "  edge_count = np.max(Connection_M)+1\r\n",
        "  num_n_prev = len(Location_Matrix[0,:])\r\n",
        "  fail_node = -1\r\n",
        "  print('Goal_node_no '+str(Goal_node_no)+' or '+str(i_v))\r\n",
        "  print('Connection Matrix')\r\n",
        "  print(Connection_M)\r\n",
        "  Node_connected_to_goal = np.nonzero(Connection_M[:,Goal_node_no])[0][0]\r\n",
        "  print('Connected to goal '+str(Node_connected_to_goal))\r\n",
        "  dist_nodes,_ =  f_distance_and_angle(Location_Matrix)\r\n",
        "  max_sort_ind = np.argsort(dist_nodes[Goal_node_no,:])\r\n",
        "  max_sort_ind_ag = np.delete(max_sort_ind, np.argwhere(((max_sort_ind == Goal_node_no) + (max_sort_ind == Node_connected_to_goal))))\r\n",
        "  print('Nodes to connect '+str(max_sort_ind_ag))\r\n",
        "  if k>len(max_sort_ind_ag):\r\n",
        "    k = len(max_sort_ind_ag)\r\n",
        "\r\n",
        "\r\n",
        "  for node in np.arange(k): # Iterating accross all nodes not including initial state\r\n",
        "\r\n",
        "    \r\n",
        "    # Rerun based off new reward\r\n",
        "    T = f_Transition_Probability_Matrix(n,o_v,i_v,r_v,t_v,p=p1) # Transition matrix\r\n",
        "    R = f_Reward_Matrix(T,Rw,i_v,r_v,Rpts,n) # Reward matrix\r\n",
        "    \r\n",
        "    closest_node = max_sort_ind_ag[node]\r\n",
        "    # Defining starting node state for simulations\r\n",
        "    starting_element = f_Mcoordinate_2_element(int(Location_Matrix[0,closest_node]),int(Location_Matrix[1,closest_node]),n)\r\n",
        "\r\n",
        "    Q, V_Q, A_Q, dQ_norm_v = f_Q_Learning(n,N_s,N_a,N_e,N_t,starting_element,alpha,eps,gamma,S,T,R,n_epoch,tol,0)\r\n",
        "    \r\n",
        "    # Error Handling\r\n",
        "    if np.sum(np.sum(A_Q))==0: # If there is no action taken or suggested\r\n",
        "      print('No action found and did not converge')\r\n",
        "      for fail_node in np.arange(2): # Maximum of 2 failures allowed\r\n",
        "        print('fail '+str(fail_node))\r\n",
        "\r\n",
        "        # Rerun algo\r\n",
        "        Q, V_Q, A_Q, dQ_norm_v = f_Q_Learning(n,N_s,N_a,N_e,N_t,starting_element,alpha,eps,gamma,S,T,R,n_epoch,tol,0)\r\n",
        "        \r\n",
        "        if np.sum(np.sum(A_Q))!=0: # Checking if new proposed node converges to action\r\n",
        "          break\r\n",
        "        if fail_node==2: # Stopping script running on 10 failed attempts\r\n",
        "          print('Cannot converge...')\r\n",
        "          fail_node = 5\r\n",
        "\r\n",
        "    if fail_node!=5:\r\n",
        "      print('Saving...')\r\n",
        "\r\n",
        "      Q_Matrix[closest_node,:,Goal_node_no]=Q.copy().flatten().T # Storing Q found for edge\r\n",
        "      Q_A_Matrix[closest_node,:,Goal_node_no]=A_Q.copy().flatten().T # Storing Q found for edge\r\n",
        "      Connection_M[closest_node,Goal_node_no] = edge_count # Setting connection graph for validate connection found\r\n",
        "\r\n",
        "      # s_v = f_Simulate(o_v,t_v,n,H,starting_element,A_Q,p1,rand=0) # Simulate the system using Q-learning\r\n",
        "      # end_pair = f_Vector_to_Matrix_End_Only(s_v,n)\r\n",
        "      if debugging==1:\r\n",
        "        # Debugging images, simulations of random walk found\r\n",
        "        print(Location_Matrix)\r\n",
        "        print('From node '+str(closest_node)+' to node '+ str(Goal_node_no))\r\n",
        "        # f_Plot_Loss(dQ_norm_v) # Plot loss function\r\n",
        "        print(' ')\r\n",
        "        # s_v = f_Simulate(o_v,t_v,n,H,starting_element,A_Q,p1,rand=0) # Simulate the system using Q-learning\r\n",
        "        f_Plot_board(s_v,i_v,o_v,r_v,t_v,n) # Plot the sequence of states using Q-learning\r\n",
        "        print(' ')\r\n",
        "        # f_Plot_Value(V_Q,n) # Heat map of value function form Q\r\n",
        "        print()\r\n",
        "\r\n",
        "    # if abs(end_pair[0]-Reward_cor.T[0])+abs(end_pair[1]-Reward_cor.T[1])==0:\r\n",
        "    #   Goal_node_no = len(Location_Matrix[0,:])\r\n",
        "    #   Location_Matrix[:,-1] = Reward_cor\r\n",
        "    #   break\r\n",
        "    # elif np.argmax(V_Q)==i_v[0] and stop_at_goal_vis==1:\r\n",
        "    #   Goal_node_no = Reward_cor\r\n",
        "    #   print('True goal visable from last node')\r\n",
        "    #   break\r\n",
        "\r\n",
        "    edge_count = np.max(Connection_M)+1\r\n",
        "    fail_node = -1\r\n",
        "\r\n",
        "  if path_im==1:\r\n",
        "    # Goal_it = f_Mcoordinate_2_element(int(Location_Matrix[0,Goal_node_no]),int(Location_Matrix[1,Goal_node_no]),n)\r\n",
        "    # print(Connection_M)\r\n",
        "    f_SimPlot_All_Random_Walk_Q(H, o_v, t_v, r_v, i_v, n, N_a, p1, Q_Matrix, Connection_M, s0, Location_Matrix, Q_A_Matrix)\r\n",
        "  return(Connection_M,Location_Matrix,Q_Matrix,Q_A_Matrix)"
      ],
      "execution_count": null,
      "outputs": []
    },
    {
      "cell_type": "code",
      "metadata": {
        "id": "-opyDcGZtsnI"
      },
      "source": [
        "# # Sample Values\r\n",
        "# n = 25 # Dimension of board\r\n",
        "# N_s = n**2 # Number of states\r\n",
        "# N_a = 5 # Number of actions\r\n",
        "# p1 = 0.9 # Transition probability\r\n",
        "# alpha = 0.1 # Learning rate\r\n",
        "# S = np.arange(N_s) # Set of possible states\r\n",
        "# eps = 0.3 # Epsilon-greedy parameter\r\n",
        "# gamma = 0.9 # Reward discount rate\r\n",
        "# N_e = 20000 # Number of episodes\r\n",
        "# N_t = N_s # Number of actions in trajectory\r\n",
        "# n_epoch = 50 # Number of episodes in an epoch\r\n",
        "# tol = 5 # Break when loss < tol\r\n",
        "# s0 = np.random.choice(S) # Starting state\r\n",
        "# Rw = -1 # Reward for street\r\n",
        "# n_o = 10 # Number of obstacle states\r\n",
        "# n_r = 0 # Number of penalty states\r\n",
        "# n_i = 1 # Number of goal states\r\n",
        "# n_t = 0 # Number of trap states\r\n",
        "# o_v,i_v,r_v,t_v = f_Random_Board(n,s0,n_i,n_o,n_r,n_t) # Generate random board with only the \"True Goal\"\r\n",
        "# R_tg = 10\r\n",
        "# R_node = 2\r\n",
        "# Max_Nodes = 10\r\n",
        "# Static_node_dist = 7 # Tolerance or max distance allowed for a proposed node\r\n",
        "# H = 200\r\n",
        "# Connection_M,Location_Matrix,Q_Matrix,Q_A_Matrix,Goal_node_no = RRT_Q_2_Goal(n,N_a,p1,alpha,eps,gamma,N_e,N_t,n_epoch,tol,s0,o_v,i_v,r_v,t_v,R_tg,R_node,Max_Nodes,Static_node_dist,H,1,1)\r\n",
        "\r\n",
        "\r\n",
        "def RRT_Q_2_Goal_w_Guassian(n,N_a,p1,alpha,eps,gamma,N_e,N_t,n_epoch,tol,s0,o_v,i_v,r_v,t_v,R_tg,R_node,Max_Nodes,Static_node_dist,H,stop_at_goal_vis=0,path_im=0,debugging=0):\r\n",
        "  Goal_node_no = None\r\n",
        "  N_s = n**2 # Number of states\r\n",
        "  S = np.arange(N_s) # Set of possible states\r\n",
        "  p2 = (1-p1)/(N_a-1)\r\n",
        "  # s0 = np.random.choice(S)\r\n",
        "  i_v = np.append(i_v, 0) # Add place holder for the proposed new node reward\r\n",
        "\r\n",
        "  T = f_Transition_Probability_Matrix(n,o_v,i_v,r_v,t_v,p=p1) # Transition matrix\r\n",
        "  Rpts = np.array((R_tg,R_node)) # Array of rewards for True Goal and suggest node\r\n",
        "\r\n",
        "  # R = f_Reward_Matrix(T,Rw,i_v,r_v,Rpts,n) # Reward matrix\r\n",
        "  R = F_Guassian_N_Reward_Matrix(T,Rw,i_v,r_v,Rpts,n)\r\n",
        "  \r\n",
        "  \r\n",
        "  Reward_cor = f_element_2_Mcoordinate(i_v[0],n)[0] # Finding goal in pair form\r\n",
        "  start_cor = f_element_2_Mcoordinate(s0,n)[0] # Finding goal in pair form\r\n",
        "  if debugging==1 or debugging==0:\r\n",
        "    print('Starting at state '+str(start_cor)+' or '+str(s0)) # Debugging set to display goal position in ith,jth pair form\r\n",
        "    print('True goal is at '+str(Reward_cor)+' or '+str(i_v[0])) # Printing goal pairs\r\n",
        "  \r\n",
        "  Connection_M = np.zeros((Max_Nodes,Max_Nodes)) # Initialization of binary connection matrix for nodes found\r\n",
        "  Q_Matrix = np.zeros((Max_Nodes,N_s*N_a,Max_Nodes)) # 3 dimension matrix to store all Q matrices found \r\n",
        "  Q_A_Matrix = np.zeros((Max_Nodes,N_s,Max_Nodes)) # 3 dimension matrix to store all Q matrices found \r\n",
        "  # ith element is starting node\r\n",
        "  # jth element is to access flattened data in row array form\r\n",
        "  # kth element is ending node in question\r\n",
        "\r\n",
        "  Location_Matrix = np.zeros((2,1)) # Array of column vectors of every 2D node defined and proposed\r\n",
        "  edge_count = 1\r\n",
        "\r\n",
        "\r\n",
        "  for node in np.arange(Max_Nodes-1)+1: # Iterating accross all nodes not including initial state\r\n",
        "    if node == 1:\r\n",
        "      Location_Matrix[:,0] = f_element_2_Mcoordinate(s0,n) # Defining initialization state as a node\r\n",
        "    # Location_Matrix, closest_node = f_n_random(n, Location_Matrix, Static_node_dist) # Generating proposed node to drive_to\r\n",
        "    Location_Matrix, closest_node = f_n_random2(n, Location_Matrix, o_v, Static_node_dist)\r\n",
        "    i_v[1] = f_Mcoordinate_2_element(int(Location_Matrix[0,-1]),int(Location_Matrix[1,-1]),n) # Adding location for the porposed node for smaller reward\r\n",
        "    \r\n",
        "    # Rerun based off new reward\r\n",
        "    # T = f_Transition_Probability_Matrix(n,o_v,i_v,r_v,t_v,p=p1) # Transition matrix is the same every time\r\n",
        "    # R = f_Reward_Matrix(T,Rw,i_v,r_v,Rpts,n) # Reward matrix\r\n",
        "    R = F_Guassian_N_Reward_Matrix(T,Rw,i_v,r_v,Rpts,n)\r\n",
        "    \r\n",
        "    # Defining starting node state for simulations\r\n",
        "    starting_element = f_Mcoordinate_2_element(int(Location_Matrix[0,closest_node]),int(Location_Matrix[1,closest_node]),n)\r\n",
        "\r\n",
        "    Q_v = np.random.rand(N_s, N_a)\r\n",
        "    Q, V_Q, A_Q, dQ_norm_v = f_Q_Learning(n,N_s,N_a,N_e,N_t,starting_element,alpha,eps,gamma,S,T,R,n_epoch,tol,0,Q_v)\r\n",
        "    \r\n",
        "    # Error Handling\r\n",
        "    if np.sum(np.sum(A_Q))==0: # If there is no action taken or suggested\r\n",
        "      print('No action found and did not converge')\r\n",
        "      Location_Matrix = np.delete(Location_Matrix, -1, 1) # Delete the previous proposed node and rerun\r\n",
        "      for fail_node in np.arange(10): # Maximum of 10 failures allowed\r\n",
        "        print('fail '+str(fail_node))\r\n",
        "\r\n",
        "        # Rerun algo\r\n",
        "        # Location_Matrix, closest_node = f_n_random(n, Location_Matrix, Static_node_dist)\r\n",
        "        Location_Matrix, closest_node = f_n_random2(n, Location_Matrix, o_v, Static_node_dist)\r\n",
        "        i_v[1] = f_Mcoordinate_2_element(int(Location_Matrix[0,-1]),int(Location_Matrix[1,-1]),n)\r\n",
        "        T = f_Transition_Probability_Matrix(n,o_v,i_v,r_v,t_v,p=p1) # Transition matrix\r\n",
        "        # R = f_Reward_Matrix(T,Rw,i_v,r_v,Rpts,n)\r\n",
        "        R = F_Guassian_N_Reward_Matrix(T,Rw,i_v,r_v,Rpts,n)\r\n",
        "        Q_v = np.random.rand(N_s, N_a)\r\n",
        "        Q, V_Q, A_Q, dQ_norm_v = f_Q_Learning(n,N_s,N_a,N_e,N_t,starting_element,alpha,eps,gamma,S,T,R,n_epoch,tol,0,Q_v)\r\n",
        "        \r\n",
        "        if np.sum(np.sum(A_Q))!=0: # Checking if new proposed node converges to action\r\n",
        "          break\r\n",
        "        if fail_node==9: # Stopping script running on 10 failed attempts\r\n",
        "          print('Cannot converge stopping...')\r\n",
        "          sys.exit()\r\n",
        "\r\n",
        "\r\n",
        "    Q_Matrix[closest_node,:,node]=Q.copy().flatten().T # Storing Q found for edge\r\n",
        "    Q_A_Matrix[closest_node,:,node]=A_Q.copy().flatten().T # Storing Q found for edge\r\n",
        "    Connection_M[closest_node,node] = edge_count # Setting connection graph for validate connection found\r\n",
        "\r\n",
        "    s_v = f_Simulate(o_v,t_v,n,H,starting_element,A_Q,p1,rand=0) # Simulate the system using Q-learning\r\n",
        "    end_pair = f_Vector_to_Matrix_End_Only(s_v,n)\r\n",
        "    Location_Matrix[:,-1] = end_pair\r\n",
        "\r\n",
        "\r\n",
        "    if debugging==1:\r\n",
        "      # Debugging images, simulations of random walk found\r\n",
        "      print(Location_Matrix)\r\n",
        "      print('From node '+str(closest_node)+' to node '+ str(node))\r\n",
        "      # f_Plot_Loss(dQ_norm_v) # Plot loss function\r\n",
        "      print(' ')\r\n",
        "      # s_v = f_Simulate(o_v,t_v,n,H,starting_element,A_Q,p1,rand=0) # Simulate the system using Q-learning\r\n",
        "      f_Plot_board(s_v,i_v,o_v,r_v,t_v,n) # Plot the sequence of states using Q-learning\r\n",
        "      print(' ')\r\n",
        "      # f_Plot_Value(V_Q,n) # Heat map of value function form Q\r\n",
        "      # print()\r\n",
        "\r\n",
        "    if abs(end_pair[0]-Reward_cor.T[0])+abs(end_pair[1]-Reward_cor.T[1])==0:\r\n",
        "      Goal_node_no = np.shape(Location_Matrix)[1]-1 #len(Location_Matrix[0,:])-1\r\n",
        "      Location_Matrix[:,-1] = Reward_cor\r\n",
        "      print('True goal found')\r\n",
        "      break\r\n",
        "    elif np.argmax(V_Q)==i_v[0] and stop_at_goal_vis==1:\r\n",
        "      Goal_node_no = i_v[0]\r\n",
        "      print('True goal visable from last node')\r\n",
        "      break\r\n",
        "\r\n",
        "    edge_count = np.max(Connection_M)+1\r\n",
        "\r\n",
        "  if path_im==1:\r\n",
        "    f_SimPlot_All_Random_Walk_Q(H, o_v, t_v, r_v, i_v[0], n, N_a, p1, Q_Matrix, Connection_M, s0, Location_Matrix, Q_A_Matrix)\r\n",
        "  return(Connection_M,Location_Matrix,Q_Matrix,Q_A_Matrix,Goal_node_no)\r\n",
        "\r\n"
      ],
      "execution_count": null,
      "outputs": []
    },
    {
      "cell_type": "code",
      "metadata": {
        "id": "ZN0PuY1lt6-s"
      },
      "source": [
        "from numba import jit\r\n",
        "\r\n",
        "@jit(nopython = True)\r\n",
        "def f_gauss_GPU(nx, ny, mag, mu, cov):\r\n",
        "  #This function returns the values for a 2D Bell-Curve \r\n",
        "  #nx: size of the state space in x\r\n",
        "  #ny: size of the state space in y\r\n",
        "  #mag: magnitude of the gausian\r\n",
        "  #mu: (x,y) location of center\r\n",
        "  #cov: [a, b; b, c] covarience matrix\r\n",
        "\r\n",
        "  a = cov[0,0]\r\n",
        "  b = cov[0,1]\r\n",
        "  c = cov[1,1]\r\n",
        "\r\n",
        "  zOut = np.zeros((nx*ny,1))\r\n",
        "  for y in np.arange(0,ny):\r\n",
        "    for x in np.arange(0,nx):\r\n",
        "      dx = x - mu[0]\r\n",
        "      dy = y - mu[1]\r\n",
        "      innnerTerm = a*dx**2 + 2*b*dx*dy + c*dy**2\r\n",
        "      zOut[nx*y + x] = mag*np.exp(-innnerTerm)\r\n",
        "\r\n",
        "  return zOut\r\n",
        "\r\n",
        "def f_gauss(nx, ny, mag, mu, cov):\r\n",
        "  #This function returns the values for a 2D Bell-Curve \r\n",
        "  #nx: size of the state space in x\r\n",
        "  #ny: size of the state space in y\r\n",
        "  #mag: magnitude of the gausian\r\n",
        "  #mu: (x,y) location of center\r\n",
        "  #cov: [a, b; b, c] covarience matrix\r\n",
        "\r\n",
        "  a = cov[0,0]\r\n",
        "  b = cov[0,1]\r\n",
        "  c = cov[1,1]\r\n",
        "\r\n",
        "  zOut = np.zeros((nx*ny,1))\r\n",
        "  for y in np.arange(0,ny):\r\n",
        "    for x in np.arange(0,nx):\r\n",
        "      dx = x - mu[0]\r\n",
        "      dy = y - mu[1]\r\n",
        "      innnerTerm = a*dx**2 + 2*b*dx*dy + c*dy**2\r\n",
        "      zOut[nx*y + x] = mag*np.exp(-innnerTerm)\r\n",
        "\r\n",
        "  return zOut"
      ],
      "execution_count": null,
      "outputs": []
    },
    {
      "cell_type": "code",
      "metadata": {
        "id": "0YzjZqwIt7Ew"
      },
      "source": [
        "def F_Guassian_N_Reward_Matrix(T,Rw,i_v,r_v,Rpts,n):\r\n",
        "  stdx = 20\r\n",
        "  stdy = 20\r\n",
        "  cov= np.array([[1/(2*stdx**2), 0],[0, 1/(2*stdy**2)]])\r\n",
        "\r\n",
        "  mu = f_element_2_Mcoordinate(i_v[1],n)[0]\r\n",
        "  # print(mu)\r\n",
        "  Rpts2 = f_gauss_GPU(n, n, Rpts[1], mu, cov)\r\n",
        "  i_v2 = np.arange(n*n)\r\n",
        "  Rpts2[i_v[0]] += Rpts[0]\r\n",
        "  R = f_Reward_Matrix(T,Rw,i_v2,r_v,Rpts2,n)\r\n",
        "  return R\r\n"
      ],
      "execution_count": null,
      "outputs": []
    },
    {
      "cell_type": "markdown",
      "metadata": {
        "id": "x6UJkNEIuOZR"
      },
      "source": [
        "Maze Generation"
      ]
    },
    {
      "cell_type": "code",
      "metadata": {
        "id": "Aa1RS5ZguNk7"
      },
      "source": [
        "# # Sample Values\r\n",
        "\r\n",
        "# n = 15 #12 # Board size\r\n",
        "\r\n",
        "# #Maze Parameters\r\n",
        "# layerR    = 0 #Start at the 0th point in the cycle\r\n",
        "# splitPeriod = 0 #(-) randomly, (0) never, (+n) with period n\r\n",
        "# doorWidth = 1 #width of Bottlenecks\r\n",
        "# extraPath = 2 #Number of extra cell width in rooms\r\n",
        "# randomExtra = True #Randomize room size adds (0-extraPath) cells\r\n",
        "# restrictedX = np.array([]) #Poke additional Holes in the first division Horizontal\r\n",
        "# restrictedY = np.array([]) #Poke additional Holes in the first division Horizontal\r\n",
        "\r\n",
        "# # Making our maze\r\n",
        "# o_v, paths, lastroom, firstRoom = f_maze_recursive_divistion_sv_MULTI(n, layerR, splitPeriod, doorWidth, extraPath, randomExtra, restrictedX, restrictedY)\r\n",
        "\r\n",
        "# i_v = np.r_[[int(np.random.choice((lastroom)))][0]]\r\n",
        "# s0 = np.r_[np.random.choice((firstRoom))]\r\n",
        "# # print(np.shape(i_v[0]))\r\n",
        "\r\n",
        "# r_v = []\r\n",
        "# t_v = []\r\n",
        "\r\n",
        "# f_Plot_gopts(i_v,o_v,r_v,t_v,n)"
      ],
      "execution_count": null,
      "outputs": []
    },
    {
      "cell_type": "markdown",
      "metadata": {
        "id": "mPixooxVuWV0"
      },
      "source": [
        "Using Q-RRT with Grow and K-nearest"
      ]
    },
    {
      "cell_type": "code",
      "metadata": {
        "id": "z4N5S-Z6O9hZ"
      },
      "source": [
        "import time\r\n",
        "\r\n",
        "# # Sample Values\r\n",
        "# tic = time.clock()\r\n",
        "# n = 8 # Dimension of board\r\n",
        "# N_s = n**2 # Number of states\r\n",
        "# N_a = 5 # Number of actions\r\n",
        "# p1 = 0.9 # Transition probability\r\n",
        "# alpha = 0.1 # Learning rate\r\n",
        "# S = np.arange(N_s) # Set of possible states\r\n",
        "# eps = 0.3 # Epsilon-greedy parameter\r\n",
        "# gamma = 0.9 # Reward discount rate\r\n",
        "# N_e = 20000 # Number of episodes\r\n",
        "# N_t = N_s # Number of actions in trajectory\r\n",
        "# n_epoch = 50 # Number of episodes in an epoch\r\n",
        "# tol = 5 # Break when loss < tol\r\n",
        "# s0 = np.random.choice(S) # Starting state\r\n",
        "# Rw = -1 # Reward for street\r\n",
        "# n_o = 0 # Number of obstacle states\r\n",
        "# n_r = 0 # Number of penalty states\r\n",
        "# n_i = 1 # Number of goal states\r\n",
        "# n_t = 0 # Number of trap states\r\n",
        "# o_v,i_v,r_v,t_v = f_Random_Board(n,s0,n_i,n_o,n_r,n_t) # Generate random board with only the \"True Goal\"\r\n",
        "# R_tg = 10\r\n",
        "# R_node = 2\r\n",
        "# Max_Nodes = int(N_s/5)\r\n",
        "# Static_node_dist = 7 # Tolerance or max distance allowed for a proposed node\r\n",
        "# H = 200\r\n",
        "# k=8\r\n",
        "\r\n",
        "# Connection_M,Location_Matrix,Q_Matrix,Q_A_Matrix,Goal_node_no = RRT_Q_2_Goal(n,N_a,p1,alpha,eps,gamma,N_e,N_t,n_epoch,tol,s0,o_v,i_v,r_v,t_v,R_tg,R_node,Max_Nodes,Static_node_dist,H,0,1,0)\r\n",
        "# if len(Location_Matrix[0,:])!=Max_Nodes:\r\n",
        "#   print('Number of Nodes '+str(len(Location_Matrix[0,:])))\r\n",
        "#   Connection_M2,Location_Matrix2,Q_Matrix2,Q_A_Matrix2 = RRT_Q_Grow(n,N_a,p1,alpha,eps,gamma,N_e,N_t,n_epoch,tol,s0,o_v,i_v,r_v,t_v,R_tg,R_node,Max_Nodes,Static_node_dist,H,Connection_M,Location_Matrix,Q_Matrix,Q_A_Matrix,Goal_node_no,1,0)\r\n",
        "#   Connection_M3,Location_Matrix3,Q_Matrix3,Q_A_Matrix3 = RRT_K_Nearest(k,n,N_a,p1,alpha,eps,gamma,N_e,N_t,n_epoch,tol,s0,o_v,i_v,r_v,t_v,R_tg,R_node,Max_Nodes,Static_node_dist,H,Connection_M2,Location_Matrix2,Q_Matrix,Q_A_Matrix2,Goal_node_no,1,0)\r\n",
        "# toc = time.clock()\r\n",
        "# print(toc-tic)"
      ],
      "execution_count": null,
      "outputs": []
    },
    {
      "cell_type": "code",
      "metadata": {
        "id": "ouLMs8244ToW"
      },
      "source": [
        "# # Sample Values\n",
        "# n = 25 # Dimension of board\n",
        "# N_s = n**2 # Number of states\n",
        "# N_a = 5 # Number of actions\n",
        "# p1 = 0.9 # Transition probability\n",
        "# alpha = 0.1 # Learning rate\n",
        "# S = np.arange(N_s) # Set of possible states\n",
        "# eps = 0.3 # Epsilon-greedy parameter\n",
        "# gamma = 0.9 # Reward discount rate\n",
        "# N_e = 20000 # Number of episodes\n",
        "# N_t = N_s # Number of actions in trajectory\n",
        "# n_epoch = 50 # Number of episodes in an epoch\n",
        "# tol = 5 # Break when loss < tol\n",
        "# s0 = np.random.choice(S) # Starting state\n",
        "# Rw = -1 # Reward for street\n",
        "# n_o = 10 # Number of obstacle states\n",
        "# n_r = 0 # Number of penalty states\n",
        "# n_i = 1 # Number of goal states\n",
        "# n_t = 0 # Number of trap states\n",
        "# o_v,i_v,r_v,t_v = f_Random_Board(n,s0,n_i,n_o,n_r,n_t) # Generate random board with only the \"True Goal\"\n",
        "# R_tg = 10\n",
        "# R_node = 2\n",
        "# Max_Nodes = 50\n",
        "# Static_node_dist = 7 # Tolerance or max distance allowed for a proposed node\n",
        "# H = 200\n",
        "# Connection_M,Location_Matrix,Q_Matrix,Q_A_Matrix,Goal_node_no = RRT_Q_2_Goal(n,N_a,p1,alpha,eps,gamma,N_e,N_t,n_epoch,tol,s0,o_v,i_v,r_v,t_v,R_tg,R_node,Max_Nodes,Static_node_dist,H,1,1)\n"
      ],
      "execution_count": null,
      "outputs": []
    },
    {
      "cell_type": "markdown",
      "metadata": {
        "id": "AA9939cWG55E"
      },
      "source": [
        "## Q Recombination"
      ]
    },
    {
      "cell_type": "markdown",
      "metadata": {
        "id": "rvjcE2dWWUdG"
      },
      "source": [
        "This section focuses on methods to combine Q-tables from the RRT into a global Q-table to solve the sparse Q-learning problem\r\n",
        "\r\n",
        "### Method 1: Path back-up\r\n",
        "\r\n",
        "The RRT algorithm above will return a path $P=\\{v_0,\\dots,v_n\\}$ where $v_0$ is the initial state and $v_n$ is the final reward state. This recombination method computes successive Q-tables starting from the end of the path and working backwards.\r\n",
        "\r\n",
        "\\begin{array}{rl}\r\n",
        "\\text{init:} & Q(s,a)\\leftarrow \\text{random},\\;i=1 \\\\\r\n",
        "\\text{loop}: & s_0\\leftarrow v_{n-i} \\\\\r\n",
        "& \\mathop{\\text{loop}}: \\text{Q-learning with all trajectories starting from $s_0$} \\\\\r\n",
        "& \\text{until: } \\text{simulation with } \\pi(s)=\\mathop{\\text{arg}\\max}\\limits_a Q(s,a) \\text{ finds a trajectory } s_0\\rightarrow v_n \\\\\r\n",
        "& i\\leftarrow i+1 \\\\\r\n",
        "\\text{until:} & \\text{find a trajectory } v_0\\rightarrow v_n\r\n",
        "\\end{array}"
      ]
    },
    {
      "cell_type": "code",
      "metadata": {
        "id": "fqZSNLc4-a1n"
      },
      "source": [
        "def f_Build_Path_Matrices(m, s0, sgoal):\r\n",
        "  \"\"\"\r\n",
        "  creates path connection matrices for the adjacency matrix m until a path is\r\n",
        "  found to exist from s0 to sgoal\r\n",
        "\r\n",
        "  Parameters\r\n",
        "  ----------\r\n",
        "  m : np.array\r\n",
        "    adjacency matrix\r\n",
        "    m[i,j] = 1 if node i is adjacent to node j, 0 otherwise\r\n",
        "  s0 : int\r\n",
        "    index of desired starting node\r\n",
        "  sgoal : int\r\n",
        "    index of desired stopping node\r\n",
        "\r\n",
        "  Returns\r\n",
        "  -------\r\n",
        "  m_all : np.array\r\n",
        "    path connection matrices\r\n",
        "    m_all[i,j,k-1] = 1 if there exists a length k path from node i to node j, 0 otherwise\r\n",
        "  \"\"\"\r\n",
        "  \r\n",
        "  # initialize with length 1 paths\r\n",
        "  path_length = 1\r\n",
        "  n_nodes = m.shape[0]\r\n",
        "  m_all = np.zeros((n_nodes, n_nodes, n_nodes-1)) # maximum possible path length is n_nodes-1\r\n",
        "  m_all[:,:,path_length-1] = m\r\n",
        "  \r\n",
        "  # extend paths until finding the length of a path from start to goal\r\n",
        "  while m_all[s0, sgoal, path_length-1] != 1:\r\n",
        "    path_length += 1\r\n",
        "    m_all[:,:,path_length-1] = m_all[:,:,path_length-2] @ m\r\n",
        "    \r\n",
        "  # remove unused indices\r\n",
        "  m_all = m_all[:,:,:path_length]\r\n",
        "\r\n",
        "  return m_all\r\n",
        "\r\n",
        "def f_Path_Backup(m, s0, sn, n):\r\n",
        "  \"\"\"\r\n",
        "  finds a length n path from s0 to sn\r\n",
        "\r\n",
        "  Parameters\r\n",
        "  ----------\r\n",
        "  m : np.array\r\n",
        "    path connection matrices for the graph\r\n",
        "    m[i,j,k-1] = 1 if there exists a length k path from node i to node j, 0 otherwise\r\n",
        "  s0 : int\r\n",
        "    index of desired starting node\r\n",
        "  sn : int\r\n",
        "    index of desired stopping node\r\n",
        "  n : int\r\n",
        "    length of desired path\r\n",
        "\r\n",
        "  Returns\r\n",
        "  -------\r\n",
        "  np.array of path node indices\r\n",
        "  \"\"\"\r\n",
        "  if n == 1:\r\n",
        "    return np.r_[s0, sn]\r\n",
        "  \r\n",
        "  elif n > 1:\r\n",
        "    # set of nodes v such that there is a length n-1 path from s0->v\r\n",
        "    p1 = np.where(m[s0,:,n-2])\r\n",
        "    \r\n",
        "    # set of nodes v such that there is a length 1 path from v->sn\r\n",
        "    p2 = np.where(m[:,sn,0])\r\n",
        "    \r\n",
        "    # select a node and backup\r\n",
        "    sn1 = np.intersect1d(p1, p2, assume_unique=True)[0]\r\n",
        "    return np.r_[f_Path_Backup(m, s0, sn1, n-1), sn]\r\n",
        "    \r\n",
        "  elif n < 1:\r\n",
        "    raise(ValueError(\"Cannot construct path of length < 1\"))"
      ],
      "execution_count": null,
      "outputs": []
    },
    {
      "cell_type": "markdown",
      "metadata": {
        "id": "--ScX_p4_yen"
      },
      "source": [
        "Sequential Q-learning with a hard-coded example world"
      ]
    },
    {
      "cell_type": "code",
      "metadata": {
        "id": "ID38yDbdHOdw",
        "colab": {
          "base_uri": "https://localhost:8080/",
          "height": 1000
        },
        "outputId": "802a1582-1efd-4571-c68c-db39e4a424e1"
      },
      "source": [
        "n = 15 # Dimension of board\n",
        "N_s = n**2 # Number of states\n",
        "N_a = 5 # Number of actions\n",
        "S = np.arange(N_s) # Set of possible states\n",
        "p1 = 0.9 # Transition probability\n",
        "p2 = (1-p1)/(N_a-1)\n",
        "alpha = 0.1 # Learning rate\n",
        "eps = 0.3 # Epsilon-greedy parameter\n",
        "gamma = 0.9 # Reward discount rate\n",
        "N_e = 50 # Number of episodes\n",
        "N_t = N_s # Number of actions in trajectory\n",
        "n_epoch = 50 # Number of episodes in an epoch\n",
        "tol = 0.5 # Break when loss < tol\n",
        "s0 = np.random.choice(S) # Starting state\n",
        "H = 200 # time horizon\n",
        "\n",
        "Rw = -1 # Reward for street\n",
        "Rpts = np.r_[10]  # array of rewards for true goal\n",
        "\n",
        "# pick rewards and obstacles manually\n",
        "i_v = np.r_[29]\n",
        "o_v = np.r_[20, 40, 108, 114, 13, 221, 125, 72, 139, 26]\n",
        "t_v = np.array([])\n",
        "r_v = np.array([])\n",
        "\n",
        "# build transition and reward functions\n",
        "T = f_Transition_Probability_Matrix(n,o_v,i_v,r_v,t_v,p=p1) # Transition matrix\n",
        "R = f_Reward_Matrix(T,Rw,i_v,r_v,Rpts,n) # Reward matrix\n",
        "\n",
        "# manually pick a path to back up along\n",
        "path = np.c_[[4, 11], [4, 7], [2, 4], [5, 5], [8, 9]]\n",
        "\n",
        "# Q-learning backing up along path\n",
        "Q_v = np.random.rand(N_s, N_a)\n",
        "i = 0\n",
        "path_v = f_Position_to_State(path[:,:i+1], n)\n",
        "while i < path.shape[1]:\n",
        "  \n",
        "  # run Q-learning from path node to final goal, initialized with previously found Q_v\n",
        "  s0 = f_Position_to_State(path[:,i], n)\n",
        "  Q, V_Q, A_Q, dQ_norm_v = f_Q_Learning(n, N_s, N_a, N_e, N_t, s0, alpha, eps, gamma, S, T, R, n_epoch, tol, rand_start=0, Q_v=Q_v)\n",
        "  \n",
        "  # update Q_v\n",
        "  Q_v = Q.reshape(N_s, N_a)\n",
        "  \n",
        "  # simulate system and plot results\n",
        "  s_v = f_Simulate(o_v, t_v, n, H, s0, A_Q, p1, rand=0)\n",
        "  f_Plot_board(s_v, i_v, o_v, r_v, path_v, n) # there are no trap states, so plot path nodes instead of traps\n",
        "  \n",
        "  # if reached goal, back up the chain\n",
        "  if s_v[-1] == i_v[0]:\n",
        "    i += 1\n",
        "    path_v = f_Position_to_State(path[:,:i+1], n)"
      ],
      "execution_count": null,
      "outputs": [
        {
          "output_type": "stream",
          "text": [
            "Number of episodes:  50\n",
            "Number of iterations:  11250\n"
          ],
          "name": "stdout"
        },
        {
          "output_type": "display_data",
          "data": {
            "image/png": "[encoded data removed]",
            "text/plain": [
              "<Figure size 432x288 with 1 Axes>"
            ]
          },
          "metadata": {
            "tags": [],
            "needs_background": "light"
          }
        },
        {
          "output_type": "stream",
          "text": [
            "Number of episodes:  50\n",
            "Number of iterations:  11250\n"
          ],
          "name": "stdout"
        },
        {
          "output_type": "display_data",
          "data": {
            "image/png": "[encoded data removed]",
            "text/plain": [
              "<Figure size 432x288 with 1 Axes>"
            ]
          },
          "metadata": {
            "tags": [],
            "needs_background": "light"
          }
        },
        {
          "output_type": "stream",
          "text": [
            "Number of episodes:  50\n",
            "Number of iterations:  11250\n"
          ],
          "name": "stdout"
        },
        {
          "output_type": "display_data",
          "data": {
            "image/png": "[encoded data removed]",
            "text/plain": [
              "<Figure size 432x288 with 1 Axes>"
            ]
          },
          "metadata": {
            "tags": [],
            "needs_background": "light"
          }
        },
        {
          "output_type": "stream",
          "text": [
            "Number of episodes:  50\n",
            "Number of iterations:  11250\n"
          ],
          "name": "stdout"
        },
        {
          "output_type": "display_data",
          "data": {
            "image/png": "[encoded data removed]",
            "text/plain": [
              "<Figure size 432x288 with 1 Axes>"
            ]
          },
          "metadata": {
            "tags": [],
            "needs_background": "light"
          }
        },
        {
          "output_type": "stream",
          "text": [
            "Number of episodes:  50\n",
            "Number of iterations:  11250\n"
          ],
          "name": "stdout"
        },
        {
          "output_type": "display_data",
          "data": {
            "image/png": "[encoded data removed]",
            "text/plain": [
              "<Figure size 432x288 with 1 Axes>"
            ]
          },
          "metadata": {
            "tags": [],
            "needs_background": "light"
          }
        },
        {
          "output_type": "stream",
          "text": [
            "Number of episodes:  50\n",
            "Number of iterations:  11250\n"
          ],
          "name": "stdout"
        },
        {
          "output_type": "display_data",
          "data": {
            "image/png": "[encoded data removed]",
            "text/plain": [
              "<Figure size 432x288 with 1 Axes>"
            ]
          },
          "metadata": {
            "tags": [],
            "needs_background": "light"
          }
        }
      ]
    },
    {
      "cell_type": "markdown",
      "metadata": {
        "id": "PR7Heo84_4Ni"
      },
      "source": [
        "Q recombination using a path from RRT"
      ]
    },
    {
      "cell_type": "code",
      "metadata": {
        "id": "3L1GIWNi_LgD",
        "colab": {
          "base_uri": "https://localhost:8080/",
          "height": 1000
        },
        "outputId": "031fbc05-8811-4b5f-e1da-3a3100c45e60"
      },
      "source": [
        "\r\n",
        "tic = time.clock()\r\n",
        "\r\n",
        "n = 25 # Dimension of board\r\n",
        "N_s = n**2 # Number of states\r\n",
        "N_a = 5 # Number of actions\r\n",
        "p1 = 0.9 # Transition probability\r\n",
        "alpha = 0.1 # Learning rate\r\n",
        "S = np.arange(N_s) # Set of possible states\r\n",
        "eps = 0.5 # Epsilon-greedy parameter\r\n",
        "gamma = 0.9 # Reward discount rate\r\n",
        "N_e = 20000 # Number of episodes\r\n",
        "N_t = N_s # Number of actions in trajectory\r\n",
        "n_epoch = 50 # Number of episodes in an epoch\r\n",
        "tol = 5 # Break when loss < tol\r\n",
        "s0 = N_s-2 #np.random.choice(S) # Starting state\r\n",
        "Rw = -1 # Reward for street\r\n",
        "n_o = 180 # Number of obstacle states\r\n",
        "n_r = 0 # Number of penalty states\r\n",
        "n_i = 1 # Number of goal states\r\n",
        "n_t = 0 # Number of trap states\r\n",
        "o_v,i_v,r_v,t_v = f_Random_Board(n,s0,n_i,n_o,n_r,n_t) # Generate random board with only the \"True Goal\"\r\n",
        "i_v[0] = 0 \r\n",
        "R_tg = 10\r\n",
        "R_node = 2\r\n",
        "Rpts = np.r_[10] # array of rewards for true goal\r\n",
        "Max_Nodes = 100\r\n",
        "Static_node_dist = 7 # Tolerance or max distance allowed for a proposed node\r\n",
        "H = 200\r\n",
        "\r\n",
        "# build transition and reward functions\r\n",
        "T = f_Transition_Probability_Matrix(n,o_v,i_v,r_v,t_v,p=p1) # Transition matrix\r\n",
        "R = f_Reward_Matrix(T,Rw,i_v,r_v,Rpts,n) # Reward matrix\r\n",
        "\r\n",
        "# do RRT to build a tree which includes s0 and sgoal\r\n",
        "Connection_M,Location_Matrix,Q_Matrix,Q_A_Matrix,sgoal = RRT_Q_2_Goal(n,N_a,p1,alpha,eps,gamma,N_e,N_t,n_epoch,tol,s0,o_v,i_v,r_v,t_v,R_tg,R_node,Max_Nodes,Static_node_dist,H,stop_at_goal_vis=0,path_im=1)\r\n",
        "\r\n",
        "if sgoal is None:\r\n",
        "  Exception(\"RRT did not find goal...\")\r\n",
        "\r\n",
        "# fix length 1 path matrix\r\n",
        "n_nodes = Location_Matrix.shape[1]\r\n",
        "m = Connection_M[:n_nodes,:n_nodes] # take only the nodes we used\r\n",
        "m = np.where(m > 0, 1, 0) # convert to binary indexing variable\r\n",
        "\r\n",
        "# generate path matrices to connect first point to sgoal\r\n",
        "m_all = f_Build_Path_Matrices(m, 0, sgoal)\r\n",
        "path_length = m_all.shape[2]\r\n",
        "\r\n",
        "# find path node indices\r\n",
        "p_v_m = f_Path_Backup(m_all, 0, sgoal, path_length)\r\n",
        "p_coords = Location_Matrix[:,p_v_m]\r\n",
        "p_v = f_Position_to_State(p_coords, n)\r\n",
        "print('path node indices (in graph):', p_v_m)\r\n",
        "print('path node indices (as states):', p_v)\r\n",
        "print('path node coordinates:')\r\n",
        "print(p_coords)\r\n",
        "\r\n",
        "# Q-learning backing up along path\r\n",
        "Q_v = np.random.rand(N_s, N_a)\r\n",
        "i = 1 # start at second to last node, last node is goal\r\n",
        "while i < len(p_v):\r\n",
        "  \r\n",
        "  # run Q-learning from path node to final goal, initialized with previously found Q_v\r\n",
        "  s0 = f_Position_to_State(p_coords[:,-(i+1)], n)\r\n",
        "  Q, V_Q, A_Q, dQ_norm_v = f_Q_Learning(n, N_s, N_a, N_e, N_t, s0, alpha, eps, gamma, S, T, R, n_epoch, tol, rand_start=0, Q_v=Q_v)\r\n",
        "  \r\n",
        "  # update Q_v\r\n",
        "  Q_v = Q.reshape(N_s, N_a)\r\n",
        "  \r\n",
        "  # simulate system and plot results\r\n",
        "  s_v = f_Simulate(o_v, t_v, n, H, s0, A_Q, p1, rand=0)\r\n",
        "  f_Plot_board(s_v, i_v, o_v, r_v, p_v[-(i+1):], n) # there are no trap states, so plot path nodes instead of traps\r\n",
        "  \r\n",
        "  # if reached goal, back up the chain\r\n",
        "  if s_v[-1] == i_v[0]:\r\n",
        "    i += 1\r\n",
        "\r\n",
        "toc = time.clock()\r\n",
        "print(toc-tic)"
      ],
      "execution_count": null,
      "outputs": [
        {
          "output_type": "stream",
          "text": [
            "Starting at state [24 23] or 623\n",
            "True goal is at [0 0] or 0\n",
            "Number of episodes:  150\n",
            "Number of iterations:  93750\n",
            "Number of episodes:  150\n",
            "Number of iterations:  93750\n",
            "Number of episodes:  150\n",
            "Number of iterations:  93750\n",
            "Number of episodes:  100\n",
            "Number of iterations:  62500\n",
            "No action found and did not converge\n",
            "fail 0\n",
            "Number of episodes:  150\n",
            "Number of iterations:  93750\n",
            "Number of episodes:  150\n",
            "Number of iterations:  93750\n",
            "Number of episodes:  250\n",
            "Number of iterations:  156250\n",
            "Number of episodes:  650\n",
            "Number of iterations:  406250\n"
          ],
          "name": "stdout"
        },
        {
          "output_type": "display_data",
          "data": {
            "image/png": "[encoded data removed]",
            "text/plain": [
              "<Figure size 720x720 with 1 Axes>"
            ]
          },
          "metadata": {
            "tags": [],
            "needs_background": "light"
          }
        },
        {
          "output_type": "stream",
          "text": [
            "path node indices (in graph): [0 1 2 3 4 7]\n",
            "path node indices (as states): [623 448 294 363 282   0]\n",
            "path node coordinates:\n",
            "[[24. 17. 11. 14. 11.  0.]\n",
            " [23. 23. 19. 13.  7.  0.]]\n",
            "Number of episodes:  750\n",
            "Number of iterations:  468750\n"
          ],
          "name": "stdout"
        },
        {
          "output_type": "display_data",
          "data": {
            "image/png": "[encoded data removed]",
            "text/plain": [
              "<Figure size 432x288 with 1 Axes>"
            ]
          },
          "metadata": {
            "tags": [],
            "needs_background": "light"
          }
        },
        {
          "output_type": "stream",
          "text": [
            "Number of episodes:  100\n",
            "Number of iterations:  62500\n"
          ],
          "name": "stdout"
        },
        {
          "output_type": "display_data",
          "data": {
            "image/png": "[encoded data removed]",
            "text/plain": [
              "<Figure size 432x288 with 1 Axes>"
            ]
          },
          "metadata": {
            "tags": [],
            "needs_background": "light"
          }
        },
        {
          "output_type": "stream",
          "text": [
            "Number of episodes:  350\n",
            "Number of iterations:  218750\n"
          ],
          "name": "stdout"
        },
        {
          "output_type": "display_data",
          "data": {
            "image/png": "[encoded data removed]",
            "text/plain": [
              "<Figure size 432x288 with 1 Axes>"
            ]
          },
          "metadata": {
            "tags": [],
            "needs_background": "light"
          }
        },
        {
          "output_type": "stream",
          "text": [
            "Number of episodes:  100\n",
            "Number of iterations:  62500\n"
          ],
          "name": "stdout"
        },
        {
          "output_type": "display_data",
          "data": {
            "image/png": "[encoded data removed]",
            "text/plain": [
              "<Figure size 432x288 with 1 Axes>"
            ]
          },
          "metadata": {
            "tags": [],
            "needs_background": "light"
          }
        },
        {
          "output_type": "stream",
          "text": [
            "Number of episodes:  100\n",
            "Number of iterations:  62500\n"
          ],
          "name": "stdout"
        },
        {
          "output_type": "display_data",
          "data": {
            "image/png": "[encoded data removed]",
            "text/plain": [
              "<Figure size 432x288 with 1 Axes>"
            ]
          },
          "metadata": {
            "tags": [],
            "needs_background": "light"
          }
        },
        {
          "output_type": "stream",
          "text": [
            "Number of episodes:  200\n",
            "Number of iterations:  125000\n"
          ],
          "name": "stdout"
        },
        {
          "output_type": "display_data",
          "data": {
            "image/png": "[encoded data removed]",
            "text/plain": [
              "<Figure size 432x288 with 1 Axes>"
            ]
          },
          "metadata": {
            "tags": [],
            "needs_background": "light"
          }
        },
        {
          "output_type": "stream",
          "text": [
            "41.119011\n"
          ],
          "name": "stdout"
        }
      ]
    },
    {
      "cell_type": "code",
      "metadata": {
        "id": "rMhUunc2EDH1",
        "colab": {
          "base_uri": "https://localhost:8080/",
          "height": 1000
        },
        "outputId": "bb9cd1fe-1dc5-4870-944c-bfa6de08ef29"
      },
      "source": [
        "#=== comparison with value iteration ===#\r\n",
        "\r\n",
        "A, V = f_Value_Iteration(n, H, T, R, gamma) # Run value iteration\r\n",
        "f_Plot_Value(V, n) # Plot heatmap of the value function generated by value iteration\r\n",
        "f_Plot_Actions(A, i_v, o_v, r_v, t_v, n) # Plot the policy using value iteration\r\n",
        "\r\n",
        "f_Plot_Value(V_Q, n) # Plot heatmap of the value function generated by Q learning\r\n",
        "f_Plot_Actions(A_Q, i_v, o_v, r_v, t_v, n) # Plot the policy using Q learning"
      ],
      "execution_count": null,
      "outputs": [
        {
          "output_type": "display_data",
          "data": {
            "image/png": "[encoded data removed]",
            "text/plain": [
              "<Figure size 288x288 with 1 Axes>"
            ]
          },
          "metadata": {
            "tags": [],
            "needs_background": "light"
          }
        },
        {
          "output_type": "display_data",
          "data": {
            "image/png": "[encoded data removed]",
            "text/plain": [
              "<Figure size 432x288 with 1 Axes>"
            ]
          },
          "metadata": {
            "tags": [],
            "needs_background": "light"
          }
        },
        {
          "output_type": "display_data",
          "data": {
            "image/png": "[encoded data removed]",
            "text/plain": [
              "<Figure size 288x288 with 1 Axes>"
            ]
          },
          "metadata": {
            "tags": [],
            "needs_background": "light"
          }
        },
        {
          "output_type": "display_data",
          "data": {
            "image/png": "[encoded data removed]",
            "text/plain": [
              "<Figure size 432x288 with 1 Axes>"
            ]
          },
          "metadata": {
            "tags": [],
            "needs_background": "light"
          }
        }
      ]
    },
    {
      "cell_type": "code",
      "metadata": {
        "id": "3R6xIxItUuBu",
        "colab": {
          "base_uri": "https://localhost:8080/",
          "height": 864
        },
        "outputId": "f148f4b0-5cbc-4314-eca8-1b6e25b7e6ff"
      },
      "source": [
        "# Q learning Sample\r\n",
        "tic = time.clock()\r\n",
        "alpha = 0.5 # Learning rate\r\n",
        "eps = 0.3 # Epsilon-greedy parameter\r\n",
        "gamma = 0.9 # Reward discount rate\r\n",
        "N_e = 5000000 # Number of episodes\r\n",
        "N_t = N_s # Number of actions in trajectory\r\n",
        "n_epoch = 50 # Number of episodes in an epoch\r\n",
        "tol = 5 # Break when loss < tol\r\n",
        "Rpts = [R_tg]\r\n",
        "\r\n",
        "T = f_Transition_Probability_Matrix(n,o_v,i_v,r_v,t_v,p=p1) # Transition matrix\r\n",
        "R = f_Reward_Matrix(T,Rw,i_v,r_v,Rpts,n) # Reward matrix\r\n",
        "\r\n",
        "Q_v = np.random.rand(N_s, N_a)\r\n",
        "Q, V_Q, A_Q, dQ_norm_v = f_Q_Learning(n,N_s,N_a,N_e,N_t,s0,alpha,eps,gamma,S,T,R,n_epoch,tol,rand_start=0,Q_v=Q_v)\r\n",
        "\r\n",
        "H = 100 # Horizon in value iteration\r\n",
        "# A, V = f_Value_Iteration(n,H,T,R,gamma) # Run value iteration\r\n",
        "s_v = f_Simulate(o_v,t_v,n,H,s0,A_Q,p1,rand=0) # Simulate the system using Q-learning\r\n",
        "\r\n",
        "# f_Plot_Value(V,n) # Plot heatmap of the value function generated by value iteration\r\n",
        "f_Plot_Value(V_Q,n) # Plot heatmap of the value function generated by Q-learning\r\n",
        "# f_Plot_Actions(A,i_v,o_v,r_v,t_v,n) # Plot the best action using value iteration\r\n",
        "# f_Plot_Actions(A_Q,i_v,o_v,r_v,t_v,n) # Plot the best action using Q-learning\r\n",
        "f_Plot_board(s_v,i_v,o_v,r_v,t_v,n) # Plot the sequence of states using Q-learning\r\n",
        "f_Plot_Loss(dQ_norm_v) # Plot loss function\r\n",
        "\r\n",
        "toc = time.clock()\r\n",
        "print(toc-tic)"
      ],
      "execution_count": null,
      "outputs": [
        {
          "output_type": "stream",
          "text": [
            "Number of episodes:  2500\n",
            "Number of iterations:  1562500\n"
          ],
          "name": "stdout"
        },
        {
          "output_type": "display_data",
          "data": {
            "image/png": "[encoded data removed]",
            "text/plain": [
              "<Figure size 288x288 with 1 Axes>"
            ]
          },
          "metadata": {
            "tags": [],
            "needs_background": "light"
          }
        },
        {
          "output_type": "display_data",
          "data": {
            "image/png": "[encoded data removed]",
            "text/plain": [
              "<Figure size 432x288 with 1 Axes>"
            ]
          },
          "metadata": {
            "tags": [],
            "needs_background": "light"
          }
        },
        {
          "output_type": "display_data",
          "data": {
            "image/png": "[encoded data removed]",
            "text/plain": [
              "<Figure size 432x288 with 1 Axes>"
            ]
          },
          "metadata": {
            "tags": [],
            "needs_background": "light"
          }
        },
        {
          "output_type": "stream",
          "text": [
            "24.673211999999992\n"
          ],
          "name": "stdout"
        }
      ]
    },
    {
      "cell_type": "markdown",
      "metadata": {
        "id": "0-NCY3Ld-rSW"
      },
      "source": [
        "## Maze Code Recursive Room Division"
      ]
    },
    {
      "cell_type": "code",
      "metadata": {
        "id": "4WAkS0g1gWsJ"
      },
      "source": [
        "def f_pick_zones(outerType, innerType, door, s1, s2):\r\n",
        "#This code picks the zone furthest from the opening\r\n",
        "#Type numbers here represent missing doors in  0-Left, 1Right, 2-Top, 4-Bottom \r\n",
        "#outerType: excluded # for the outer cell no door\r\n",
        "#innerType: excluded # for the inner cell no door\r\n",
        "#door: index of door\r\n",
        "#s1: Starting zone (L-R, T-B)\r\n",
        "#s2: ending zone\r\n",
        "  horFlags = np.sum(s1,0)\r\n",
        "  vertFlags = np.sum(s1,1)\r\n",
        "  door = int(door)\r\n",
        "\r\n",
        "  #entering from the Right side \r\n",
        "  if outerType == 0:\r\n",
        "    #if Vertical go with the start\r\n",
        "    if innerType >= 2:\r\n",
        "      return s1\r\n",
        "    else:\r\n",
        "      if vertFlags[door] == 0:\r\n",
        "        return s1\r\n",
        "      else:\r\n",
        "        return s2\r\n",
        "    #entering from the Left side \r\n",
        "  if outerType == 1:\r\n",
        "    #if Vertical go with the start\r\n",
        "    if innerType >= 2:\r\n",
        "      return s2\r\n",
        "    else:\r\n",
        "      if vertFlags[door] == 0:\r\n",
        "        return s1\r\n",
        "      else:\r\n",
        "        return s2\r\n",
        "  #entering from the bottom\r\n",
        "  if outerType == 2:\r\n",
        "    #Horizontal Divider\r\n",
        "    if innerType <= 1:\r\n",
        "      return s1\r\n",
        "    else:\r\n",
        "      #Check if there is a 1 in the vertical door column\r\n",
        "      if horFlags[door] == 0:\r\n",
        "        return s1\r\n",
        "      else:\r\n",
        "        return s2\r\n",
        "  #Entering from the Top\r\n",
        "  if outerType == 3:\r\n",
        "    #Horizontal Divider\r\n",
        "    if innerType <= 1:\r\n",
        "      return s2\r\n",
        "    else:\r\n",
        "      #Check if there is a 1 in the vertical door column\r\n",
        "      if horFlags[door] == 0:\r\n",
        "        return s1\r\n",
        "      else:\r\n",
        "        return s2\r\n"
      ],
      "execution_count": null,
      "outputs": []
    },
    {
      "cell_type": "code",
      "metadata": {
        "id": "3iQhONmRvmoP"
      },
      "source": [
        "\r\n",
        "import numpy as np\r\n",
        "def f_maze_recursive_division(xDim, yDim, oSize, minSize = 0, rand = True, xBad = np.array([]), yBad = np.array([])):\r\n",
        "#xDim: int size in x of maze to be generated\r\n",
        "#yDim: (int) size in y\r\n",
        "#oSize: (int) how big in states are the doors\r\n",
        "#minSize: (int) How much bigger than the min size should the rooms be?\r\n",
        "#rand: (bool) Do you want to randomize the room sizes?\r\n",
        "#xBad: array states that cannot be chosen for wall placement in X\r\n",
        "#yBad: array of states that cannot be chosen for wall placement in Y\r\n",
        "\r\n",
        "  # print('xBad: ', xBad)\r\n",
        "  # print('yBad: ', yBad)\r\n",
        "#Maze is a 2D matrix 0 = path 1 = wall\r\n",
        "  maze = np.zeros((yDim,xDim))\r\n",
        "\r\n",
        "#Validate the opening size\r\n",
        "  if oSize < 1:\r\n",
        "    oSize = 1\r\n",
        "#Change Minimum Required VALID Cells\r\n",
        "  if rand == True and minSize > 0:\r\n",
        "    minBox = np.random.randint(3,minSize+3)\r\n",
        "  else:\r\n",
        "    minBox = 3\r\n",
        "\r\n",
        "  \r\n",
        "#Sub-divide the Room Horizontally\r\n",
        "  #Set up the Vector of wall locations we can have\r\n",
        "  xChoose = np.arange(oSize, xDim - (oSize))\r\n",
        "  #Reject Bad restriction values\r\n",
        "  xBad = xBad[xBad < (xDim - (oSize) -1)] \r\n",
        "  xBad = xBad[xBad >= 0]\r\n",
        "  #xBad Holds door locations we can't put walls there\r\n",
        "  xChoose = np.setdiff1d(xChoose, xBad)\r\n",
        "  #Make sure there are enough cells left to divide the room\r\n",
        "  if xChoose.size < minBox:\r\n",
        "    return (maze, np.ones((yDim,xDim)), np.ones((yDim,xDim)), 0)\r\n",
        "  #Choose 3 pts points with out replacement from the valid locations\r\n",
        "  xArray = np.sort(np.random.choice(xChoose, 3, False))\r\n",
        "\r\n",
        "#Sub-divide the Room Vertically\r\n",
        "  #Set up the Vector of wall locations we can have\r\n",
        "  yChoose = np.arange(oSize, yDim - (oSize))\r\n",
        "   #Reject Bad restriction values \r\n",
        "  yBad = yBad[yBad < (yDim - oSize - 1)]\r\n",
        "  yBad = yBad[yBad > 0]\r\n",
        "  #xBad Holds door locations we can't put walls there\r\n",
        "  yChoose = np.setdiff1d( yChoose, yBad)\r\n",
        "  #Make sure enough cells remain to pick Top Wall and Bottom\r\n",
        "  if yChoose.size < minBox:\r\n",
        "    return (maze, np.ones((yDim,xDim)), np.ones((yDim,xDim)), 0)\r\n",
        "  #Pick 3 Cells\r\n",
        "  yArray = np.sort(np.random.choice(yChoose, 3, False))\r\n",
        "\r\n",
        "#Add the walls to the 2D maze matrix\r\n",
        "  maze[:, xArray[1]] = 1 \r\n",
        "  maze[yArray[1], :] = 1\r\n",
        "\r\n",
        "#Pick 3 Doors to place (L,R,T,B)\r\n",
        "  exclude = np.random.randint(4)\r\n",
        "  #Left Horizontal\r\n",
        "  if exclude != 0:\r\n",
        "    maze[yArray[1], (xArray[0]-(oSize)):(xArray[0])] = 0 #Place Door\r\n",
        "    #If you add a hole then add it to the list of places where walls can't go\r\n",
        "    fL = np.append(xBad, np.arange((xArray[0]-(oSize)),(xArray[0])) )\r\n",
        "  else:\r\n",
        "    fL = xBad\r\n",
        "  #Right Horixontal\r\n",
        "  if exclude != 1:\r\n",
        "    maze[yArray[1], (xArray[2]):(xArray[2] + (oSize) )] = 0 #Place Door\r\n",
        "    #If you add a hole then add it to the list of places where walls can't go\r\n",
        "    fR = np.append(xBad - xArray[1] - 1, np.arange((xArray[2]),(xArray[2] + (oSize))) - (xArray[1]+1))\r\n",
        "  else:\r\n",
        "    fR = xBad - (xArray[1] + 1) #Allign index for next recusive call\r\n",
        "  #Top Vertical\r\n",
        "  if exclude != 2:\r\n",
        "    maze[(yArray[0] - (oSize)):yArray[0], xArray[1] ] = 0 #Place Door\r\n",
        "    #If you add a hole then add it to the list of places where walls can't go\r\n",
        "    fT = np.append(yBad, np.arange((yArray[0] - (oSize)),yArray[0]))\r\n",
        "  else:\r\n",
        "    fT = yBad\r\n",
        "  #Bottom Vertical\r\n",
        "  if exclude != 3:\r\n",
        "    maze[yArray[2]:(yArray[2] + (oSize)), xArray[1] ] = 0 #Place Door\r\n",
        "    #If you add a hole then add it to the list of places where walls can't go\r\n",
        "    fB = np.append(yBad - yArray[1] - 1, np.arange(yArray[2],(yArray[2] + (oSize))) - yArray[1] -1)\r\n",
        "  else:\r\n",
        "    fB = yBad - (yArray[1] + 1) #Allign index for next recusive call\r\n",
        "\r\n",
        "#Calcluate Properies for the new subcells\r\n",
        "  wL = xArray[1]\r\n",
        "  wR = xDim - xArray[1] -1\r\n",
        "  wT = yArray[1]\r\n",
        "  wB = yDim - yArray[1] -1\r\n",
        "  iL = np.arange(xArray[1]-1).astype(int)\r\n",
        "  iT = np.arange(yArray[1]-1).astype(int)\r\n",
        "  iR = np.arange((xArray[1]), xDim).astype(int)\r\n",
        "  iB = np.arange((yArray[1]),yDim).astype(int)\r\n",
        "#Run the Maze Program on each new sub cell\r\n",
        "  #Top left\r\n",
        "  (maze[0:(yArray[1]) , 0:((xArray[1]))],  a,  b, tyTL) = f_maze_recursive_division(wL, wT, oSize, minSize, rand, fL, fT)\r\n",
        "  #Top Right\r\n",
        "  (maze[0:(yArray[1]) , (xArray[1]+1):xDim], c, d, tyTR) = f_maze_recursive_division(wR, wT, oSize, minSize, rand, fR, fT)\r\n",
        "  #Bottom Left\r\n",
        "  (maze[(yArray[1]+1):yDim, 0:(xArray[1])], e, f, tyBL) = f_maze_recursive_division(wL, wB, oSize, minSize, rand, fL, fB)\r\n",
        "  #Bottom Right\r\n",
        "  (maze[(yArray[1]+1):yDim, (xArray[1]+1):xDim], g, h, tyBR) = f_maze_recursive_division(wR, wB, oSize, minSize, rand, fR, fB)\r\n",
        "  print((fL>0), (fL < wL - 1), (fL>0) & (fL < wL - 1), sum((fL>0) & (fL < wL - 1)))\r\n",
        "\r\n",
        "#Output the quadrants with the start and ends\r\n",
        "  dL = sum((fL>0) & (fL < wL ))\r\n",
        "  dR = sum((fR>0) & (fR < wR ))\r\n",
        "  dT = sum((fT>0) & (fT < wT)) \r\n",
        "  dB = sum((fB>0) & (fB < wB))\r\n",
        "  startS = np.zeros((yDim, xDim))\r\n",
        "  endS = np.zeros((yDim, xDim))\r\n",
        "  if exclude == 0:\r\n",
        "    startS[0:(yArray[1]) , 0:((xArray[1]))] = f_pick_zones(exclude, tyTL, fT[-1], a, b)\r\n",
        "    endS[(yArray[1]+1):yDim, 0:(xArray[1])] = f_pick_zones(exclude, tyBL, fB[-1], e, f)\r\n",
        "  if exclude == 1:\r\n",
        "    startS[0:(yArray[1]) , (xArray[1]+1):xDim] = f_pick_zones(exclude, tyTR, fT[-1], c, d)\r\n",
        "    endS[(yArray[1]+1):yDim, (xArray[1]+1):xDim] = f_pick_zones(exclude, tyBR, fB[-1], g, h)\r\n",
        "  if exclude == 2:\r\n",
        "    startS[0:(yArray[1]) , 0:((xArray[1]))] = f_pick_zones(exclude, tyTL, fL[-1], a, b)\r\n",
        "    endS[0:(yArray[1]) , (xArray[1]+1):xDim] = f_pick_zones(exclude, tyTR, fR[-1], c, d) \r\n",
        "  if exclude == 3:\r\n",
        "    startS[(yArray[1]+1):yDim, 0:(xArray[1])] = f_pick_zones(exclude, tyBL, fL[-1], e, f)\r\n",
        "    endS[(yArray[1]+1):yDim, (xArray[1]+1):xDim] = f_pick_zones(exclude, tyBR, fR[-1], g, h)\r\n",
        "\r\n",
        "  return (maze, startS, endS, exclude)"
      ],
      "execution_count": null,
      "outputs": []
    },
    {
      "cell_type": "code",
      "metadata": {
        "id": "987udPOiV-Rs"
      },
      "source": [
        "def f_maze_recursive_divistion_sv_ov(n, doorSize, extraCells, varryRoom = False, xBad = np.array([]), yBad = np.array([])):\n",
        "  #The bug is that the opening from the cell 2 many layers out is not tracked\n",
        "  mazeOut, sStates, eStates, exLast = f_maze_recursive_division(n, n, doorSize, extraCells, varryRoom, xBad, yBad)\n",
        "\n",
        "  #Reshape the maze into pathlist and obstacle list\n",
        "  Sarr = np.arange(n*n)\n",
        "  #get 1D array of states\n",
        "  walls = np.reshape(mazeOut, mazeOut.size, 'C')\n",
        "  #Array has 0s in \"bad\" and states indexed from 1\n",
        "  paths = (walls*-1 + 1)*(Sarr  + 1)\n",
        "  walls = walls*(Sarr + 1)\n",
        "  #State 1D arrays indexed from 0\n",
        "  wallStates = walls[walls > 0] - 1\n",
        "  pathStates = paths[paths > 0] - 1\n",
        "\n",
        "  #Get 1D list of possible starting states\n",
        "  startS = (np.reshape(sStates, sStates.size, 'C'))*(Sarr  + 1)\n",
        "  endS = (np.reshape(eStates, eStates.size, 'C'))*(Sarr  + 1)\n",
        "  validStart = np.setdiff1d(startS[startS > 0] - 1, wallStates)\n",
        "  validEnd = np.setdiff1d( endS[endS > 0] - 1, wallStates)\n",
        "  \n",
        "  # fig, ax = plt.subplots()\n",
        "  # im = ax.imshow(mazeOut+ sStates*1.5+ eStates*-.5+ np.random.rand(n,n)*.1)\n",
        "  \n",
        "  return wallStates, pathStates, validStart, validEnd"
      ],
      "execution_count": null,
      "outputs": []
    },
    {
      "cell_type": "code",
      "metadata": {
        "id": "19I5FfCYmkvP",
        "colab": {
          "base_uri": "https://localhost:8080/"
        },
        "outputId": "7a4a12eb-287d-43fb-b7dc-a2b5948387e6"
      },
      "source": [
        "#Generate matrix of obstacles in (y,x) coordinates[]\n",
        "import numpy as np\n",
        "import matplotlib.pyplot as plt\n",
        "\n",
        "wid = 30\n",
        "len = 30\n",
        "doorSize = 2\n",
        "smallestDim = 5 # #of non Door/non wall states in smallest dimension\n",
        "varryRoom = True # randomizes the size of the rooms between \n",
        "\n",
        "#The bug is that the opening from the cell 2 many layers out is not tracked\n",
        "[mazeOut, startPt, endPt, lastType] = f_maze_recursive_division(wid, len, doorSize, smallestDim, varryRoom)\n",
        "\n",
        "fig, ax = plt.subplots()\n",
        "im = ax.imshow(mazeOut+ startPt*1.5+ endPt*-.5+ np.random.rand(wid,len)*.1)\n",
        "fig.size = [10,10]"
      ],
      "execution_count": null,
      "outputs": [
        {
          "output_type": "stream",
          "text": [
            "[ True  True False  True] [ True False  True  True] [ True False False  True] 2\n",
            "[ True  True  True  True  True  True] [ True  True  True  True  True  True] [ True  True  True  True  True  True] 6\n",
            "[ True  True  True  True] [False False  True  True] [False False  True  True] 2\n",
            "[False  True] [ True  True] [False  True] 1\n"
          ],
          "name": "stdout"
        },
        {
          "output_type": "display_data",
          "data": {
            "image/png": "[encoded data removed]",
            "text/plain": [
              "<Figure size 432x288 with 1 Axes>"
            ]
          },
          "metadata": {
            "tags": [],
            "needs_background": "light"
          }
        }
      ]
    },
    {
      "cell_type": "code",
      "metadata": {
        "id": "YYijNNFs7An7",
        "colab": {
          "base_uri": "https://localhost:8080/"
        },
        "outputId": "eececcd4-1548-412a-e49f-4892ed3d149c"
      },
      "source": [
        "n = 25 # Board size\n",
        "p = 0.75 # Transition probability\n",
        "goalValue = 10\n",
        "\n",
        "N_states = n**2\n",
        "gamma = 0.95 # Discount factor\n",
        "H = 80 # Time horizon\n",
        "\n",
        "Rw = -1 # Reward for street\n",
        "\n",
        "n_r =  0 # Number of penalty states\n",
        "n_i = 1 # Number of goal states\n",
        "n_t = 0 # Number of trap states\n",
        "\n",
        "#Maze Parameters\n",
        "doorWidth = 1 #width of Bottlenecks\n",
        "extraPath = 0 #Number of extra cell width in rooms\n",
        "randomExtra = False #Randomize room size adds (0-extraPath) cells\n",
        "restrictedX = np.array([]) #Poke additional Holes in the first division Horizontal\n",
        "restrictedY = np.array([]) #Poke additional Holes in the first division Horizontal\n",
        "\n",
        "# Making our maze\n",
        "o_v, paths, lastroom, firstRoom = f_maze_recursive_divistion_sv_ov(n, doorWidth, extraPath, randomExtra, restrictedX, restrictedY)\n",
        "\n",
        "print(o_v)\n",
        "print(paths)\n",
        "\n",
        "\n",
        "n_r =  n # Number of penalty states\n",
        "n_i = 1 # Number of goal states\n",
        "n_t = 0 # Number of trap states\n",
        "\n",
        "#Ice cream vector\n",
        "i_v = np.random.choice(lastroom, size = n_i)\n",
        "#Rpts = reward values for each i_v\n",
        "Rpts = np.ones(n_i)*goalValue # Reward for goals\n",
        "#Road vector\n",
        "r_v = np.random.choice(paths,size=n_r) # Start at random state\n",
        "#Trap Vector\n",
        "t_v = np.random.choice(paths, size=n_t) # Start at random state\n",
        "# Reward for street\n",
        "Rw = -1\n",
        "print(n, n*n, i_v.size, Rpts.size)\n",
        "\n",
        "  #T = Transition Matrix\n",
        "  #Rw = reward for street r_v \n",
        "  #i_v = states where we have rewards (ice cream vector)\n",
        "  #r_v  = list of street states (road vector)\n",
        "  #Rpts = reward values for each i_v\n",
        "  #n = size of square\n",
        "# f_Grid_World(n,o_v,i_v,r_v,t_v,p,T,Rw,Rpts,H,gamma,s0,rand=0)\n",
        "\n",
        "s0 = 2 # Start at state 2\n",
        "gamma = 0.3 # Discount factor\n",
        "H = 10 # Time horizon\n",
        "\n",
        "# o_v = np.array([6,7,16,17]) # Array of obstacle states\n",
        "# i_v = np.array([12,22]) # Array of ice cream shop states\n",
        "# r_v = n*np.arange(n)+(n-1) # Array of road states\n",
        "# t_v = np.array([])\n",
        "# # t_v = r_v\n",
        "\n",
        "Rd = 2 # Reward for ice cream shop 1\n",
        "Rs = 5 # Reward for ice cream shop 2\n",
        "Rw = -1 # Reward for street\n",
        "Rpts = np.array((Rd,Rs)) # Array of ice cream points\n",
        "\n",
        "# f_Grid_World(n,o_v,i_v,r_v,t_v,p,T,Rw,Rpts,H,gamma,s0,rand=0)"
      ],
      "execution_count": null,
      "outputs": [
        {
          "output_type": "stream",
          "text": [
            "[False False] [ True  True] [False False] 0\n",
            "[False] [ True] [False] 0\n",
            "[ True False] [ True  True] [ True False] 1\n",
            "[ True] [ True] [ True] 1\n",
            "[ True] [ True] [ True] 1\n",
            "[False] [ True] [False] 0\n",
            "[ True  True] [False False] [False False] 0\n",
            "[ True False] [False  True] [False False] 0\n",
            "[ True  True] [ True  True] [ True  True] 2\n",
            "[ True] [ True] [ True] 1\n",
            "[ True] [ True] [ True] 1\n",
            "[  5.  15.  18.  22.  30.  36.  43.  47.  55.  61.  65.  68.  72.  76.\n",
            "  77.  78.  79.  80.  81.  82.  83.  85.  86.  90.  93.  95.  96.  97.\n",
            "  99. 108. 111. 112. 113. 114. 115. 117. 118. 122. 127. 130. 133. 136.\n",
            " 140. 143. 147. 151. 152. 154. 155. 157. 158. 160. 161. 168. 172. 177.\n",
            " 180. 186. 190. 193. 202. 205. 208. 211. 215. 222. 225. 226. 227. 228.\n",
            " 229. 230. 231. 232. 233. 234. 235. 236. 237. 239. 240. 241. 242. 243.\n",
            " 247. 268. 272. 286. 293. 297. 300. 301. 302. 304. 305. 306. 307. 308.\n",
            " 309. 310. 311. 312. 313. 314. 315. 316. 317. 318. 319. 320. 321. 322.\n",
            " 323. 324. 332. 336. 343. 347. 354. 357. 361. 368. 372. 375. 376. 377.\n",
            " 378. 379. 381. 382. 393. 397. 407. 411. 418. 422. 429. 432. 436. 443.\n",
            " 447. 454. 457. 459. 460. 461. 463. 464. 465. 466. 467. 468. 472. 479.\n",
            " 482. 486. 493. 497. 504. 507. 511. 522. 525. 526. 527. 529. 530. 531.\n",
            " 532. 533. 534. 535. 536. 537. 539. 540. 541. 542. 543. 547. 568. 569.\n",
            " 571. 572. 574. 582. 593. 607. 618. 622.]\n",
            "[  0.   1.   2.   3.   4.   6.   7.   8.   9.  10.  11.  12.  13.  14.\n",
            "  16.  17.  19.  20.  21.  23.  24.  25.  26.  27.  28.  29.  31.  32.\n",
            "  33.  34.  35.  37.  38.  39.  40.  41.  42.  44.  45.  46.  48.  49.\n",
            "  50.  51.  52.  53.  54.  56.  57.  58.  59.  60.  62.  63.  64.  66.\n",
            "  67.  69.  70.  71.  73.  74.  75.  84.  87.  88.  89.  91.  92.  94.\n",
            "  98. 100. 101. 102. 103. 104. 105. 106. 107. 109. 110. 116. 119. 120.\n",
            " 121. 123. 124. 125. 126. 128. 129. 131. 132. 134. 135. 137. 138. 139.\n",
            " 141. 142. 144. 145. 146. 148. 149. 150. 153. 156. 159. 162. 163. 164.\n",
            " 165. 166. 167. 169. 170. 171. 173. 174. 175. 176. 178. 179. 181. 182.\n",
            " 183. 184. 185. 187. 188. 189. 191. 192. 194. 195. 196. 197. 198. 199.\n",
            " 200. 201. 203. 204. 206. 207. 209. 210. 212. 213. 214. 216. 217. 218.\n",
            " 219. 220. 221. 223. 224. 238. 244. 245. 246. 248. 249. 250. 251. 252.\n",
            " 253. 254. 255. 256. 257. 258. 259. 260. 261. 262. 263. 264. 265. 266.\n",
            " 267. 269. 270. 271. 273. 274. 275. 276. 277. 278. 279. 280. 281. 282.\n",
            " 283. 284. 285. 287. 288. 289. 290. 291. 292. 294. 295. 296. 298. 299.\n",
            " 303. 325. 326. 327. 328. 329. 330. 331. 333. 334. 335. 337. 338. 339.\n",
            " 340. 341. 342. 344. 345. 346. 348. 349. 350. 351. 352. 353. 355. 356.\n",
            " 358. 359. 360. 362. 363. 364. 365. 366. 367. 369. 370. 371. 373. 374.\n",
            " 380. 383. 384. 385. 386. 387. 388. 389. 390. 391. 392. 394. 395. 396.\n",
            " 398. 399. 400. 401. 402. 403. 404. 405. 406. 408. 409. 410. 412. 413.\n",
            " 414. 415. 416. 417. 419. 420. 421. 423. 424. 425. 426. 427. 428. 430.\n",
            " 431. 433. 434. 435. 437. 438. 439. 440. 441. 442. 444. 445. 446. 448.\n",
            " 449. 450. 451. 452. 453. 455. 456. 458. 462. 469. 470. 471. 473. 474.\n",
            " 475. 476. 477. 478. 480. 481. 483. 484. 485. 487. 488. 489. 490. 491.\n",
            " 492. 494. 495. 496. 498. 499. 500. 501. 502. 503. 505. 506. 508. 509.\n",
            " 510. 512. 513. 514. 515. 516. 517. 518. 519. 520. 521. 523. 524. 528.\n",
            " 538. 544. 545. 546. 548. 549. 550. 551. 552. 553. 554. 555. 556. 557.\n",
            " 558. 559. 560. 561. 562. 563. 564. 565. 566. 567. 570. 573. 575. 576.\n",
            " 577. 578. 579. 580. 581. 583. 584. 585. 586. 587. 588. 589. 590. 591.\n",
            " 592. 594. 595. 596. 597. 598. 599. 600. 601. 602. 603. 604. 605. 606.\n",
            " 608. 609. 610. 611. 612. 613. 614. 615. 616. 617. 619. 620. 621. 623.\n",
            " 624.]\n",
            "25 625 1 1\n"
          ],
          "name": "stdout"
        }
      ]
    },
    {
      "cell_type": "markdown",
      "metadata": {
        "id": "7Rvxy26zhLcm"
      },
      "source": [
        "## Multi Path Maze"
      ]
    },
    {
      "cell_type": "code",
      "metadata": {
        "id": "9RdU20WVhT7I"
      },
      "source": [
        "def f_pick_zones(outerType, innerType, door, s1, s2):\r\n",
        "#This code picks the zone furthest from the opening\r\n",
        "#Type numbers here represent missing doors in  0-Left, 1Right, 2-Top, 4-Bottom \r\n",
        "#outerType: excluded # for the outer cell no door\r\n",
        "#innerType: excluded # for the inner cell no door\r\n",
        "#door: index of door\r\n",
        "#s1: Starting zone (L-R, T-B)\r\n",
        "#s2: ending zone\r\n",
        "  horFlags = np.sum(s1,0)\r\n",
        "  vertFlags = np.sum(s1,1)\r\n",
        "  door = int(door)\r\n",
        "\r\n",
        "  #entering from the Right side \r\n",
        "  if outerType == 0:\r\n",
        "    #if Vertical go with the start\r\n",
        "    if innerType >= 2:\r\n",
        "      return s1\r\n",
        "    else:\r\n",
        "      if vertFlags[door] == 0:\r\n",
        "        return s1\r\n",
        "      else:\r\n",
        "        return s2\r\n",
        "    #entering from the Left side \r\n",
        "  if outerType == 1:\r\n",
        "    #if Vertical go with the start\r\n",
        "    if innerType >= 2:\r\n",
        "      return s2\r\n",
        "    else:\r\n",
        "      if vertFlags[door] == 0:\r\n",
        "        return s1\r\n",
        "      else:\r\n",
        "        return s2\r\n",
        "  #entering from the bottom\r\n",
        "  if outerType == 2:\r\n",
        "    #Horizontal Divider\r\n",
        "    if innerType <= 1:\r\n",
        "      return s1\r\n",
        "    else:\r\n",
        "      #Check if there is a 1 in the vertical door column\r\n",
        "      if horFlags[door] == 0:\r\n",
        "        return s1\r\n",
        "      else:\r\n",
        "        return s2\r\n",
        "  #Entering from the Top\r\n",
        "  if outerType == 3:\r\n",
        "    #Horizontal Divider\r\n",
        "    if innerType <= 1:\r\n",
        "      return s2\r\n",
        "    else:\r\n",
        "      #Check if there is a 1 in the vertical door column\r\n",
        "      if horFlags[door] == 0:\r\n",
        "        return s1\r\n",
        "      else:\r\n",
        "        return s2\r\n",
        "\r\n",
        "  #If none of these pick randomly\r\n",
        "  pick = np.randomchoice(1)\r\n",
        "  if pick == 0:\r\n",
        "    return s1\r\n",
        "  else:\r\n",
        "    return s2\r\n"
      ],
      "execution_count": null,
      "outputs": []
    },
    {
      "cell_type": "code",
      "metadata": {
        "id": "HJJChpjThXSY"
      },
      "source": [
        "\n",
        "import numpy as np\n",
        "def f_maze_recursive_division_MULTI(xDim, yDim, count = 0, split = 0, oSize = 1, minSize = 0, rand = True, xBad = np.array([]), yBad = np.array([])):\n",
        "#xDim: int size in x of maze to be generated\n",
        "#yDim: (int) size in y\n",
        "#count: number of recursion layers deep the code is\n",
        "#split: Control for creating multiple paths: 0=>1path, (-n)random splits, (+n) = period of split\n",
        "#oSize: (int) how big in states are the doors\n",
        "#minSize: (int) How much bigger than the min size should the rooms be?\n",
        "#rand: (bool) Do you want to randomize the room sizes?\n",
        "#xBad: array states that cannot be chosen for wall placement in X\n",
        "#yBad: array of states that cannot be chosen for wall placement in Y\n",
        "\n",
        "  # print('xBad: ', xBad)\n",
        "  # print('yBad: ', yBad)\n",
        "#Maze is a 2D matrix 0 = path 1 = wall\n",
        "  maze = np.zeros((yDim,xDim))\n",
        "#Validate the opening size\n",
        "  if oSize < 1:\n",
        "    oSize = 1\n",
        "\n",
        "#Change Minimum Required VALID Cells\n",
        "  if rand == True and minSize > 0:\n",
        "    minBox = np.random.randint(3,minSize+3)\n",
        "  else:\n",
        "    minBox = 3\n",
        "\n",
        "#Sub-divide the Room Horizontally\n",
        "  #Set up the Vector of wall locations we can have\n",
        "  xChoose = np.arange(oSize, xDim - (oSize))\n",
        "  #Reject Bad restriction values\n",
        "  xBad = xBad[xBad < (xDim - (oSize) -1)] \n",
        "  xBad = xBad[xBad >= 0]\n",
        "  #xBad Holds door locations we can't put walls there\n",
        "  xChoose = np.setdiff1d(xChoose, xBad)\n",
        "  #Make sure there are enough cells left to divide the room\n",
        "  if xChoose.size < minBox:\n",
        "    return (maze, np.ones((yDim,xDim)), np.ones((yDim,xDim)), 0)\n",
        "  #Choose 3 pts points with out replacement from the valid locations\n",
        "  xArray = np.sort(np.random.choice(xChoose, 3, False))\n",
        "\n",
        "#Sub-divide the Room Vertically\n",
        "  #Set up the Vector of wall locations we can have\n",
        "  yChoose = np.arange(oSize, yDim - (oSize))\n",
        "   #Reject Bad restriction values \n",
        "  yBad = yBad[yBad < (yDim - oSize - 1)]\n",
        "  yBad = yBad[yBad > 0]\n",
        "  #xBad Holds door locations we can't put walls there\n",
        "  yChoose = np.setdiff1d( yChoose, yBad)\n",
        "  #Make sure enough cells remain to pick Top Wall and Bottom\n",
        "  if yChoose.size < minBox:\n",
        "    return (maze, np.ones((yDim,xDim)), np.ones((yDim,xDim)), 0)\n",
        "  #Pick 3 Cells\n",
        "  yArray = np.sort(np.random.choice(yChoose, 3, False))\n",
        "\n",
        "#Add the walls to the 2D maze matrix\n",
        "  maze[:, xArray[1]] = 1 \n",
        "  maze[yArray[1], :] = 1\n",
        "\n",
        "#Pick 3 Doors to place (L,R,T,B)\n",
        "  exclude = np.random.randint(4)\n",
        "  #either punch holes randomly or with frequency\n",
        "  if split != 0:\n",
        "    count = count + 1\n",
        "    if np.mod(count, split) == 0:\n",
        "      exclude = 4\n",
        "    if split < 0 and count > 1:\n",
        "      p = np.ones(5)\n",
        "      p[0:4] = p[0:4]*(1+split)/4\n",
        "      p[4] = abs(split)\n",
        "      c = np.arange(5)\n",
        "      exclude = np.random.choice(c,1,[],p)\n",
        "\n",
        "  #Left Horizontal\n",
        "  if exclude != 0:\n",
        "    maze[yArray[1], (xArray[0]-(oSize)):(xArray[0])] = 0 #Place Door\n",
        "    #If you add a hole then add it to the list of places where walls can't go\n",
        "    fL = np.append(xBad, np.arange((xArray[0]-(oSize)),(xArray[0])) )\n",
        "  else:\n",
        "    fL = xBad\n",
        "  #Right Horixontal\n",
        "  if exclude != 1:\n",
        "    maze[yArray[1], (xArray[2]):(xArray[2] + (oSize) )] = 0 #Place Door\n",
        "    #If you add a hole then add it to the list of places where walls can't go\n",
        "    fR = np.append(xBad - xArray[1] - 1, np.arange((xArray[2]),(xArray[2] + (oSize))) - (xArray[1]+1))\n",
        "  else:\n",
        "    fR = xBad - (xArray[1] + 1) #Allign index for next recusive call\n",
        "  #Top Vertical\n",
        "  if exclude != 2:\n",
        "    maze[(yArray[0] - (oSize)):yArray[0], xArray[1] ] = 0 #Place Door\n",
        "    #If you add a hole then add it to the list of places where walls can't go\n",
        "    fT = np.append(yBad, np.arange((yArray[0] - (oSize)),yArray[0]))\n",
        "  else:\n",
        "    fT = yBad\n",
        "  #Bottom Vertical\n",
        "  if exclude != 3:\n",
        "    maze[yArray[2]:(yArray[2] + (oSize)), xArray[1] ] = 0 #Place Door\n",
        "    #If you add a hole then add it to the list of places where walls can't go\n",
        "    fB = np.append(yBad - yArray[1] - 1, np.arange(yArray[2],(yArray[2] + (oSize))) - yArray[1] -1)\n",
        "  else:\n",
        "    fB = yBad - (yArray[1] + 1) #Allign index for next recusive call\n",
        "\n",
        "  wL = xArray[1]\n",
        "  wR = xDim - xArray[1] -1\n",
        "  wT = yArray[1]\n",
        "  wB = yDim - yArray[1] -1\n",
        "  iL = np.arange(xArray[1]-1).astype(int)\n",
        "  iT = np.arange(yArray[1]-1).astype(int)\n",
        "  iR = np.arange((xArray[1]), xDim).astype(int)\n",
        "  iB = np.arange((yArray[1]),yDim).astype(int)\n",
        "#Run the Maze Program on each newly created room\n",
        "  #Top left\n",
        "  (maze[0:(yArray[1]) , 0:((xArray[1]))],  a,  b, tyTL) = f_maze_recursive_division_MULTI(wL, wT, count, split, oSize, minSize, rand, fL, fT)\n",
        "  #Top Right\n",
        "  (maze[0:(yArray[1]) , (xArray[1]+1):xDim], c, d, tyTR) = f_maze_recursive_division_MULTI(wR, wT, count, split, oSize, minSize, rand, fR, fT)\n",
        "  #Bottom Left\n",
        "  (maze[(yArray[1]+1):yDim, 0:(xArray[1])], e, f, tyBL) = f_maze_recursive_division_MULTI(wL, wB, count, split, oSize, minSize, rand, fL, fB)\n",
        "  #Bottom Right\n",
        "  (maze[(yArray[1]+1):yDim, (xArray[1]+1):xDim], g, h, tyBR) = f_maze_recursive_division_MULTI(wR, wB, count, split, oSize, minSize, rand, fR, fB)\n",
        "  # print((fL>0), (fL < wL - 1), (fL>0) & (fL < wL - 1), sum((fL>0) & (fL < wL - 1)))\n",
        "  # print('xDim: ', xDim,' yDim: ', yDim)\n",
        "  # print('wL: ', wL, ' wR: ', wR, ' wT: ', wT, 'wB:', wB)\n",
        "  # print('a=', a)\n",
        "  # print('\\nb=', b)\n",
        "  # print('\\nc=', c)\n",
        "  # print('\\nd=', d)\n",
        "  # print('\\ne=', e)\n",
        "  # print('\\nf=', f)\n",
        "  # print('\\ng=', g)\n",
        "  # print('\\nh=', h, '\\n\\n')\n",
        "#Output the quadrants with the start and ends\n",
        "  dL = sum((fL>0) & (fL < wL ))\n",
        "  dR = sum((fR>0) & (fR < wR ))\n",
        "  dT = sum((fT>0) & (fT < wT)) \n",
        "  dB = sum((fB>0) & (fB < wB))\n",
        "  startS = np.zeros((yDim, xDim))\n",
        "  endS = np.zeros((yDim, xDim))    \n",
        " \n",
        "  if exclude == 0:\n",
        "    startS[0:(yArray[1]) , 0:((xArray[1]))] = f_pick_zones(exclude, tyTL, fT[-1], a, b)\n",
        "    endS[(yArray[1]+1):yDim, 0:(xArray[1])] = f_pick_zones(exclude, tyBL, fB[-1], e, f)\n",
        "  if exclude == 1:\n",
        "    startS[0:(yArray[1]) , (xArray[1]+1):xDim] = f_pick_zones(exclude, tyTR, fT[-1], c, d)\n",
        "    endS[(yArray[1]+1):yDim, (xArray[1]+1):xDim] = f_pick_zones(exclude, tyBR, fB[-1], g, h)\n",
        "  if exclude == 2:\n",
        "    startS[0:(yArray[1]) , 0:((xArray[1]))] = f_pick_zones(exclude, tyTL, fL[-1], a, b)\n",
        "    endS[0:(yArray[1]) , (xArray[1]+1):xDim] = f_pick_zones(exclude, tyTR, fR[-1], c, d) \n",
        "  if exclude == 3:\n",
        "    startS[(yArray[1]+1):yDim, 0:(xArray[1])] = f_pick_zones(exclude, tyBL, fL[-1], e, f)\n",
        "    endS[(yArray[1]+1):yDim, (xArray[1]+1):xDim] = f_pick_zones(exclude, tyBR, fR[-1], g, h)\n",
        "  if exclude == 4: #Pick the one\n",
        "    startS[0:(yArray[1]) , 0:((xArray[1]))] =  a\n",
        "    endS[(yArray[1]+1):yDim, (xArray[1]+1):xDim] = h\n",
        "\n",
        "  return (maze, startS, endS, exclude)"
      ],
      "execution_count": null,
      "outputs": []
    },
    {
      "cell_type": "code",
      "metadata": {
        "id": "GxVwS7PWhaOu",
        "colab": {
          "base_uri": "https://localhost:8080/",
          "height": 264
        },
        "outputId": "e44f887c-b50f-40b2-a999-4111fa2a814b"
      },
      "source": [
        "#Generate matrix of obstacles in (y,x) coordinates[]\n",
        "import numpy as np\n",
        "import matplotlib.pyplot as plt\n",
        "\n",
        "wid = 20\n",
        "len = 20\n",
        "doorSize = 0\n",
        "smallestDim = 0 # #of non Door/non wall states in smallest dimension\n",
        "varryRoom = False # randomizes the size of the rooms between \n",
        "layerR    = -1 #Start at the 0th point in the cycle\n",
        "splitPeriod = 2 #(-) randomly w/ frequency, (0) never, (+n) with period n\n",
        "\n",
        "#The bug is that the opening from the cell 2 many layers out is not tracked\n",
        "[mazeOut, startPt, endPt, lastType] = f_maze_recursive_division_MULTI(wid, len, layerR, splitPeriod, doorSize, smallestDim, varryRoom)\n",
        "\n",
        "fig, ax = plt.subplots()\n",
        "im = ax.imshow(mazeOut+ startPt*1.5+ endPt*-.5)\n",
        "\n",
        "# fig, ax = plt.subplots()\n",
        "# im = ax.imshow(startPt*1.5)\n",
        "\n",
        "# fig, ax = plt.subplots()\n",
        "# im = ax.imshow(endPt*1.5)"
      ],
      "execution_count": null,
      "outputs": [
        {
          "output_type": "display_data",
          "data": {
            "image/png": "[encoded data removed]",
            "text/plain": [
              "<Figure size 432x288 with 1 Axes>"
            ]
          },
          "metadata": {
            "tags": [],
            "needs_background": "light"
          }
        }
      ]
    },
    {
      "cell_type": "code",
      "metadata": {
        "id": "KgX581i6zNBS"
      },
      "source": [
        "def f_maze_recursive_divistion_sv_MULTI(n, rLayers = 0, splitControl = 0, doorSize = 1, extraCells = 0, varryRoom = False,  xBad = np.array([]), yBad = np.array([])):\n",
        "#n: int size of suqare maze to be generated\n",
        "#rLayers: number of recursion layers deep the code is\n",
        "#splitControl: Control for creating multiple paths: 0=>1path, (-n)random splits, (+n) = period of split\n",
        "#doorSize: (int) how big in states are the doors\n",
        "#extraCells: (int) How much bigger than the min size should the rooms be?\n",
        "#varryRoom: (bool) Do you want to randomize the room sizes?\n",
        "#xBad: array states that cannot be chosen for wall placement in X\n",
        "#yBad: array of states that cannot be chosen for wall placement in Y\n",
        "\n",
        "#Generate the Maze\n",
        "  mazeOut, sStates, eStates, exLast = f_maze_recursive_division_MULTI(n, n, rLayers, splitControl, doorSize, extraCells, varryRoom, xBad, yBad)\n",
        "\n",
        "  #Reshape the maze into pathlist and obstacle list\n",
        "  Sarr = np.arange(n*n)\n",
        "  #get 1D array of states\n",
        "  walls = np.reshape(mazeOut, mazeOut.size, 'C')\n",
        "  #Array has 0s in \"bad\" and states indexed from 1\n",
        "  paths = (walls*-1 + 1)*(Sarr  + 1)\n",
        "  walls = walls*(Sarr + 1)\n",
        "  #State 1D arrays indexed from 0\n",
        "  wallStates = walls[walls > 0] - 1\n",
        "  pathStates = paths[paths > 0] - 1\n",
        "  wallStates = wallStates.astype(int)\n",
        "  pathStates = pathStates.astype(int)\n",
        "\n",
        "  #Get 1D list of possible starting states\n",
        "  startS = (np.reshape(sStates, sStates.size, 'C'))*(Sarr  + 1)\n",
        "  endS = (np.reshape(eStates, eStates.size, 'C'))*(Sarr  + 1)\n",
        "  validStart = np.setdiff1d(startS[startS > 0] - 1, wallStates).astype(int)\n",
        "  validEnd = np.setdiff1d( endS[endS > 0] - 1, wallStates).astype(int)\n",
        "    \n",
        "  return wallStates, pathStates, validStart, validEnd"
      ],
      "execution_count": null,
      "outputs": []
    },
    {
      "cell_type": "code",
      "metadata": {
        "id": "1C5Xtynmh9yH"
      },
      "source": [
        "#Create Maze State Vectors\n",
        "n = 25 # Board size\n",
        "\n",
        "#Maze Parameters\n",
        "layerR    = 0 #Start at the 0th point in the cycle\n",
        "splitPeriod = 2 #(-) randomly, (0) never, (+n) with period n\n",
        "doorWidth = 2 #width of Bottlenecks\n",
        "extraPath = 0 #Number of extra cell width in rooms\n",
        "randomExtra = True #Randomize room size adds (0-extraPath) cells\n",
        "restrictedX = np.array([]) #Poke additional Holes in the first division Horizontal\n",
        "restrictedY = np.array([]) #Poke additional Holes in the first division Horizontal\n",
        "\n",
        "# Making our maze\n",
        "o_v, paths, lastroom, firstRoom = f_maze_recursive_divistion_sv_MULTI(n, layerR, splitPeriod, doorWidth, extraPath, randomExtra, restrictedX, restrictedY)"
      ],
      "execution_count": null,
      "outputs": []
    },
    {
      "cell_type": "code",
      "metadata": {
        "id": "ZZyjF4lyFDA6",
        "colab": {
          "base_uri": "https://localhost:8080/",
          "height": 521
        },
        "outputId": "03dcaee5-9636-4cd2-e6d7-ffe866a03208"
      },
      "source": [
        "#Requires you to run the RRT & RRT* section\n",
        "i_v = np.array([np.random.choice(lastroom)])\n",
        "s0 = np.random.choice(firstRoom)\n",
        "\n",
        "poss_states = np.setdiff1d(np.arange(n**2),np.append(np.append(o_v,i_v),s0))\n",
        "t_v = np.array([])\n",
        "r_v = np.array([])\n",
        "f_Plot_gopts(i_v,o_v,r_v,t_v,n)\n",
        "\n",
        "r_v = np.random.choice(poss_states,n)\n",
        "f_Plot_gopts(i_v,o_v,r_v,t_v,n)"
      ],
      "execution_count": null,
      "outputs": [
        {
          "output_type": "display_data",
          "data": {
            "image/png": "[encoded data removed]",
            "text/plain": [
              "<Figure size 432x288 with 1 Axes>"
            ]
          },
          "metadata": {
            "tags": [],
            "needs_background": "light"
          }
        },
        {
          "output_type": "display_data",
          "data": {
            "image/png": "[encoded data removed]",
            "text/plain": [
              "<Figure size 432x288 with 1 Axes>"
            ]
          },
          "metadata": {
            "tags": [],
            "needs_background": "light"
          }
        }
      ]
    },
    {
      "cell_type": "markdown",
      "metadata": {
        "id": "YG2Pux11usH1"
      },
      "source": [
        "Map Sweep Sample"
      ]
    },
    {
      "cell_type": "code",
      "metadata": {
        "id": "4um75h-9uqCg"
      },
      "source": [
        "# n_epoch = 50 # Number of episodes in an epoch\r\n",
        "# tol = 2 # Break when loss < tol\r\n",
        "# Rw = -1 # Reward for street\r\n",
        "# # n_o = 0 # Number of obstacle states\r\n",
        "# # n_r = 0 # Number of penalty states\r\n",
        "# # n_i = 1 # Number of goal states\r\n",
        "# # n_t = 0 # Number of trap states\r\n",
        "# alpha = 0.4 # Learning rate\r\n",
        "# N_a = 5 # Number of actions\r\n",
        "# eps = 0.4 # Epsilon-greedy parameter\r\n",
        "# gamma = 0.9 # Reward discount rate\r\n",
        "# N_e = 4000000 # Number of episodes\r\n",
        "# R_tg = np.r_[100]\r\n",
        "# R_node = np.r_[2]\r\n",
        "# p1 = 0.9 # Transition probability\r\n",
        "# Static_node_dist = 7 # Tolerance or max distance allowed for a proposed node\r\n",
        "# H = 200\r\n",
        "# global No_iterations\r\n",
        "# No_iterations=0\r\n",
        "# total_trails = 20\r\n",
        "# it_trails_RRT = 0 #np.zeros(total_trails*len(n_sweep))\r\n",
        "# it_trails = 0\r\n",
        "# time_trails = 0\r\n",
        "# maze_order = [1]\r\n",
        "\r\n",
        "# for maps in maze_order:\r\n",
        "#   r_v = []\r\n",
        "#   t_v = []\r\n",
        "#   o_v = all_o_v[maps,:]\r\n",
        "#   o_v = np.delete(o_v,np.where(o_v==-100))\r\n",
        "#   s0 = all_s0[maps]\r\n",
        "#   n = all_n[maps]\r\n",
        "#   i_v = np.atleast_2d(all_i_v[maps])\r\n",
        "#   f_Plot_gopts(i_v,o_v,r_v,t_v,n)\r\n",
        "#   N_s = n**2 # Number of states\r\n",
        "#   S = np.arange(N_s) # Set of possible states\r\n",
        "#   N_t = N_s # Number of actions in trajectory\r\n",
        "#   Max_Nodes = int(N_s)\r\n",
        "#   T = f_Transition_Probability_Matrix(n,o_v,i_v,r_v,t_v,p=p1) # Transition matrix\r\n",
        "  \r\n",
        "#   for trials_no in np.arange(total_trails):\r\n",
        "#     print('Starting trail '+str(trials_no)+' of '+str(total_trails-1)+' for map '+str(maps))\r\n",
        "#     tic = time.clock()\r\n",
        "#     No_iterations=0\r\n",
        "#     Connection_M,Location_Matrix,Q_Matrix,Q_A_Matrix,sgoal = RRT_Q_2_Goal_w_Guassian(n,N_a,p1,alpha,eps,gamma,N_e,N_t,n_epoch,tol,s0,o_v,i_v,r_v,t_v,R_tg,R_node,Max_Nodes,Static_node_dist,H,stop_at_goal_vis=0,path_im=1,debugging=1)\r\n",
        "#     toc = time.clock()\r\n",
        "#     print('Time for RRT: '+str(toc-tic))\r\n",
        "#     print('Number of random steps(Only RRT): '+str(No_iterations))\r\n",
        "#     if np.sum(it_trails_RRT) == 0:\r\n",
        "#       it_trails_RRT = No_iterations\r\n",
        "#     else:\r\n",
        "#       it_trails_RRT = np.append(it_trails_RRT,No_iterations)\r\n",
        "\r\n",
        "#     if sgoal is None:\r\n",
        "#         Exception(\"RRT did not find goal...\")\r\n",
        "\r\n",
        "\r\n",
        "#     Rpts = np.r_[100]\r\n",
        "#     R = f_Reward_Matrix(T,Rw,i_v,r_v,Rpts,n) # Reward matrix\r\n",
        "\r\n",
        "\r\n",
        "#     # fix length 1 path matrix\r\n",
        "#     n_nodes = Location_Matrix.shape[1]\r\n",
        "#     m = Connection_M[:n_nodes,:n_nodes] # take only the nodes we used\r\n",
        "#     m = np.where(m > 0, 1, 0) # convert to binary indexing variable\r\n",
        "\r\n",
        "#     # generate path matrices to connect first point to sgoal\r\n",
        "#     m_all = f_Build_Path_Matrices(m, 0, sgoal)\r\n",
        "#     path_length = m_all.shape[2]\r\n",
        "\r\n",
        "#     # find path node indices\r\n",
        "#     p_v_m = f_Path_Backup(m_all, 0, sgoal, path_length)\r\n",
        "#     p_coords = Location_Matrix[:,p_v_m]\r\n",
        "#     p_v = f_Position_to_State(p_coords, n)\r\n",
        "#     print('path node indices (in graph):', p_v_m)\r\n",
        "#     print('path node indices (as states):', p_v)\r\n",
        "#     print('path node coordinates:')\r\n",
        "#     print(p_coords)\r\n",
        "\r\n",
        "#     # Q-learning backing up along path\r\n",
        "#     # Q_v = np.random.rand(N_s, N_a)\r\n",
        "#     node_b_goal = np.where(m[:,-1]==1)[0][0]\r\n",
        "#     Q_v = np.reshape(Q_Matrix[node_b_goal,:,sgoal],[N_s, N_a])\r\n",
        "\r\n",
        "#     i = 1 # start at second to last node, last node is goal\r\n",
        "#     while i < np.shape(p_v)[0]:\r\n",
        "        \r\n",
        "#       # run Q-learning from path node to final goal, initialized with previously found Q_v\r\n",
        "#       s0 = f_Position_to_State(p_coords[:,-(i+1)], n)\r\n",
        "#       Q, V_Q, A_Q, dQ_norm_v = f_Q_Learning(n, N_s, N_a, N_e, N_t, s0, alpha, eps, gamma, S, T, R, n_epoch, tol, rand_start=0, Q_v=Q_v)\r\n",
        "        \r\n",
        "#       # update Q_v\r\n",
        "#       Q_v = Q.reshape(N_s, N_a)\r\n",
        "#       # print(m)\r\n",
        "#       # print(np.where(m[:,-1]==1)[0][0])\r\n",
        "\r\n",
        "#       # simulate system and plot results\r\n",
        "#       s_v = f_Simulate(o_v, t_v, n, H, s0, A_Q, p1, rand=0)\r\n",
        "#       # f_Plot_board(s_v, i_v, o_v, r_v, p_v[-(i+1):], n) # there are no trap states, so plot path nodes instead of traps\r\n",
        "        \r\n",
        "#       # if reached goal, back up the chain\r\n",
        "#       if s_v[-1] == i_v[0]:\r\n",
        "#         i += 1\r\n",
        "\r\n",
        "#     toc = time.clock()\r\n",
        "#     if np.sum(it_trails)==0:\r\n",
        "#       it_trails = No_iterations\r\n",
        "#       time_trails = toc-tic\r\n",
        "#     else:\r\n",
        "#       it_trails = np.append(it_trails,No_iterations)\r\n",
        "#       time_trails = np.append(time_trails,toc-tic)\r\n",
        "#     print('Time in seconds: '+str(toc-tic))\r\n",
        "#     print('Total number of random walk steps: '+str(No_iterations))\r\n",
        "      \r\n",
        "\r\n",
        "\r\n",
        "\r\n"
      ],
      "execution_count": null,
      "outputs": []
    }
  ]
}