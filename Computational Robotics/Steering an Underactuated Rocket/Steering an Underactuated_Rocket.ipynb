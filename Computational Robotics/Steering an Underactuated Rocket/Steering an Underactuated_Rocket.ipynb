{
  "nbformat": 4,
  "nbformat_minor": 0,
  "metadata": {
    "kernelspec": {
      "display_name": "Python 3",
      "language": "python",
      "name": "python3"
    },
    "language_info": {
      "codemirror_mode": {
        "name": "ipython",
        "version": 3
      },
      "file_extension": ".py",
      "mimetype": "text/x-python",
      "name": "python",
      "nbconvert_exporter": "python",
      "pygments_lexer": "ipython3",
      "version": "3.7.4"
    },
    "colab": {
      "name": "Underactuated Rocket.ipynb",
      "provenance": [],
      "collapsed_sections": []
    }
  },
  "cells": [
    {
      "cell_type": "markdown",
      "metadata": {
        "id": "-oO2fheuTVJq"
      },
      "source": [
        "Consider a rocket constrained to an environment (operational space) that is a vertical 2D slice through the world (i.e. coordinate axes left-right, up-down; gravity always points down). The rocket body B produces a noisy thrust force F along its own axis, but has an off-center control mass C to be used for control.\n",
        "\n",
        "That is, the rocket consists of a rigid body mB and a point mass mC separated by a time varying vector d0 + r(t)d1 from the center of mass of B (in the B reference frame). It also produces a force F + w(t) in the B reference frame, where w is the unknown disturbance. The configuration state variable r(t) is limited to the range [−1, 1], and the single DOF input u(t) controls the acceleration (second derivative) of r(t): r''(t) = u(t). Mathematically formulate this system, and simulate / visualize it’s behavior through the 2D\n",
        "(3DOF) operational space."
      ]
    },
    {
      "cell_type": "code",
      "metadata": {
        "id": "fk7S8se96YZd"
      },
      "source": [
        "# Imports\n",
        "import numpy as np\n",
        "\n",
        "import matplotlib.pyplot as plt\n",
        "from pylab import rcParams\n",
        "import matplotlib\n",
        "matplotlib.rcParams.update({'font.size':16})"
      ],
      "execution_count": 3,
      "outputs": []
    },
    {
      "cell_type": "code",
      "metadata": {
        "id": "nccr2Myy6YZh"
      },
      "source": [
        "# Time constants\n",
        "t0 = 0 # Start time\n",
        "tf = 100 # End time\n",
        "dt = 0.001 # Time step (in diff. eq. solver)\n",
        "length = int(tf/dt)+1 # Number of steps in time interval\n",
        "tvec = np.linspace(0,tf,length)\n",
        "\n",
        "# Constants\n",
        "mB = 10\n",
        "mC = 0.1\n",
        "g = 9.8\n",
        "F = 5*g*(mB + mC)\n",
        "d0 = 1\n",
        "d1 = 1/25\n",
        "\n",
        "I0 = (mB*mC/(mB + mC)) * (d0**2)\n",
        "\n",
        "# Control inputs:\n",
        "theta1_t = 5*(2*np.pi/360) # Offset in radians\n",
        "theta2_t = 0\n",
        "r2_t = 0\n",
        "\n",
        "kP_theta = I0/2\n",
        "# kD_theta = kP_theta/4\n",
        "kD_theta = 0.35\n",
        "kP_r = 2\n",
        "# kD_r = kP_r/4\n",
        "kD_r = 0.5"
      ],
      "execution_count": 16,
      "outputs": []
    },
    {
      "cell_type": "code",
      "metadata": {
        "id": "__s24E7h6YZj"
      },
      "source": [
        "# Solving the equations of motion\n",
        "i = 0 # Iteration counter\n",
        "ti = t0 # Time counter\n",
        "\n",
        "# Initializations\n",
        "x1 = np.zeros((length))\n",
        "x2 = np.zeros((length))\n",
        "y1 = np.zeros((length))\n",
        "y2 = np.zeros((length))\n",
        "theta1 = np.zeros((length))\n",
        "theta2 = np.zeros((length))\n",
        "r1 = np.zeros((length))\n",
        "r2 = np.zeros((length))\n",
        "u = np.zeros((length))\n",
        "\n",
        "# Initializations\n",
        "x1_p = np.zeros((length))\n",
        "x2_p = np.zeros((length))\n",
        "y1_p = np.zeros((length))\n",
        "y2_p = np.zeros((length))\n",
        "theta1_p = np.zeros((length))\n",
        "theta2_p = np.zeros((length))\n",
        "r1_p = np.zeros((length))\n",
        "r2_p = np.zeros((length))\n",
        "\n",
        "# Iterate over time interval\n",
        "# Since we compute the (i+1)th outputs at state i, stop one step early.\n",
        "for ti in tvec[0:-1]:\n",
        "\n",
        "    # Add noise to the thrust:\n",
        "    w = np.random.normal(0,F/10) # Gaussian noise\n",
        "    Fw = F # Don't include noise\n",
        "    # Fw = F + w # Include noise\n",
        "\n",
        "    # Double-loop PD Controller   \n",
        "    r1_t = -kP_theta*(theta1[i] - theta1_t) - kD_theta*(theta2[i] - theta2_t)\n",
        "    u[i] = - kP_r*(r1[i] - r1_t) - kD_r*(r2[i] - r2_t)\n",
        "    # u[i] = u[i] + (Fw*d1/(mB*d0))*r1[i] # Canceling the nonlinearity\n",
        "\n",
        "    # Old torque calculations:\n",
        "    # theta2_p[i] = (mC*Fw*d1*r1[i])/(mB*mC*(d0**2 + (d1*r1[i])**2))\n",
        "    # theta2_p[i] = (Fw*d1*r1[i] - mB*d0*u[i])/(mB*(d0**2 + (d1*r1[i])**2))\n",
        "\n",
        "    # Torque calculations:\n",
        "    L = np.sqrt(d0**2 + (r1[i]*d1)**2)\n",
        "    I = (mB*mC/(mB+mC))*(L**2) # Moment of inertia\n",
        "    if r1[i] == 0:\n",
        "      Tau_thrust = 0 # Torque due to thrust\n",
        "      Tau_reaction = (mC/(mB+mC))*d0*mC*u[i] # Torque due to reaction force\n",
        "    else:\n",
        "      X = (mC/(mB+mC))*L\n",
        "      # sinphi = d1*r1[i]/L\n",
        "      G = X*d1*r1[i]/L\n",
        "      P = d0*d1*r1[i]/L\n",
        "      Q = d0**2/L\n",
        "      R = Q - X\n",
        "      T = np.sqrt(P**2 + R**2)\n",
        "      Phi = np.arctan(r1[i]*d1/d0)\n",
        "      Psi = np.arctan(R/P)\n",
        "      Xi = np.pi/2 - Phi - Psi\n",
        "      # Nu = np.sqrt(G**2 + T**2)\n",
        "      T = np.sqrt(P**2 + R**2)\n",
        "      Tau_thrust = Fw*G # Torque due to thrust\n",
        "      Tau_reaction = mC*np.cos(Xi)*T*u[i] # Torque due to reaction force\n",
        "    Tau = Tau_thrust # Total torque (ignoring reaction force)\n",
        "    # Tau = Tau_thrust + Tau_reaction # Total torque (including reaction force)\n",
        "\n",
        "    # Equations of Motion\n",
        "    y1_p[i] = y2[i]\n",
        "    y2_p[i] = (Fw/(mB+mC))*np.cos(theta1[i]) - g\n",
        "    x1_p[i] = x2[i]\n",
        "    x2_p[i] = (Fw/(mB+mC))*np.sin(theta1[i])\n",
        "    theta1_p[i] = theta2[i]\n",
        "    theta2_p[i] = Tau/I\n",
        "    r1_p[i] = r2[i]\n",
        "    r2_p[i] = u[i]\n",
        "    \n",
        "    # Euler Approx.\n",
        "    y1[i+1] = y1[i] + y1_p[i]*dt\n",
        "    y2[i+1] = y2[i] + y2_p[i]*dt\n",
        "    x1[i+1] = x1[i] + x1_p[i]*dt\n",
        "    x2[i+1] = x2[i] + x2_p[i]*dt\n",
        "    theta1[i+1] = theta1[i] + theta1_p[i]*dt\n",
        "    theta2[i+1] = theta2[i] + theta2_p[i]*dt\n",
        "    r1[i+1] = r1[i] + r1_p[i]*dt\n",
        "    r2[i+1] = r2[i] + r2_p[i]*dt\n",
        "\n",
        "    i += 1"
      ],
      "execution_count": 21,
      "outputs": []
    },
    {
      "cell_type": "code",
      "metadata": {
        "id": "CicElzkW6YZl",
        "outputId": "23b10fab-1a97-4d74-e113-b468bb458582",
        "colab": {
          "base_uri": "https://localhost:8080/",
          "height": 419
        }
      },
      "source": [
        "x_t = np.linspace(0,np.max(y1),length)\n",
        "y_t = np.tan(np.pi/2 - theta1_t)*x_t\n",
        "\n",
        "plt.plot(x1,y1)\n",
        "plt.plot(x_t,y_t,linestyle=\"dotted\", color=\"black\")\n",
        "rcParams['figure.figsize'] = 12, 6\n",
        "plt.xlabel('x')\n",
        "plt.ylabel('y')\n",
        "plt.title('Trajectory in 2-D Space')\n",
        "plt.grid()\n",
        "plt.axis('equal')\n",
        "plt.xlim(-np.max(y1), np.max(y1))\n",
        "plt.ylim(0, np.max(y1))\n",
        "plt.show()"
      ],
      "execution_count": 22,
      "outputs": [
        {
          "output_type": "display_data",
          "data": {
            "image/png": "[encoded data removed]",
            "text/plain": [
              "<Figure size 864x432 with 1 Axes>"
            ]
          },
          "metadata": {
            "tags": [],
            "needs_background": "light"
          }
        }
      ]
    },
    {
      "cell_type": "code",
      "metadata": {
        "id": "Km_SqUwb6YZp"
      },
      "source": [
        "plt.plot(tvec,theta1)\n",
        "plt.plot(tvec,theta1_t - theta1)\n",
        "rcParams['figure.figsize'] = 12, 6\n",
        "plt.xlabel('tvec')\n",
        "plt.ylabel('angle')\n",
        "plt.title('Error of Angle')\n",
        "plt.xlim(0,tf)\n",
        "# plt.ylim(-0.1,0.1)\n",
        "plt.legend(['Theta','Theta Target Error'])\n",
        "plt.grid()\n",
        "plt.show()"
      ],
      "execution_count": 24,
      "outputs": []
    },
    {
      "cell_type": "code",
      "metadata": {
        "id": "EpbAnfBA6YZs"
      },
      "source": [
        "plt.plot(tvec,r1)\n",
        "rcParams['figure.figsize'] = 12, 6\n",
        "plt.xlabel('t')\n",
        "plt.ylabel('r1')\n",
        "plt.title('Control Mass Position')\n",
        "plt.grid()\n",
        "plt.show()"
      ],
      "execution_count": 20,
      "outputs": []
    }
  ]
}